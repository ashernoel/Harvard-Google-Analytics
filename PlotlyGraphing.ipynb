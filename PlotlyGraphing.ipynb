{
 "cells": [
  {
   "cell_type": "code",
   "execution_count": 2,
   "metadata": {},
   "outputs": [],
   "source": [
    "import chart_studio.plotly as py\n",
    "import pandas as pd\n",
    "import chart_studio\n",
    "chart_studio.tools.set_credentials_file(username='ashernoel', api_key='GyHmzxtalWrE7tIkp4wl')"
   ]
  },
  {
   "cell_type": "code",
   "execution_count": 3,
   "metadata": {},
   "outputs": [
    {
     "name": "stdout",
     "output_type": "stream",
     "text": [
      "[10, 2, 9, 12, 18, 10, 16, 14, 26, 20, 18, 37, 28, 23, 23]\n",
      "slope= 0.16656758068429997 intercept= 2.9328682358650804\n"
     ]
    },
    {
     "data": {
      "text/html": [
       "\n",
       "        <iframe\n",
       "            width=\"100%\"\n",
       "            height=\"525px\"\n",
       "            src=\"https://plot.ly/~ashernoel/187.embed\"\n",
       "            frameborder=\"0\"\n",
       "            allowfullscreen\n",
       "        ></iframe>\n",
       "        "
      ],
      "text/plain": [
       "<IPython.lib.display.IFrame at 0x7f86f477fc88>"
      ]
     },
     "execution_count": 3,
     "metadata": {},
     "output_type": "execute_result"
    }
   ],
   "source": [
    "from sklearn.linear_model import LinearRegression\n",
    "import numpy as np\n",
    "\n",
    "virality = [10, 2, 9, 12, 18, 10, 16, 14, 26, 20, 18, 37, 28, 23, 23] #1000 cutoff\n",
    "subscribers = [6.9, 2.2, 3.4, 5.8, 5.3, 4.7, 5.0, 6.6, 8.3, 6.1, 6.1, 8.8, 9.6, 2.7, 6.8]\n",
    "\n",
    "\n",
    "df = pd.DataFrame({\"virality\": virality, \"subscribers\": subscribers})\n",
    "\n",
    "linearRegressor = LinearRegression()\n",
    "print(df['virality'].tolist())\n",
    "linearRegressor.fit(df[['virality']], df['subscribers'])\n",
    "# trend line starting at 3, ending at 33, and with 15 points. \n",
    "reg_x = np.linspace(2,37,15)\n",
    "\n",
    "reg_y = sorted(linearRegressor.predict(reg_x.reshape(-1, 1)))\n",
    "\n",
    "\n",
    "\n",
    "m=linearRegressor.coef_[0]\n",
    "b=linearRegressor.intercept_\n",
    "print(\"slope=\",m, \"intercept=\",b)\n",
    "\n",
    "\n",
    "fig = {\n",
    "    'data': [\n",
    "        {'x': df.virality.iloc[:4], 'y': df.subscribers.iloc[:4], 'text': df.virality, 'mode': 'markers', 'name': '2016'},\n",
    "        {'x': df.virality.iloc[4:8], 'y': df.subscribers.iloc[4:8], 'text': df.virality, 'mode': 'markers', 'name': '2017'},\n",
    "        {'x': df.virality.iloc[8:12], 'y': df.subscribers.iloc[4:8], 'text': df.virality, 'mode': 'markers', 'name': '2018'},\n",
    "        {'x': df.virality.iloc[12:16], 'y': df.subscribers.iloc[12:16], 'text': df.virality, 'mode': 'markers', 'name': '2019'},\n",
    "        {'x': reg_x,\n",
    "        'y': reg_y,\n",
    "        'name' : 'Least Squares',\n",
    "        'type' : 'scatter' ,\n",
    "        'mode' : 'lines'\n",
    "        \n",
    "        }\n",
    "    ],\n",
    "    'layout': {\n",
    "        'xaxis': {'title': 'Number of Viral Trends Topics'},\n",
    "        'yaxis': {'title': \"Global Net Subscriber Adds\"},\n",
    "        'title': \"Predicting Netflix Global Net Subscriber Additions\"\n",
    "    }\n",
    "}\n",
    "#fig.write_image(\"Predicting Netflix Global Net Subscriber Additions.png\", scale=5)\n",
    "py.iplot(fig, image = 'png', scale=3)\n"
   ]
  },
  {
   "cell_type": "code",
   "execution_count": 4,
   "metadata": {},
   "outputs": [
    {
     "name": "stdout",
     "output_type": "stream",
     "text": [
      "Stanford University\n",
      "Massachusetts Institute of Technology\n",
      "Princeton University\n",
      "Yale University\n",
      "['/m/03ksy', '/m/06pwq', '/m/04rwx', '/m/05zl0', '/m/08815']\n",
      "US\n"
     ]
    },
    {
     "data": {
      "application/vnd.plotly.v1+json": {
       "config": {
        "plotlyServerURL": "https://plot.ly"
       },
       "data": [
        {
         "connectgaps": true,
         "line": {
          "color": "#d2c295",
          "width": 2
         },
         "mode": "lines",
         "name": "Stanford University",
         "type": "scatter",
         "x": [
          2015,
          2016,
          2017,
          2018,
          2019
         ],
         "y": [
          0.2849695916594266,
          0.3201885983711959,
          0.28751753155680226,
          0.29181840252488467,
          0.28006088280060876
         ]
        },
        {
         "marker": {
          "color": "#d2c295",
          "size": 8
         },
         "mode": "markers",
         "showlegend": false,
         "type": "scatter",
         "x": [
          2015,
          2019
         ],
         "y": [
          0.2849695916594266,
          0.28006088280060876
         ]
        },
        {
         "connectgaps": true,
         "line": {
          "color": "#A51C30",
          "width": 2
         },
         "mode": "lines",
         "name": "Harvard University",
         "type": "scatter",
         "x": [
          2015,
          2016,
          2017,
          2018,
          2019
         ],
         "y": [
          0.2906168549087749,
          0.27025289327046725,
          0.29546517064048633,
          0.2978878368536053,
          0.3079654997463216
         ]
        },
        {
         "marker": {
          "color": "#A51C30",
          "size": 8
         },
         "mode": "markers",
         "showlegend": false,
         "type": "scatter",
         "x": [
          2015,
          2019
         ],
         "y": [
          0.2906168549087749,
          0.3079654997463216
         ]
        },
        {
         "connectgaps": true,
         "line": {
          "color": "#0f4d92",
          "width": 2
         },
         "mode": "lines",
         "name": "Yale University",
         "type": "scatter",
         "x": [
          2015,
          2016,
          2017,
          2018,
          2019
         ],
         "y": [
          0.16811468288444828,
          0.17702528932704656,
          0.16947171575502565,
          0.17722748239864036,
          0.1778285134449518
         ]
        },
        {
         "marker": {
          "color": "#0f4d92",
          "size": 8
         },
         "mode": "markers",
         "showlegend": false,
         "type": "scatter",
         "x": [
          2015,
          2019
         ],
         "y": [
          0.16811468288444828,
          0.1778285134449518
         ]
        },
        {
         "connectgaps": true,
         "line": {
          "color": "#8A8B8C",
          "width": 2
         },
         "mode": "lines",
         "name": "Massachusetts Institute of Technology",
         "type": "scatter",
         "x": [
          2015,
          2016,
          2017,
          2018,
          2019
         ],
         "y": [
          0.1676802780191138,
          0.1463780540077154,
          0.15614773258532016,
          0.14833697499393056,
          0.1481481481481482
         ]
        },
        {
         "marker": {
          "color": "#8A8B8C",
          "size": 8
         },
         "mode": "markers",
         "showlegend": false,
         "type": "scatter",
         "x": [
          2015,
          2019
         ],
         "y": [
          0.1676802780191138,
          0.1481481481481482
         ]
        },
        {
         "connectgaps": true,
         "line": {
          "color": "#ff8f00",
          "width": 2
         },
         "mode": "lines",
         "name": "Princeton University",
         "type": "scatter",
         "x": [
          2015,
          2016,
          2017,
          2018,
          2019
         ],
         "y": [
          0.08861859252823633,
          0.0861551650235748,
          0.09139784946236562,
          0.08472930322893907,
          0.08599695585996957
         ]
        },
        {
         "marker": {
          "color": "#ff8f00",
          "size": 8
         },
         "mode": "markers",
         "showlegend": false,
         "type": "scatter",
         "x": [
          2015,
          2019
         ],
         "y": [
          0.08861859252823633,
          0.08599695585996957
         ]
        }
       ],
       "layout": {
        "annotations": [
         {
          "font": {
           "family": "Arial",
           "size": 12
          },
          "showarrow": false,
          "text": "0.28",
          "x": 1,
          "xanchor": "right",
          "xref": "paper",
          "y": 0.28006088280060876,
          "yanchor": "middle"
         },
         {
          "font": {
           "family": "Arial",
           "size": 12
          },
          "showarrow": false,
          "text": "0.31",
          "x": 1,
          "xanchor": "right",
          "xref": "paper",
          "y": 0.3079654997463216,
          "yanchor": "middle"
         },
         {
          "font": {
           "family": "Arial",
           "size": 12
          },
          "showarrow": false,
          "text": "0.18",
          "x": 1,
          "xanchor": "right",
          "xref": "paper",
          "y": 0.1778285134449518,
          "yanchor": "middle"
         },
         {
          "font": {
           "family": "Arial",
           "size": 12
          },
          "showarrow": false,
          "text": "0.15",
          "x": 1,
          "xanchor": "right",
          "xref": "paper",
          "y": 0.1481481481481482,
          "yanchor": "middle"
         },
         {
          "font": {
           "family": "Arial",
           "size": 12
          },
          "showarrow": false,
          "text": "0.09",
          "x": 1,
          "xanchor": "right",
          "xref": "paper",
          "y": 0.08599695585996957,
          "yanchor": "middle"
         },
         {
          "font": {
           "color": "rgb(37,37,37)",
           "family": "Arial",
           "size": 20
          },
          "showarrow": false,
          "text": "US HYPSM Search Trends",
          "x": 0,
          "xanchor": "left",
          "xref": "paper",
          "y": 1.05,
          "yanchor": "bottom",
          "yref": "paper"
         },
         {
          "font": {
           "color": "rgb(150,150,150)",
           "family": "Arial",
           "size": 12
          },
          "showarrow": false,
          "text": "Source: Harvard Open Data Project",
          "x": 0.5,
          "xanchor": "center",
          "xref": "paper",
          "y": -0.1,
          "yanchor": "top",
          "yref": "paper"
         }
        ],
        "autosize": false,
        "margin": {
         "autoexpand": false,
         "l": 100,
         "r": 200,
         "t": 110
        },
        "plot_bgcolor": "white",
        "showlegend": true,
        "template": {
         "data": {
          "bar": [
           {
            "error_x": {
             "color": "#2a3f5f"
            },
            "error_y": {
             "color": "#2a3f5f"
            },
            "marker": {
             "line": {
              "color": "#E5ECF6",
              "width": 0.5
             }
            },
            "type": "bar"
           }
          ],
          "barpolar": [
           {
            "marker": {
             "line": {
              "color": "#E5ECF6",
              "width": 0.5
             }
            },
            "type": "barpolar"
           }
          ],
          "carpet": [
           {
            "aaxis": {
             "endlinecolor": "#2a3f5f",
             "gridcolor": "white",
             "linecolor": "white",
             "minorgridcolor": "white",
             "startlinecolor": "#2a3f5f"
            },
            "baxis": {
             "endlinecolor": "#2a3f5f",
             "gridcolor": "white",
             "linecolor": "white",
             "minorgridcolor": "white",
             "startlinecolor": "#2a3f5f"
            },
            "type": "carpet"
           }
          ],
          "choropleth": [
           {
            "colorbar": {
             "outlinewidth": 0,
             "ticks": ""
            },
            "type": "choropleth"
           }
          ],
          "contour": [
           {
            "colorbar": {
             "outlinewidth": 0,
             "ticks": ""
            },
            "colorscale": [
             [
              0,
              "#0d0887"
             ],
             [
              0.1111111111111111,
              "#46039f"
             ],
             [
              0.2222222222222222,
              "#7201a8"
             ],
             [
              0.3333333333333333,
              "#9c179e"
             ],
             [
              0.4444444444444444,
              "#bd3786"
             ],
             [
              0.5555555555555556,
              "#d8576b"
             ],
             [
              0.6666666666666666,
              "#ed7953"
             ],
             [
              0.7777777777777778,
              "#fb9f3a"
             ],
             [
              0.8888888888888888,
              "#fdca26"
             ],
             [
              1,
              "#f0f921"
             ]
            ],
            "type": "contour"
           }
          ],
          "contourcarpet": [
           {
            "colorbar": {
             "outlinewidth": 0,
             "ticks": ""
            },
            "type": "contourcarpet"
           }
          ],
          "heatmap": [
           {
            "colorbar": {
             "outlinewidth": 0,
             "ticks": ""
            },
            "colorscale": [
             [
              0,
              "#0d0887"
             ],
             [
              0.1111111111111111,
              "#46039f"
             ],
             [
              0.2222222222222222,
              "#7201a8"
             ],
             [
              0.3333333333333333,
              "#9c179e"
             ],
             [
              0.4444444444444444,
              "#bd3786"
             ],
             [
              0.5555555555555556,
              "#d8576b"
             ],
             [
              0.6666666666666666,
              "#ed7953"
             ],
             [
              0.7777777777777778,
              "#fb9f3a"
             ],
             [
              0.8888888888888888,
              "#fdca26"
             ],
             [
              1,
              "#f0f921"
             ]
            ],
            "type": "heatmap"
           }
          ],
          "heatmapgl": [
           {
            "colorbar": {
             "outlinewidth": 0,
             "ticks": ""
            },
            "colorscale": [
             [
              0,
              "#0d0887"
             ],
             [
              0.1111111111111111,
              "#46039f"
             ],
             [
              0.2222222222222222,
              "#7201a8"
             ],
             [
              0.3333333333333333,
              "#9c179e"
             ],
             [
              0.4444444444444444,
              "#bd3786"
             ],
             [
              0.5555555555555556,
              "#d8576b"
             ],
             [
              0.6666666666666666,
              "#ed7953"
             ],
             [
              0.7777777777777778,
              "#fb9f3a"
             ],
             [
              0.8888888888888888,
              "#fdca26"
             ],
             [
              1,
              "#f0f921"
             ]
            ],
            "type": "heatmapgl"
           }
          ],
          "histogram": [
           {
            "marker": {
             "colorbar": {
              "outlinewidth": 0,
              "ticks": ""
             }
            },
            "type": "histogram"
           }
          ],
          "histogram2d": [
           {
            "colorbar": {
             "outlinewidth": 0,
             "ticks": ""
            },
            "colorscale": [
             [
              0,
              "#0d0887"
             ],
             [
              0.1111111111111111,
              "#46039f"
             ],
             [
              0.2222222222222222,
              "#7201a8"
             ],
             [
              0.3333333333333333,
              "#9c179e"
             ],
             [
              0.4444444444444444,
              "#bd3786"
             ],
             [
              0.5555555555555556,
              "#d8576b"
             ],
             [
              0.6666666666666666,
              "#ed7953"
             ],
             [
              0.7777777777777778,
              "#fb9f3a"
             ],
             [
              0.8888888888888888,
              "#fdca26"
             ],
             [
              1,
              "#f0f921"
             ]
            ],
            "type": "histogram2d"
           }
          ],
          "histogram2dcontour": [
           {
            "colorbar": {
             "outlinewidth": 0,
             "ticks": ""
            },
            "colorscale": [
             [
              0,
              "#0d0887"
             ],
             [
              0.1111111111111111,
              "#46039f"
             ],
             [
              0.2222222222222222,
              "#7201a8"
             ],
             [
              0.3333333333333333,
              "#9c179e"
             ],
             [
              0.4444444444444444,
              "#bd3786"
             ],
             [
              0.5555555555555556,
              "#d8576b"
             ],
             [
              0.6666666666666666,
              "#ed7953"
             ],
             [
              0.7777777777777778,
              "#fb9f3a"
             ],
             [
              0.8888888888888888,
              "#fdca26"
             ],
             [
              1,
              "#f0f921"
             ]
            ],
            "type": "histogram2dcontour"
           }
          ],
          "mesh3d": [
           {
            "colorbar": {
             "outlinewidth": 0,
             "ticks": ""
            },
            "type": "mesh3d"
           }
          ],
          "parcoords": [
           {
            "line": {
             "colorbar": {
              "outlinewidth": 0,
              "ticks": ""
             }
            },
            "type": "parcoords"
           }
          ],
          "scatter": [
           {
            "marker": {
             "colorbar": {
              "outlinewidth": 0,
              "ticks": ""
             }
            },
            "type": "scatter"
           }
          ],
          "scatter3d": [
           {
            "line": {
             "colorbar": {
              "outlinewidth": 0,
              "ticks": ""
             }
            },
            "marker": {
             "colorbar": {
              "outlinewidth": 0,
              "ticks": ""
             }
            },
            "type": "scatter3d"
           }
          ],
          "scattercarpet": [
           {
            "marker": {
             "colorbar": {
              "outlinewidth": 0,
              "ticks": ""
             }
            },
            "type": "scattercarpet"
           }
          ],
          "scattergeo": [
           {
            "marker": {
             "colorbar": {
              "outlinewidth": 0,
              "ticks": ""
             }
            },
            "type": "scattergeo"
           }
          ],
          "scattergl": [
           {
            "marker": {
             "colorbar": {
              "outlinewidth": 0,
              "ticks": ""
             }
            },
            "type": "scattergl"
           }
          ],
          "scattermapbox": [
           {
            "marker": {
             "colorbar": {
              "outlinewidth": 0,
              "ticks": ""
             }
            },
            "type": "scattermapbox"
           }
          ],
          "scatterpolar": [
           {
            "marker": {
             "colorbar": {
              "outlinewidth": 0,
              "ticks": ""
             }
            },
            "type": "scatterpolar"
           }
          ],
          "scatterpolargl": [
           {
            "marker": {
             "colorbar": {
              "outlinewidth": 0,
              "ticks": ""
             }
            },
            "type": "scatterpolargl"
           }
          ],
          "scatterternary": [
           {
            "marker": {
             "colorbar": {
              "outlinewidth": 0,
              "ticks": ""
             }
            },
            "type": "scatterternary"
           }
          ],
          "surface": [
           {
            "colorbar": {
             "outlinewidth": 0,
             "ticks": ""
            },
            "colorscale": [
             [
              0,
              "#0d0887"
             ],
             [
              0.1111111111111111,
              "#46039f"
             ],
             [
              0.2222222222222222,
              "#7201a8"
             ],
             [
              0.3333333333333333,
              "#9c179e"
             ],
             [
              0.4444444444444444,
              "#bd3786"
             ],
             [
              0.5555555555555556,
              "#d8576b"
             ],
             [
              0.6666666666666666,
              "#ed7953"
             ],
             [
              0.7777777777777778,
              "#fb9f3a"
             ],
             [
              0.8888888888888888,
              "#fdca26"
             ],
             [
              1,
              "#f0f921"
             ]
            ],
            "type": "surface"
           }
          ],
          "table": [
           {
            "cells": {
             "fill": {
              "color": "#EBF0F8"
             },
             "line": {
              "color": "white"
             }
            },
            "header": {
             "fill": {
              "color": "#C8D4E3"
             },
             "line": {
              "color": "white"
             }
            },
            "type": "table"
           }
          ]
         },
         "layout": {
          "annotationdefaults": {
           "arrowcolor": "#2a3f5f",
           "arrowhead": 0,
           "arrowwidth": 1
          },
          "colorscale": {
           "diverging": [
            [
             0,
             "#8e0152"
            ],
            [
             0.1,
             "#c51b7d"
            ],
            [
             0.2,
             "#de77ae"
            ],
            [
             0.3,
             "#f1b6da"
            ],
            [
             0.4,
             "#fde0ef"
            ],
            [
             0.5,
             "#f7f7f7"
            ],
            [
             0.6,
             "#e6f5d0"
            ],
            [
             0.7,
             "#b8e186"
            ],
            [
             0.8,
             "#7fbc41"
            ],
            [
             0.9,
             "#4d9221"
            ],
            [
             1,
             "#276419"
            ]
           ],
           "sequential": [
            [
             0,
             "#0d0887"
            ],
            [
             0.1111111111111111,
             "#46039f"
            ],
            [
             0.2222222222222222,
             "#7201a8"
            ],
            [
             0.3333333333333333,
             "#9c179e"
            ],
            [
             0.4444444444444444,
             "#bd3786"
            ],
            [
             0.5555555555555556,
             "#d8576b"
            ],
            [
             0.6666666666666666,
             "#ed7953"
            ],
            [
             0.7777777777777778,
             "#fb9f3a"
            ],
            [
             0.8888888888888888,
             "#fdca26"
            ],
            [
             1,
             "#f0f921"
            ]
           ],
           "sequentialminus": [
            [
             0,
             "#0d0887"
            ],
            [
             0.1111111111111111,
             "#46039f"
            ],
            [
             0.2222222222222222,
             "#7201a8"
            ],
            [
             0.3333333333333333,
             "#9c179e"
            ],
            [
             0.4444444444444444,
             "#bd3786"
            ],
            [
             0.5555555555555556,
             "#d8576b"
            ],
            [
             0.6666666666666666,
             "#ed7953"
            ],
            [
             0.7777777777777778,
             "#fb9f3a"
            ],
            [
             0.8888888888888888,
             "#fdca26"
            ],
            [
             1,
             "#f0f921"
            ]
           ]
          },
          "colorway": [
           "#636efa",
           "#EF553B",
           "#00cc96",
           "#ab63fa",
           "#FFA15A",
           "#19d3f3",
           "#FF6692",
           "#B6E880",
           "#FF97FF",
           "#FECB52"
          ],
          "font": {
           "color": "#2a3f5f"
          },
          "geo": {
           "bgcolor": "white",
           "lakecolor": "white",
           "landcolor": "#E5ECF6",
           "showlakes": true,
           "showland": true,
           "subunitcolor": "white"
          },
          "hoverlabel": {
           "align": "left"
          },
          "hovermode": "closest",
          "mapbox": {
           "style": "light"
          },
          "paper_bgcolor": "white",
          "plot_bgcolor": "#E5ECF6",
          "polar": {
           "angularaxis": {
            "gridcolor": "white",
            "linecolor": "white",
            "ticks": ""
           },
           "bgcolor": "#E5ECF6",
           "radialaxis": {
            "gridcolor": "white",
            "linecolor": "white",
            "ticks": ""
           }
          },
          "scene": {
           "xaxis": {
            "backgroundcolor": "#E5ECF6",
            "gridcolor": "white",
            "gridwidth": 2,
            "linecolor": "white",
            "showbackground": true,
            "ticks": "",
            "zerolinecolor": "white"
           },
           "yaxis": {
            "backgroundcolor": "#E5ECF6",
            "gridcolor": "white",
            "gridwidth": 2,
            "linecolor": "white",
            "showbackground": true,
            "ticks": "",
            "zerolinecolor": "white"
           },
           "zaxis": {
            "backgroundcolor": "#E5ECF6",
            "gridcolor": "white",
            "gridwidth": 2,
            "linecolor": "white",
            "showbackground": true,
            "ticks": "",
            "zerolinecolor": "white"
           }
          },
          "shapedefaults": {
           "line": {
            "color": "#2a3f5f"
           }
          },
          "ternary": {
           "aaxis": {
            "gridcolor": "white",
            "linecolor": "white",
            "ticks": ""
           },
           "baxis": {
            "gridcolor": "white",
            "linecolor": "white",
            "ticks": ""
           },
           "bgcolor": "#E5ECF6",
           "caxis": {
            "gridcolor": "white",
            "linecolor": "white",
            "ticks": ""
           }
          },
          "title": {
           "x": 0.05
          },
          "xaxis": {
           "automargin": true,
           "gridcolor": "white",
           "linecolor": "white",
           "ticks": "",
           "zerolinecolor": "white",
           "zerolinewidth": 2
          },
          "yaxis": {
           "automargin": true,
           "gridcolor": "white",
           "linecolor": "white",
           "ticks": "",
           "zerolinecolor": "white",
           "zerolinewidth": 2
          }
         }
        },
        "xaxis": {
         "linecolor": "rgb(204, 204, 204)",
         "linewidth": 2,
         "showgrid": false,
         "showline": true,
         "showticklabels": true,
         "tickfont": {
          "color": "rgb(82, 82, 82)",
          "family": "Arial",
          "size": 12
         },
         "ticks": "outside"
        },
        "yaxis": {
         "showgrid": false,
         "showline": false,
         "showticklabels": false,
         "zeroline": false
        }
       }
      },
      "text/html": [
       "<div>\n",
       "        \n",
       "        \n",
       "            <div id=\"1871a8d5-ae3f-43df-9f31-53d0ab82cadd\" class=\"plotly-graph-div\" style=\"height:525px; width:100%;\"></div>\n",
       "            <script type=\"text/javascript\">\n",
       "                require([\"plotly\"], function(Plotly) {\n",
       "                    window.PLOTLYENV=window.PLOTLYENV || {};\n",
       "                    \n",
       "                if (document.getElementById(\"1871a8d5-ae3f-43df-9f31-53d0ab82cadd\")) {\n",
       "                    Plotly.newPlot(\n",
       "                        '1871a8d5-ae3f-43df-9f31-53d0ab82cadd',\n",
       "                        [{\"connectgaps\": true, \"line\": {\"color\": \"#d2c295\", \"width\": 2}, \"mode\": \"lines\", \"name\": \"Stanford University\", \"type\": \"scatter\", \"x\": [2015, 2016, 2017, 2018, 2019], \"y\": [0.2849695916594266, 0.3201885983711959, 0.28751753155680226, 0.29181840252488467, 0.28006088280060876]}, {\"marker\": {\"color\": \"#d2c295\", \"size\": 8}, \"mode\": \"markers\", \"showlegend\": false, \"type\": \"scatter\", \"x\": [2015, 2019], \"y\": [0.2849695916594266, 0.28006088280060876]}, {\"connectgaps\": true, \"line\": {\"color\": \"#A51C30\", \"width\": 2}, \"mode\": \"lines\", \"name\": \"Harvard University\", \"type\": \"scatter\", \"x\": [2015, 2016, 2017, 2018, 2019], \"y\": [0.2906168549087749, 0.27025289327046725, 0.29546517064048633, 0.2978878368536053, 0.3079654997463216]}, {\"marker\": {\"color\": \"#A51C30\", \"size\": 8}, \"mode\": \"markers\", \"showlegend\": false, \"type\": \"scatter\", \"x\": [2015, 2019], \"y\": [0.2906168549087749, 0.3079654997463216]}, {\"connectgaps\": true, \"line\": {\"color\": \"#0f4d92\", \"width\": 2}, \"mode\": \"lines\", \"name\": \"Yale University\", \"type\": \"scatter\", \"x\": [2015, 2016, 2017, 2018, 2019], \"y\": [0.16811468288444828, 0.17702528932704656, 0.16947171575502565, 0.17722748239864036, 0.1778285134449518]}, {\"marker\": {\"color\": \"#0f4d92\", \"size\": 8}, \"mode\": \"markers\", \"showlegend\": false, \"type\": \"scatter\", \"x\": [2015, 2019], \"y\": [0.16811468288444828, 0.1778285134449518]}, {\"connectgaps\": true, \"line\": {\"color\": \"#8A8B8C\", \"width\": 2}, \"mode\": \"lines\", \"name\": \"Massachusetts Institute of Technology\", \"type\": \"scatter\", \"x\": [2015, 2016, 2017, 2018, 2019], \"y\": [0.1676802780191138, 0.1463780540077154, 0.15614773258532016, 0.14833697499393056, 0.1481481481481482]}, {\"marker\": {\"color\": \"#8A8B8C\", \"size\": 8}, \"mode\": \"markers\", \"showlegend\": false, \"type\": \"scatter\", \"x\": [2015, 2019], \"y\": [0.1676802780191138, 0.1481481481481482]}, {\"connectgaps\": true, \"line\": {\"color\": \"#ff8f00\", \"width\": 2}, \"mode\": \"lines\", \"name\": \"Princeton University\", \"type\": \"scatter\", \"x\": [2015, 2016, 2017, 2018, 2019], \"y\": [0.08861859252823633, 0.0861551650235748, 0.09139784946236562, 0.08472930322893907, 0.08599695585996957]}, {\"marker\": {\"color\": \"#ff8f00\", \"size\": 8}, \"mode\": \"markers\", \"showlegend\": false, \"type\": \"scatter\", \"x\": [2015, 2019], \"y\": [0.08861859252823633, 0.08599695585996957]}],\n",
       "                        {\"annotations\": [{\"font\": {\"family\": \"Arial\", \"size\": 12}, \"showarrow\": false, \"text\": \"0.28\", \"x\": 1, \"xanchor\": \"right\", \"xref\": \"paper\", \"y\": 0.28006088280060876, \"yanchor\": \"middle\"}, {\"font\": {\"family\": \"Arial\", \"size\": 12}, \"showarrow\": false, \"text\": \"0.31\", \"x\": 1, \"xanchor\": \"right\", \"xref\": \"paper\", \"y\": 0.3079654997463216, \"yanchor\": \"middle\"}, {\"font\": {\"family\": \"Arial\", \"size\": 12}, \"showarrow\": false, \"text\": \"0.18\", \"x\": 1, \"xanchor\": \"right\", \"xref\": \"paper\", \"y\": 0.1778285134449518, \"yanchor\": \"middle\"}, {\"font\": {\"family\": \"Arial\", \"size\": 12}, \"showarrow\": false, \"text\": \"0.15\", \"x\": 1, \"xanchor\": \"right\", \"xref\": \"paper\", \"y\": 0.1481481481481482, \"yanchor\": \"middle\"}, {\"font\": {\"family\": \"Arial\", \"size\": 12}, \"showarrow\": false, \"text\": \"0.09\", \"x\": 1, \"xanchor\": \"right\", \"xref\": \"paper\", \"y\": 0.08599695585996957, \"yanchor\": \"middle\"}, {\"font\": {\"color\": \"rgb(37,37,37)\", \"family\": \"Arial\", \"size\": 20}, \"showarrow\": false, \"text\": \"US HYPSM Search Trends\", \"x\": 0.0, \"xanchor\": \"left\", \"xref\": \"paper\", \"y\": 1.05, \"yanchor\": \"bottom\", \"yref\": \"paper\"}, {\"font\": {\"color\": \"rgb(150,150,150)\", \"family\": \"Arial\", \"size\": 12}, \"showarrow\": false, \"text\": \"Source: Harvard Open Data Project\", \"x\": 0.5, \"xanchor\": \"center\", \"xref\": \"paper\", \"y\": -0.1, \"yanchor\": \"top\", \"yref\": \"paper\"}], \"autosize\": false, \"margin\": {\"autoexpand\": false, \"l\": 100, \"r\": 200, \"t\": 110}, \"plot_bgcolor\": \"white\", \"showlegend\": true, \"template\": {\"data\": {\"bar\": [{\"error_x\": {\"color\": \"#2a3f5f\"}, \"error_y\": {\"color\": \"#2a3f5f\"}, \"marker\": {\"line\": {\"color\": \"#E5ECF6\", \"width\": 0.5}}, \"type\": \"bar\"}], \"barpolar\": [{\"marker\": {\"line\": {\"color\": \"#E5ECF6\", \"width\": 0.5}}, \"type\": \"barpolar\"}], \"carpet\": [{\"aaxis\": {\"endlinecolor\": \"#2a3f5f\", \"gridcolor\": \"white\", \"linecolor\": \"white\", \"minorgridcolor\": \"white\", \"startlinecolor\": \"#2a3f5f\"}, \"baxis\": {\"endlinecolor\": \"#2a3f5f\", \"gridcolor\": \"white\", \"linecolor\": \"white\", \"minorgridcolor\": \"white\", \"startlinecolor\": \"#2a3f5f\"}, \"type\": \"carpet\"}], \"choropleth\": [{\"colorbar\": {\"outlinewidth\": 0, \"ticks\": \"\"}, \"type\": \"choropleth\"}], \"contour\": [{\"colorbar\": {\"outlinewidth\": 0, \"ticks\": \"\"}, \"colorscale\": [[0.0, \"#0d0887\"], [0.1111111111111111, \"#46039f\"], [0.2222222222222222, \"#7201a8\"], [0.3333333333333333, \"#9c179e\"], [0.4444444444444444, \"#bd3786\"], [0.5555555555555556, \"#d8576b\"], [0.6666666666666666, \"#ed7953\"], [0.7777777777777778, \"#fb9f3a\"], [0.8888888888888888, \"#fdca26\"], [1.0, \"#f0f921\"]], \"type\": \"contour\"}], \"contourcarpet\": [{\"colorbar\": {\"outlinewidth\": 0, \"ticks\": \"\"}, \"type\": \"contourcarpet\"}], \"heatmap\": [{\"colorbar\": {\"outlinewidth\": 0, \"ticks\": \"\"}, \"colorscale\": [[0.0, \"#0d0887\"], [0.1111111111111111, \"#46039f\"], [0.2222222222222222, \"#7201a8\"], [0.3333333333333333, \"#9c179e\"], [0.4444444444444444, \"#bd3786\"], [0.5555555555555556, \"#d8576b\"], [0.6666666666666666, \"#ed7953\"], [0.7777777777777778, \"#fb9f3a\"], [0.8888888888888888, \"#fdca26\"], [1.0, \"#f0f921\"]], \"type\": \"heatmap\"}], \"heatmapgl\": [{\"colorbar\": {\"outlinewidth\": 0, \"ticks\": \"\"}, \"colorscale\": [[0.0, \"#0d0887\"], [0.1111111111111111, \"#46039f\"], [0.2222222222222222, \"#7201a8\"], [0.3333333333333333, \"#9c179e\"], [0.4444444444444444, \"#bd3786\"], [0.5555555555555556, \"#d8576b\"], [0.6666666666666666, \"#ed7953\"], [0.7777777777777778, \"#fb9f3a\"], [0.8888888888888888, \"#fdca26\"], [1.0, \"#f0f921\"]], \"type\": \"heatmapgl\"}], \"histogram\": [{\"marker\": {\"colorbar\": {\"outlinewidth\": 0, \"ticks\": \"\"}}, \"type\": \"histogram\"}], \"histogram2d\": [{\"colorbar\": {\"outlinewidth\": 0, \"ticks\": \"\"}, \"colorscale\": [[0.0, \"#0d0887\"], [0.1111111111111111, \"#46039f\"], [0.2222222222222222, \"#7201a8\"], [0.3333333333333333, \"#9c179e\"], [0.4444444444444444, \"#bd3786\"], [0.5555555555555556, \"#d8576b\"], [0.6666666666666666, \"#ed7953\"], [0.7777777777777778, \"#fb9f3a\"], [0.8888888888888888, \"#fdca26\"], [1.0, \"#f0f921\"]], \"type\": \"histogram2d\"}], \"histogram2dcontour\": [{\"colorbar\": {\"outlinewidth\": 0, \"ticks\": \"\"}, \"colorscale\": [[0.0, \"#0d0887\"], [0.1111111111111111, \"#46039f\"], [0.2222222222222222, \"#7201a8\"], [0.3333333333333333, \"#9c179e\"], [0.4444444444444444, \"#bd3786\"], [0.5555555555555556, \"#d8576b\"], [0.6666666666666666, \"#ed7953\"], [0.7777777777777778, \"#fb9f3a\"], [0.8888888888888888, \"#fdca26\"], [1.0, \"#f0f921\"]], \"type\": \"histogram2dcontour\"}], \"mesh3d\": [{\"colorbar\": {\"outlinewidth\": 0, \"ticks\": \"\"}, \"type\": \"mesh3d\"}], \"parcoords\": [{\"line\": {\"colorbar\": {\"outlinewidth\": 0, \"ticks\": \"\"}}, \"type\": \"parcoords\"}], \"scatter\": [{\"marker\": {\"colorbar\": {\"outlinewidth\": 0, \"ticks\": \"\"}}, \"type\": \"scatter\"}], \"scatter3d\": [{\"line\": {\"colorbar\": {\"outlinewidth\": 0, \"ticks\": \"\"}}, \"marker\": {\"colorbar\": {\"outlinewidth\": 0, \"ticks\": \"\"}}, \"type\": \"scatter3d\"}], \"scattercarpet\": [{\"marker\": {\"colorbar\": {\"outlinewidth\": 0, \"ticks\": \"\"}}, \"type\": \"scattercarpet\"}], \"scattergeo\": [{\"marker\": {\"colorbar\": {\"outlinewidth\": 0, \"ticks\": \"\"}}, \"type\": \"scattergeo\"}], \"scattergl\": [{\"marker\": {\"colorbar\": {\"outlinewidth\": 0, \"ticks\": \"\"}}, \"type\": \"scattergl\"}], \"scattermapbox\": [{\"marker\": {\"colorbar\": {\"outlinewidth\": 0, \"ticks\": \"\"}}, \"type\": \"scattermapbox\"}], \"scatterpolar\": [{\"marker\": {\"colorbar\": {\"outlinewidth\": 0, \"ticks\": \"\"}}, \"type\": \"scatterpolar\"}], \"scatterpolargl\": [{\"marker\": {\"colorbar\": {\"outlinewidth\": 0, \"ticks\": \"\"}}, \"type\": \"scatterpolargl\"}], \"scatterternary\": [{\"marker\": {\"colorbar\": {\"outlinewidth\": 0, \"ticks\": \"\"}}, \"type\": \"scatterternary\"}], \"surface\": [{\"colorbar\": {\"outlinewidth\": 0, \"ticks\": \"\"}, \"colorscale\": [[0.0, \"#0d0887\"], [0.1111111111111111, \"#46039f\"], [0.2222222222222222, \"#7201a8\"], [0.3333333333333333, \"#9c179e\"], [0.4444444444444444, \"#bd3786\"], [0.5555555555555556, \"#d8576b\"], [0.6666666666666666, \"#ed7953\"], [0.7777777777777778, \"#fb9f3a\"], [0.8888888888888888, \"#fdca26\"], [1.0, \"#f0f921\"]], \"type\": \"surface\"}], \"table\": [{\"cells\": {\"fill\": {\"color\": \"#EBF0F8\"}, \"line\": {\"color\": \"white\"}}, \"header\": {\"fill\": {\"color\": \"#C8D4E3\"}, \"line\": {\"color\": \"white\"}}, \"type\": \"table\"}]}, \"layout\": {\"annotationdefaults\": {\"arrowcolor\": \"#2a3f5f\", \"arrowhead\": 0, \"arrowwidth\": 1}, \"colorscale\": {\"diverging\": [[0, \"#8e0152\"], [0.1, \"#c51b7d\"], [0.2, \"#de77ae\"], [0.3, \"#f1b6da\"], [0.4, \"#fde0ef\"], [0.5, \"#f7f7f7\"], [0.6, \"#e6f5d0\"], [0.7, \"#b8e186\"], [0.8, \"#7fbc41\"], [0.9, \"#4d9221\"], [1, \"#276419\"]], \"sequential\": [[0.0, \"#0d0887\"], [0.1111111111111111, \"#46039f\"], [0.2222222222222222, \"#7201a8\"], [0.3333333333333333, \"#9c179e\"], [0.4444444444444444, \"#bd3786\"], [0.5555555555555556, \"#d8576b\"], [0.6666666666666666, \"#ed7953\"], [0.7777777777777778, \"#fb9f3a\"], [0.8888888888888888, \"#fdca26\"], [1.0, \"#f0f921\"]], \"sequentialminus\": [[0.0, \"#0d0887\"], [0.1111111111111111, \"#46039f\"], [0.2222222222222222, \"#7201a8\"], [0.3333333333333333, \"#9c179e\"], [0.4444444444444444, \"#bd3786\"], [0.5555555555555556, \"#d8576b\"], [0.6666666666666666, \"#ed7953\"], [0.7777777777777778, \"#fb9f3a\"], [0.8888888888888888, \"#fdca26\"], [1.0, \"#f0f921\"]]}, \"colorway\": [\"#636efa\", \"#EF553B\", \"#00cc96\", \"#ab63fa\", \"#FFA15A\", \"#19d3f3\", \"#FF6692\", \"#B6E880\", \"#FF97FF\", \"#FECB52\"], \"font\": {\"color\": \"#2a3f5f\"}, \"geo\": {\"bgcolor\": \"white\", \"lakecolor\": \"white\", \"landcolor\": \"#E5ECF6\", \"showlakes\": true, \"showland\": true, \"subunitcolor\": \"white\"}, \"hoverlabel\": {\"align\": \"left\"}, \"hovermode\": \"closest\", \"mapbox\": {\"style\": \"light\"}, \"paper_bgcolor\": \"white\", \"plot_bgcolor\": \"#E5ECF6\", \"polar\": {\"angularaxis\": {\"gridcolor\": \"white\", \"linecolor\": \"white\", \"ticks\": \"\"}, \"bgcolor\": \"#E5ECF6\", \"radialaxis\": {\"gridcolor\": \"white\", \"linecolor\": \"white\", \"ticks\": \"\"}}, \"scene\": {\"xaxis\": {\"backgroundcolor\": \"#E5ECF6\", \"gridcolor\": \"white\", \"gridwidth\": 2, \"linecolor\": \"white\", \"showbackground\": true, \"ticks\": \"\", \"zerolinecolor\": \"white\"}, \"yaxis\": {\"backgroundcolor\": \"#E5ECF6\", \"gridcolor\": \"white\", \"gridwidth\": 2, \"linecolor\": \"white\", \"showbackground\": true, \"ticks\": \"\", \"zerolinecolor\": \"white\"}, \"zaxis\": {\"backgroundcolor\": \"#E5ECF6\", \"gridcolor\": \"white\", \"gridwidth\": 2, \"linecolor\": \"white\", \"showbackground\": true, \"ticks\": \"\", \"zerolinecolor\": \"white\"}}, \"shapedefaults\": {\"line\": {\"color\": \"#2a3f5f\"}}, \"ternary\": {\"aaxis\": {\"gridcolor\": \"white\", \"linecolor\": \"white\", \"ticks\": \"\"}, \"baxis\": {\"gridcolor\": \"white\", \"linecolor\": \"white\", \"ticks\": \"\"}, \"bgcolor\": \"#E5ECF6\", \"caxis\": {\"gridcolor\": \"white\", \"linecolor\": \"white\", \"ticks\": \"\"}}, \"title\": {\"x\": 0.05}, \"xaxis\": {\"automargin\": true, \"gridcolor\": \"white\", \"linecolor\": \"white\", \"ticks\": \"\", \"zerolinecolor\": \"white\", \"zerolinewidth\": 2}, \"yaxis\": {\"automargin\": true, \"gridcolor\": \"white\", \"linecolor\": \"white\", \"ticks\": \"\", \"zerolinecolor\": \"white\", \"zerolinewidth\": 2}}}, \"xaxis\": {\"linecolor\": \"rgb(204, 204, 204)\", \"linewidth\": 2, \"showgrid\": false, \"showline\": true, \"showticklabels\": true, \"tickfont\": {\"color\": \"rgb(82, 82, 82)\", \"family\": \"Arial\", \"size\": 12}, \"ticks\": \"outside\"}, \"yaxis\": {\"showgrid\": false, \"showline\": false, \"showticklabels\": false, \"zeroline\": false}},\n",
       "                        {\"responsive\": true}\n",
       "                    ).then(function(){\n",
       "                            \n",
       "var gd = document.getElementById('1871a8d5-ae3f-43df-9f31-53d0ab82cadd');\n",
       "var x = new MutationObserver(function (mutations, observer) {{\n",
       "        var display = window.getComputedStyle(gd).display;\n",
       "        if (!display || display === 'none') {{\n",
       "            console.log([gd, 'removed!']);\n",
       "            Plotly.purge(gd);\n",
       "            observer.disconnect();\n",
       "        }}\n",
       "}});\n",
       "\n",
       "// Listen for the removal of the full notebook cells\n",
       "var notebookContainer = gd.closest('#notebook-container');\n",
       "if (notebookContainer) {{\n",
       "    x.observe(notebookContainer, {childList: true});\n",
       "}}\n",
       "\n",
       "// Listen for the clearing of the current output cell\n",
       "var outputEl = gd.closest('.output');\n",
       "if (outputEl) {{\n",
       "    x.observe(outputEl, {childList: true});\n",
       "}}\n",
       "\n",
       "                        })\n",
       "                };\n",
       "                });\n",
       "            </script>\n",
       "        </div>"
      ]
     },
     "metadata": {},
     "output_type": "display_data"
    },
    {
     "name": "stdout",
     "output_type": "stream",
     "text": [
      "Brown University\n",
      "Columbia University\n",
      "Dartmouth College\n",
      "University of Pennsylvania\n",
      "['/m/03ksy', '/m/01bm_', '/m/01w5m', '/m/02bqy', '/m/07tds']\n",
      "US\n",
      "Princeton University\n",
      "Yale University\n",
      "Cornell University\n",
      "['/m/03ksy', '/m/05zl0', '/m/08815', '/m/01w3v']\n",
      "US\n"
     ]
    },
    {
     "data": {
      "application/vnd.plotly.v1+json": {
       "config": {
        "plotlyServerURL": "https://plot.ly"
       },
       "data": [
        {
         "connectgaps": true,
         "line": {
          "color": "#A51C30",
          "width": 2
         },
         "mode": "lines",
         "name": "Harvard University",
         "type": "scatter",
         "x": [
          2015,
          2016,
          2017,
          2018,
          2019
         ],
         "y": [
          0.2663573746807883,
          0.2565900545848136,
          0.2683210378209237,
          0.2707408364899344,
          0.2779278173336607
         ]
        },
        {
         "marker": {
          "color": "#A51C30",
          "size": 8
         },
         "mode": "markers",
         "showlegend": false,
         "type": "scatter",
         "x": [
          2015,
          2019
         ],
         "y": [
          0.2663573746807883,
          0.2779278173336607
         ]
        },
        {
         "connectgaps": true,
         "line": {
          "color": "#0f4d92",
          "width": 2
         },
         "mode": "lines",
         "name": "Yale University",
         "type": "scatter",
         "x": [
          2015,
          2016,
          2017,
          2018,
          2019
         ],
         "y": [
          0.15434077058470427,
          0.16748319471345557,
          0.1540651245667597,
          0.16107095889487108,
          0.16099049489670655
         ]
        },
        {
         "marker": {
          "color": "#0f4d92",
          "size": 8
         },
         "mode": "markers",
         "showlegend": false,
         "type": "scatter",
         "x": [
          2015,
          2019
         ],
         "y": [
          0.15434077058470427,
          0.16099049489670655
         ]
        },
        {
         "connectgaps": true,
         "line": {
          "color": "#D47500",
          "width": 2
         },
         "mode": "lines",
         "name": "Cornell University",
         "type": "scatter",
         "x": [
          2015,
          2016,
          2017,
          2018,
          2019
         ],
         "y": [
          0.15820692040818402,
          0.15101453178244795,
          0.1516748334944969,
          0.14893162633335957,
          0.14497328516479022
         ]
        },
        {
         "marker": {
          "color": "#D47500",
          "size": 8
         },
         "mode": "markers",
         "showlegend": false,
         "type": "scatter",
         "x": [
          2015,
          2019
         ],
         "y": [
          0.15820692040818402,
          0.14497328516479022
         ]
        },
        {
         "connectgaps": true,
         "line": {
          "color": "#011F5B",
          "width": 2
         },
         "mode": "lines",
         "name": "University of Pennsylvania",
         "type": "scatter",
         "x": [
          2015,
          2016,
          2017,
          2018,
          2019
         ],
         "y": [
          0.114519427402863,
          0.12325603074150415,
          0.12769586805593283,
          0.1265975024447267,
          0.12406907275554464
         ]
        },
        {
         "marker": {
          "color": "#011F5B",
          "size": 8
         },
         "mode": "markers",
         "showlegend": false,
         "type": "scatter",
         "x": [
          2015,
          2019
         ],
         "y": [
          0.114519427402863,
          0.12406907275554464
         ]
        },
        {
         "connectgaps": true,
         "line": {
          "color": "#B9D9EB",
          "width": 2
         },
         "mode": "lines",
         "name": "Columbia University",
         "type": "scatter",
         "x": [
          2015,
          2016,
          2017,
          2018,
          2019
         ],
         "y": [
          0.10825219505743268,
          0.10208499487296344,
          0.10411890611588566,
          0.10181303179830722,
          0.10213601767738768
         ]
        },
        {
         "marker": {
          "color": "#B9D9EB",
          "size": 8
         },
         "mode": "markers",
         "showlegend": false,
         "type": "scatter",
         "x": [
          2015,
          2019
         ],
         "y": [
          0.10825219505743268,
          0.10213601767738768
         ]
        },
        {
         "connectgaps": true,
         "line": {
          "color": "#ff8f00",
          "width": 2
         },
         "mode": "lines",
         "name": "Princeton University",
         "type": "scatter",
         "x": [
          2015,
          2016,
          2017,
          2018,
          2019
         ],
         "y": [
          0.08159610943238814,
          0.0818254321729313,
          0.08224774280468063,
          0.0769948407836614,
          0.07704628622870707
         ]
        },
        {
         "marker": {
          "color": "#ff8f00",
          "size": 8
         },
         "mode": "markers",
         "showlegend": false,
         "type": "scatter",
         "x": [
          2015,
          2019
         ],
         "y": [
          0.08159610943238814,
          0.07704628622870707
         ]
        },
        {
         "connectgaps": true,
         "line": {
          "color": "#4E3629",
          "width": 2
         },
         "mode": "lines",
         "name": "Brown University",
         "type": "scatter",
         "x": [
          2015,
          2016,
          2017,
          2018,
          2019
         ],
         "y": [
          0.06416791299128081,
          0.06394812889059215,
          0.06076771803257315,
          0.06184315532725617,
          0.06318029298633276
         ]
        },
        {
         "marker": {
          "color": "#4E3629",
          "size": 8
         },
         "mode": "markers",
         "showlegend": false,
         "type": "scatter",
         "x": [
          2015,
          2019
         ],
         "y": [
          0.06416791299128081,
          0.06318029298633276
         ]
        },
        {
         "connectgaps": true,
         "line": {
          "color": "#00693e",
          "width": 2
         },
         "mode": "lines",
         "name": "Dartmouth College",
         "type": "scatter",
         "x": [
          2015,
          2016,
          2017,
          2018,
          2019
         ],
         "y": [
          0.05255928944235876,
          0.05379763224129181,
          0.051108769108747384,
          0.05200804792788337,
          0.04967673295687045
         ]
        },
        {
         "marker": {
          "color": "#00693e",
          "size": 8
         },
         "mode": "markers",
         "showlegend": false,
         "type": "scatter",
         "x": [
          2015,
          2019
         ],
         "y": [
          0.05255928944235876,
          0.04967673295687045
         ]
        }
       ],
       "layout": {
        "annotations": [
         {
          "font": {
           "family": "Arial",
           "size": 12
          },
          "showarrow": false,
          "text": "0.28",
          "x": 1,
          "xanchor": "right",
          "xref": "paper",
          "y": 0.2779278173336607,
          "yanchor": "middle"
         },
         {
          "font": {
           "family": "Arial",
           "size": 12
          },
          "showarrow": false,
          "text": "0.16",
          "x": 1,
          "xanchor": "right",
          "xref": "paper",
          "y": 0.16099049489670655,
          "yanchor": "middle"
         },
         {
          "font": {
           "family": "Arial",
           "size": 12
          },
          "showarrow": false,
          "text": "0.14",
          "x": 1,
          "xanchor": "right",
          "xref": "paper",
          "y": 0.14497328516479022,
          "yanchor": "middle"
         },
         {
          "font": {
           "family": "Arial",
           "size": 12
          },
          "showarrow": false,
          "text": "0.12",
          "x": 1,
          "xanchor": "right",
          "xref": "paper",
          "y": 0.12406907275554464,
          "yanchor": "middle"
         },
         {
          "font": {
           "family": "Arial",
           "size": 12
          },
          "showarrow": false,
          "text": "0.10",
          "x": 1,
          "xanchor": "right",
          "xref": "paper",
          "y": 0.10213601767738768,
          "yanchor": "middle"
         },
         {
          "font": {
           "family": "Arial",
           "size": 12
          },
          "showarrow": false,
          "text": "0.08",
          "x": 1,
          "xanchor": "right",
          "xref": "paper",
          "y": 0.07704628622870707,
          "yanchor": "middle"
         },
         {
          "font": {
           "family": "Arial",
           "size": 12
          },
          "showarrow": false,
          "text": "0.06",
          "x": 1,
          "xanchor": "right",
          "xref": "paper",
          "y": 0.06318029298633276,
          "yanchor": "middle"
         },
         {
          "font": {
           "family": "Arial",
           "size": 12
          },
          "showarrow": false,
          "text": "0.05",
          "x": 1,
          "xanchor": "right",
          "xref": "paper",
          "y": 0.04967673295687045,
          "yanchor": "middle"
         },
         {
          "font": {
           "color": "rgb(37,37,37)",
           "family": "Arial",
           "size": 20
          },
          "showarrow": false,
          "text": "US Ivy League Search Trends",
          "x": 0,
          "xanchor": "left",
          "xref": "paper",
          "y": 1.05,
          "yanchor": "bottom",
          "yref": "paper"
         },
         {
          "font": {
           "color": "rgb(150,150,150)",
           "family": "Arial",
           "size": 12
          },
          "showarrow": false,
          "text": "Source: Harvard Open Data Project",
          "x": 0.5,
          "xanchor": "center",
          "xref": "paper",
          "y": -0.1,
          "yanchor": "top",
          "yref": "paper"
         }
        ],
        "autosize": false,
        "margin": {
         "autoexpand": false,
         "l": 100,
         "r": 200,
         "t": 110
        },
        "plot_bgcolor": "white",
        "showlegend": true,
        "template": {
         "data": {
          "bar": [
           {
            "error_x": {
             "color": "#2a3f5f"
            },
            "error_y": {
             "color": "#2a3f5f"
            },
            "marker": {
             "line": {
              "color": "#E5ECF6",
              "width": 0.5
             }
            },
            "type": "bar"
           }
          ],
          "barpolar": [
           {
            "marker": {
             "line": {
              "color": "#E5ECF6",
              "width": 0.5
             }
            },
            "type": "barpolar"
           }
          ],
          "carpet": [
           {
            "aaxis": {
             "endlinecolor": "#2a3f5f",
             "gridcolor": "white",
             "linecolor": "white",
             "minorgridcolor": "white",
             "startlinecolor": "#2a3f5f"
            },
            "baxis": {
             "endlinecolor": "#2a3f5f",
             "gridcolor": "white",
             "linecolor": "white",
             "minorgridcolor": "white",
             "startlinecolor": "#2a3f5f"
            },
            "type": "carpet"
           }
          ],
          "choropleth": [
           {
            "colorbar": {
             "outlinewidth": 0,
             "ticks": ""
            },
            "type": "choropleth"
           }
          ],
          "contour": [
           {
            "colorbar": {
             "outlinewidth": 0,
             "ticks": ""
            },
            "colorscale": [
             [
              0,
              "#0d0887"
             ],
             [
              0.1111111111111111,
              "#46039f"
             ],
             [
              0.2222222222222222,
              "#7201a8"
             ],
             [
              0.3333333333333333,
              "#9c179e"
             ],
             [
              0.4444444444444444,
              "#bd3786"
             ],
             [
              0.5555555555555556,
              "#d8576b"
             ],
             [
              0.6666666666666666,
              "#ed7953"
             ],
             [
              0.7777777777777778,
              "#fb9f3a"
             ],
             [
              0.8888888888888888,
              "#fdca26"
             ],
             [
              1,
              "#f0f921"
             ]
            ],
            "type": "contour"
           }
          ],
          "contourcarpet": [
           {
            "colorbar": {
             "outlinewidth": 0,
             "ticks": ""
            },
            "type": "contourcarpet"
           }
          ],
          "heatmap": [
           {
            "colorbar": {
             "outlinewidth": 0,
             "ticks": ""
            },
            "colorscale": [
             [
              0,
              "#0d0887"
             ],
             [
              0.1111111111111111,
              "#46039f"
             ],
             [
              0.2222222222222222,
              "#7201a8"
             ],
             [
              0.3333333333333333,
              "#9c179e"
             ],
             [
              0.4444444444444444,
              "#bd3786"
             ],
             [
              0.5555555555555556,
              "#d8576b"
             ],
             [
              0.6666666666666666,
              "#ed7953"
             ],
             [
              0.7777777777777778,
              "#fb9f3a"
             ],
             [
              0.8888888888888888,
              "#fdca26"
             ],
             [
              1,
              "#f0f921"
             ]
            ],
            "type": "heatmap"
           }
          ],
          "heatmapgl": [
           {
            "colorbar": {
             "outlinewidth": 0,
             "ticks": ""
            },
            "colorscale": [
             [
              0,
              "#0d0887"
             ],
             [
              0.1111111111111111,
              "#46039f"
             ],
             [
              0.2222222222222222,
              "#7201a8"
             ],
             [
              0.3333333333333333,
              "#9c179e"
             ],
             [
              0.4444444444444444,
              "#bd3786"
             ],
             [
              0.5555555555555556,
              "#d8576b"
             ],
             [
              0.6666666666666666,
              "#ed7953"
             ],
             [
              0.7777777777777778,
              "#fb9f3a"
             ],
             [
              0.8888888888888888,
              "#fdca26"
             ],
             [
              1,
              "#f0f921"
             ]
            ],
            "type": "heatmapgl"
           }
          ],
          "histogram": [
           {
            "marker": {
             "colorbar": {
              "outlinewidth": 0,
              "ticks": ""
             }
            },
            "type": "histogram"
           }
          ],
          "histogram2d": [
           {
            "colorbar": {
             "outlinewidth": 0,
             "ticks": ""
            },
            "colorscale": [
             [
              0,
              "#0d0887"
             ],
             [
              0.1111111111111111,
              "#46039f"
             ],
             [
              0.2222222222222222,
              "#7201a8"
             ],
             [
              0.3333333333333333,
              "#9c179e"
             ],
             [
              0.4444444444444444,
              "#bd3786"
             ],
             [
              0.5555555555555556,
              "#d8576b"
             ],
             [
              0.6666666666666666,
              "#ed7953"
             ],
             [
              0.7777777777777778,
              "#fb9f3a"
             ],
             [
              0.8888888888888888,
              "#fdca26"
             ],
             [
              1,
              "#f0f921"
             ]
            ],
            "type": "histogram2d"
           }
          ],
          "histogram2dcontour": [
           {
            "colorbar": {
             "outlinewidth": 0,
             "ticks": ""
            },
            "colorscale": [
             [
              0,
              "#0d0887"
             ],
             [
              0.1111111111111111,
              "#46039f"
             ],
             [
              0.2222222222222222,
              "#7201a8"
             ],
             [
              0.3333333333333333,
              "#9c179e"
             ],
             [
              0.4444444444444444,
              "#bd3786"
             ],
             [
              0.5555555555555556,
              "#d8576b"
             ],
             [
              0.6666666666666666,
              "#ed7953"
             ],
             [
              0.7777777777777778,
              "#fb9f3a"
             ],
             [
              0.8888888888888888,
              "#fdca26"
             ],
             [
              1,
              "#f0f921"
             ]
            ],
            "type": "histogram2dcontour"
           }
          ],
          "mesh3d": [
           {
            "colorbar": {
             "outlinewidth": 0,
             "ticks": ""
            },
            "type": "mesh3d"
           }
          ],
          "parcoords": [
           {
            "line": {
             "colorbar": {
              "outlinewidth": 0,
              "ticks": ""
             }
            },
            "type": "parcoords"
           }
          ],
          "scatter": [
           {
            "marker": {
             "colorbar": {
              "outlinewidth": 0,
              "ticks": ""
             }
            },
            "type": "scatter"
           }
          ],
          "scatter3d": [
           {
            "line": {
             "colorbar": {
              "outlinewidth": 0,
              "ticks": ""
             }
            },
            "marker": {
             "colorbar": {
              "outlinewidth": 0,
              "ticks": ""
             }
            },
            "type": "scatter3d"
           }
          ],
          "scattercarpet": [
           {
            "marker": {
             "colorbar": {
              "outlinewidth": 0,
              "ticks": ""
             }
            },
            "type": "scattercarpet"
           }
          ],
          "scattergeo": [
           {
            "marker": {
             "colorbar": {
              "outlinewidth": 0,
              "ticks": ""
             }
            },
            "type": "scattergeo"
           }
          ],
          "scattergl": [
           {
            "marker": {
             "colorbar": {
              "outlinewidth": 0,
              "ticks": ""
             }
            },
            "type": "scattergl"
           }
          ],
          "scattermapbox": [
           {
            "marker": {
             "colorbar": {
              "outlinewidth": 0,
              "ticks": ""
             }
            },
            "type": "scattermapbox"
           }
          ],
          "scatterpolar": [
           {
            "marker": {
             "colorbar": {
              "outlinewidth": 0,
              "ticks": ""
             }
            },
            "type": "scatterpolar"
           }
          ],
          "scatterpolargl": [
           {
            "marker": {
             "colorbar": {
              "outlinewidth": 0,
              "ticks": ""
             }
            },
            "type": "scatterpolargl"
           }
          ],
          "scatterternary": [
           {
            "marker": {
             "colorbar": {
              "outlinewidth": 0,
              "ticks": ""
             }
            },
            "type": "scatterternary"
           }
          ],
          "surface": [
           {
            "colorbar": {
             "outlinewidth": 0,
             "ticks": ""
            },
            "colorscale": [
             [
              0,
              "#0d0887"
             ],
             [
              0.1111111111111111,
              "#46039f"
             ],
             [
              0.2222222222222222,
              "#7201a8"
             ],
             [
              0.3333333333333333,
              "#9c179e"
             ],
             [
              0.4444444444444444,
              "#bd3786"
             ],
             [
              0.5555555555555556,
              "#d8576b"
             ],
             [
              0.6666666666666666,
              "#ed7953"
             ],
             [
              0.7777777777777778,
              "#fb9f3a"
             ],
             [
              0.8888888888888888,
              "#fdca26"
             ],
             [
              1,
              "#f0f921"
             ]
            ],
            "type": "surface"
           }
          ],
          "table": [
           {
            "cells": {
             "fill": {
              "color": "#EBF0F8"
             },
             "line": {
              "color": "white"
             }
            },
            "header": {
             "fill": {
              "color": "#C8D4E3"
             },
             "line": {
              "color": "white"
             }
            },
            "type": "table"
           }
          ]
         },
         "layout": {
          "annotationdefaults": {
           "arrowcolor": "#2a3f5f",
           "arrowhead": 0,
           "arrowwidth": 1
          },
          "colorscale": {
           "diverging": [
            [
             0,
             "#8e0152"
            ],
            [
             0.1,
             "#c51b7d"
            ],
            [
             0.2,
             "#de77ae"
            ],
            [
             0.3,
             "#f1b6da"
            ],
            [
             0.4,
             "#fde0ef"
            ],
            [
             0.5,
             "#f7f7f7"
            ],
            [
             0.6,
             "#e6f5d0"
            ],
            [
             0.7,
             "#b8e186"
            ],
            [
             0.8,
             "#7fbc41"
            ],
            [
             0.9,
             "#4d9221"
            ],
            [
             1,
             "#276419"
            ]
           ],
           "sequential": [
            [
             0,
             "#0d0887"
            ],
            [
             0.1111111111111111,
             "#46039f"
            ],
            [
             0.2222222222222222,
             "#7201a8"
            ],
            [
             0.3333333333333333,
             "#9c179e"
            ],
            [
             0.4444444444444444,
             "#bd3786"
            ],
            [
             0.5555555555555556,
             "#d8576b"
            ],
            [
             0.6666666666666666,
             "#ed7953"
            ],
            [
             0.7777777777777778,
             "#fb9f3a"
            ],
            [
             0.8888888888888888,
             "#fdca26"
            ],
            [
             1,
             "#f0f921"
            ]
           ],
           "sequentialminus": [
            [
             0,
             "#0d0887"
            ],
            [
             0.1111111111111111,
             "#46039f"
            ],
            [
             0.2222222222222222,
             "#7201a8"
            ],
            [
             0.3333333333333333,
             "#9c179e"
            ],
            [
             0.4444444444444444,
             "#bd3786"
            ],
            [
             0.5555555555555556,
             "#d8576b"
            ],
            [
             0.6666666666666666,
             "#ed7953"
            ],
            [
             0.7777777777777778,
             "#fb9f3a"
            ],
            [
             0.8888888888888888,
             "#fdca26"
            ],
            [
             1,
             "#f0f921"
            ]
           ]
          },
          "colorway": [
           "#636efa",
           "#EF553B",
           "#00cc96",
           "#ab63fa",
           "#FFA15A",
           "#19d3f3",
           "#FF6692",
           "#B6E880",
           "#FF97FF",
           "#FECB52"
          ],
          "font": {
           "color": "#2a3f5f"
          },
          "geo": {
           "bgcolor": "white",
           "lakecolor": "white",
           "landcolor": "#E5ECF6",
           "showlakes": true,
           "showland": true,
           "subunitcolor": "white"
          },
          "hoverlabel": {
           "align": "left"
          },
          "hovermode": "closest",
          "mapbox": {
           "style": "light"
          },
          "paper_bgcolor": "white",
          "plot_bgcolor": "#E5ECF6",
          "polar": {
           "angularaxis": {
            "gridcolor": "white",
            "linecolor": "white",
            "ticks": ""
           },
           "bgcolor": "#E5ECF6",
           "radialaxis": {
            "gridcolor": "white",
            "linecolor": "white",
            "ticks": ""
           }
          },
          "scene": {
           "xaxis": {
            "backgroundcolor": "#E5ECF6",
            "gridcolor": "white",
            "gridwidth": 2,
            "linecolor": "white",
            "showbackground": true,
            "ticks": "",
            "zerolinecolor": "white"
           },
           "yaxis": {
            "backgroundcolor": "#E5ECF6",
            "gridcolor": "white",
            "gridwidth": 2,
            "linecolor": "white",
            "showbackground": true,
            "ticks": "",
            "zerolinecolor": "white"
           },
           "zaxis": {
            "backgroundcolor": "#E5ECF6",
            "gridcolor": "white",
            "gridwidth": 2,
            "linecolor": "white",
            "showbackground": true,
            "ticks": "",
            "zerolinecolor": "white"
           }
          },
          "shapedefaults": {
           "line": {
            "color": "#2a3f5f"
           }
          },
          "ternary": {
           "aaxis": {
            "gridcolor": "white",
            "linecolor": "white",
            "ticks": ""
           },
           "baxis": {
            "gridcolor": "white",
            "linecolor": "white",
            "ticks": ""
           },
           "bgcolor": "#E5ECF6",
           "caxis": {
            "gridcolor": "white",
            "linecolor": "white",
            "ticks": ""
           }
          },
          "title": {
           "x": 0.05
          },
          "xaxis": {
           "automargin": true,
           "gridcolor": "white",
           "linecolor": "white",
           "ticks": "",
           "zerolinecolor": "white",
           "zerolinewidth": 2
          },
          "yaxis": {
           "automargin": true,
           "gridcolor": "white",
           "linecolor": "white",
           "ticks": "",
           "zerolinecolor": "white",
           "zerolinewidth": 2
          }
         }
        },
        "xaxis": {
         "linecolor": "rgb(204, 204, 204)",
         "linewidth": 2,
         "showgrid": false,
         "showline": true,
         "showticklabels": true,
         "tickfont": {
          "color": "rgb(82, 82, 82)",
          "family": "Arial",
          "size": 12
         },
         "ticks": "outside"
        },
        "yaxis": {
         "showgrid": false,
         "showline": false,
         "showticklabels": false,
         "zeroline": false
        }
       }
      },
      "text/html": [
       "<div>\n",
       "        \n",
       "        \n",
       "            <div id=\"24048430-4e65-4dc6-a304-a1c34514f7f8\" class=\"plotly-graph-div\" style=\"height:525px; width:100%;\"></div>\n",
       "            <script type=\"text/javascript\">\n",
       "                require([\"plotly\"], function(Plotly) {\n",
       "                    window.PLOTLYENV=window.PLOTLYENV || {};\n",
       "                    \n",
       "                if (document.getElementById(\"24048430-4e65-4dc6-a304-a1c34514f7f8\")) {\n",
       "                    Plotly.newPlot(\n",
       "                        '24048430-4e65-4dc6-a304-a1c34514f7f8',\n",
       "                        [{\"connectgaps\": true, \"line\": {\"color\": \"#A51C30\", \"width\": 2}, \"mode\": \"lines\", \"name\": \"Harvard University\", \"type\": \"scatter\", \"x\": [2015, 2016, 2017, 2018, 2019], \"y\": [0.2663573746807883, 0.2565900545848136, 0.2683210378209237, 0.2707408364899344, 0.2779278173336607]}, {\"marker\": {\"color\": \"#A51C30\", \"size\": 8}, \"mode\": \"markers\", \"showlegend\": false, \"type\": \"scatter\", \"x\": [2015, 2019], \"y\": [0.2663573746807883, 0.2779278173336607]}, {\"connectgaps\": true, \"line\": {\"color\": \"#0f4d92\", \"width\": 2}, \"mode\": \"lines\", \"name\": \"Yale University\", \"type\": \"scatter\", \"x\": [2015, 2016, 2017, 2018, 2019], \"y\": [0.15434077058470427, 0.16748319471345557, 0.1540651245667597, 0.16107095889487108, 0.16099049489670655]}, {\"marker\": {\"color\": \"#0f4d92\", \"size\": 8}, \"mode\": \"markers\", \"showlegend\": false, \"type\": \"scatter\", \"x\": [2015, 2019], \"y\": [0.15434077058470427, 0.16099049489670655]}, {\"connectgaps\": true, \"line\": {\"color\": \"#D47500\", \"width\": 2}, \"mode\": \"lines\", \"name\": \"Cornell University\", \"type\": \"scatter\", \"x\": [2015, 2016, 2017, 2018, 2019], \"y\": [0.15820692040818402, 0.15101453178244795, 0.1516748334944969, 0.14893162633335957, 0.14497328516479022]}, {\"marker\": {\"color\": \"#D47500\", \"size\": 8}, \"mode\": \"markers\", \"showlegend\": false, \"type\": \"scatter\", \"x\": [2015, 2019], \"y\": [0.15820692040818402, 0.14497328516479022]}, {\"connectgaps\": true, \"line\": {\"color\": \"#011F5B\", \"width\": 2}, \"mode\": \"lines\", \"name\": \"University of Pennsylvania\", \"type\": \"scatter\", \"x\": [2015, 2016, 2017, 2018, 2019], \"y\": [0.114519427402863, 0.12325603074150415, 0.12769586805593283, 0.1265975024447267, 0.12406907275554464]}, {\"marker\": {\"color\": \"#011F5B\", \"size\": 8}, \"mode\": \"markers\", \"showlegend\": false, \"type\": \"scatter\", \"x\": [2015, 2019], \"y\": [0.114519427402863, 0.12406907275554464]}, {\"connectgaps\": true, \"line\": {\"color\": \"#B9D9EB\", \"width\": 2}, \"mode\": \"lines\", \"name\": \"Columbia University\", \"type\": \"scatter\", \"x\": [2015, 2016, 2017, 2018, 2019], \"y\": [0.10825219505743268, 0.10208499487296344, 0.10411890611588566, 0.10181303179830722, 0.10213601767738768]}, {\"marker\": {\"color\": \"#B9D9EB\", \"size\": 8}, \"mode\": \"markers\", \"showlegend\": false, \"type\": \"scatter\", \"x\": [2015, 2019], \"y\": [0.10825219505743268, 0.10213601767738768]}, {\"connectgaps\": true, \"line\": {\"color\": \"#ff8f00\", \"width\": 2}, \"mode\": \"lines\", \"name\": \"Princeton University\", \"type\": \"scatter\", \"x\": [2015, 2016, 2017, 2018, 2019], \"y\": [0.08159610943238814, 0.0818254321729313, 0.08224774280468063, 0.0769948407836614, 0.07704628622870707]}, {\"marker\": {\"color\": \"#ff8f00\", \"size\": 8}, \"mode\": \"markers\", \"showlegend\": false, \"type\": \"scatter\", \"x\": [2015, 2019], \"y\": [0.08159610943238814, 0.07704628622870707]}, {\"connectgaps\": true, \"line\": {\"color\": \"#4E3629\", \"width\": 2}, \"mode\": \"lines\", \"name\": \"Brown University\", \"type\": \"scatter\", \"x\": [2015, 2016, 2017, 2018, 2019], \"y\": [0.06416791299128081, 0.06394812889059215, 0.06076771803257315, 0.06184315532725617, 0.06318029298633276]}, {\"marker\": {\"color\": \"#4E3629\", \"size\": 8}, \"mode\": \"markers\", \"showlegend\": false, \"type\": \"scatter\", \"x\": [2015, 2019], \"y\": [0.06416791299128081, 0.06318029298633276]}, {\"connectgaps\": true, \"line\": {\"color\": \"#00693e\", \"width\": 2}, \"mode\": \"lines\", \"name\": \"Dartmouth College\", \"type\": \"scatter\", \"x\": [2015, 2016, 2017, 2018, 2019], \"y\": [0.05255928944235876, 0.05379763224129181, 0.051108769108747384, 0.05200804792788337, 0.04967673295687045]}, {\"marker\": {\"color\": \"#00693e\", \"size\": 8}, \"mode\": \"markers\", \"showlegend\": false, \"type\": \"scatter\", \"x\": [2015, 2019], \"y\": [0.05255928944235876, 0.04967673295687045]}],\n",
       "                        {\"annotations\": [{\"font\": {\"family\": \"Arial\", \"size\": 12}, \"showarrow\": false, \"text\": \"0.28\", \"x\": 1, \"xanchor\": \"right\", \"xref\": \"paper\", \"y\": 0.2779278173336607, \"yanchor\": \"middle\"}, {\"font\": {\"family\": \"Arial\", \"size\": 12}, \"showarrow\": false, \"text\": \"0.16\", \"x\": 1, \"xanchor\": \"right\", \"xref\": \"paper\", \"y\": 0.16099049489670655, \"yanchor\": \"middle\"}, {\"font\": {\"family\": \"Arial\", \"size\": 12}, \"showarrow\": false, \"text\": \"0.14\", \"x\": 1, \"xanchor\": \"right\", \"xref\": \"paper\", \"y\": 0.14497328516479022, \"yanchor\": \"middle\"}, {\"font\": {\"family\": \"Arial\", \"size\": 12}, \"showarrow\": false, \"text\": \"0.12\", \"x\": 1, \"xanchor\": \"right\", \"xref\": \"paper\", \"y\": 0.12406907275554464, \"yanchor\": \"middle\"}, {\"font\": {\"family\": \"Arial\", \"size\": 12}, \"showarrow\": false, \"text\": \"0.10\", \"x\": 1, \"xanchor\": \"right\", \"xref\": \"paper\", \"y\": 0.10213601767738768, \"yanchor\": \"middle\"}, {\"font\": {\"family\": \"Arial\", \"size\": 12}, \"showarrow\": false, \"text\": \"0.08\", \"x\": 1, \"xanchor\": \"right\", \"xref\": \"paper\", \"y\": 0.07704628622870707, \"yanchor\": \"middle\"}, {\"font\": {\"family\": \"Arial\", \"size\": 12}, \"showarrow\": false, \"text\": \"0.06\", \"x\": 1, \"xanchor\": \"right\", \"xref\": \"paper\", \"y\": 0.06318029298633276, \"yanchor\": \"middle\"}, {\"font\": {\"family\": \"Arial\", \"size\": 12}, \"showarrow\": false, \"text\": \"0.05\", \"x\": 1, \"xanchor\": \"right\", \"xref\": \"paper\", \"y\": 0.04967673295687045, \"yanchor\": \"middle\"}, {\"font\": {\"color\": \"rgb(37,37,37)\", \"family\": \"Arial\", \"size\": 20}, \"showarrow\": false, \"text\": \"US Ivy League Search Trends\", \"x\": 0.0, \"xanchor\": \"left\", \"xref\": \"paper\", \"y\": 1.05, \"yanchor\": \"bottom\", \"yref\": \"paper\"}, {\"font\": {\"color\": \"rgb(150,150,150)\", \"family\": \"Arial\", \"size\": 12}, \"showarrow\": false, \"text\": \"Source: Harvard Open Data Project\", \"x\": 0.5, \"xanchor\": \"center\", \"xref\": \"paper\", \"y\": -0.1, \"yanchor\": \"top\", \"yref\": \"paper\"}], \"autosize\": false, \"margin\": {\"autoexpand\": false, \"l\": 100, \"r\": 200, \"t\": 110}, \"plot_bgcolor\": \"white\", \"showlegend\": true, \"template\": {\"data\": {\"bar\": [{\"error_x\": {\"color\": \"#2a3f5f\"}, \"error_y\": {\"color\": \"#2a3f5f\"}, \"marker\": {\"line\": {\"color\": \"#E5ECF6\", \"width\": 0.5}}, \"type\": \"bar\"}], \"barpolar\": [{\"marker\": {\"line\": {\"color\": \"#E5ECF6\", \"width\": 0.5}}, \"type\": \"barpolar\"}], \"carpet\": [{\"aaxis\": {\"endlinecolor\": \"#2a3f5f\", \"gridcolor\": \"white\", \"linecolor\": \"white\", \"minorgridcolor\": \"white\", \"startlinecolor\": \"#2a3f5f\"}, \"baxis\": {\"endlinecolor\": \"#2a3f5f\", \"gridcolor\": \"white\", \"linecolor\": \"white\", \"minorgridcolor\": \"white\", \"startlinecolor\": \"#2a3f5f\"}, \"type\": \"carpet\"}], \"choropleth\": [{\"colorbar\": {\"outlinewidth\": 0, \"ticks\": \"\"}, \"type\": \"choropleth\"}], \"contour\": [{\"colorbar\": {\"outlinewidth\": 0, \"ticks\": \"\"}, \"colorscale\": [[0.0, \"#0d0887\"], [0.1111111111111111, \"#46039f\"], [0.2222222222222222, \"#7201a8\"], [0.3333333333333333, \"#9c179e\"], [0.4444444444444444, \"#bd3786\"], [0.5555555555555556, \"#d8576b\"], [0.6666666666666666, \"#ed7953\"], [0.7777777777777778, \"#fb9f3a\"], [0.8888888888888888, \"#fdca26\"], [1.0, \"#f0f921\"]], \"type\": \"contour\"}], \"contourcarpet\": [{\"colorbar\": {\"outlinewidth\": 0, \"ticks\": \"\"}, \"type\": \"contourcarpet\"}], \"heatmap\": [{\"colorbar\": {\"outlinewidth\": 0, \"ticks\": \"\"}, \"colorscale\": [[0.0, \"#0d0887\"], [0.1111111111111111, \"#46039f\"], [0.2222222222222222, \"#7201a8\"], [0.3333333333333333, \"#9c179e\"], [0.4444444444444444, \"#bd3786\"], [0.5555555555555556, \"#d8576b\"], [0.6666666666666666, \"#ed7953\"], [0.7777777777777778, \"#fb9f3a\"], [0.8888888888888888, \"#fdca26\"], [1.0, \"#f0f921\"]], \"type\": \"heatmap\"}], \"heatmapgl\": [{\"colorbar\": {\"outlinewidth\": 0, \"ticks\": \"\"}, \"colorscale\": [[0.0, \"#0d0887\"], [0.1111111111111111, \"#46039f\"], [0.2222222222222222, \"#7201a8\"], [0.3333333333333333, \"#9c179e\"], [0.4444444444444444, \"#bd3786\"], [0.5555555555555556, \"#d8576b\"], [0.6666666666666666, \"#ed7953\"], [0.7777777777777778, \"#fb9f3a\"], [0.8888888888888888, \"#fdca26\"], [1.0, \"#f0f921\"]], \"type\": \"heatmapgl\"}], \"histogram\": [{\"marker\": {\"colorbar\": {\"outlinewidth\": 0, \"ticks\": \"\"}}, \"type\": \"histogram\"}], \"histogram2d\": [{\"colorbar\": {\"outlinewidth\": 0, \"ticks\": \"\"}, \"colorscale\": [[0.0, \"#0d0887\"], [0.1111111111111111, \"#46039f\"], [0.2222222222222222, \"#7201a8\"], [0.3333333333333333, \"#9c179e\"], [0.4444444444444444, \"#bd3786\"], [0.5555555555555556, \"#d8576b\"], [0.6666666666666666, \"#ed7953\"], [0.7777777777777778, \"#fb9f3a\"], [0.8888888888888888, \"#fdca26\"], [1.0, \"#f0f921\"]], \"type\": \"histogram2d\"}], \"histogram2dcontour\": [{\"colorbar\": {\"outlinewidth\": 0, \"ticks\": \"\"}, \"colorscale\": [[0.0, \"#0d0887\"], [0.1111111111111111, \"#46039f\"], [0.2222222222222222, \"#7201a8\"], [0.3333333333333333, \"#9c179e\"], [0.4444444444444444, \"#bd3786\"], [0.5555555555555556, \"#d8576b\"], [0.6666666666666666, \"#ed7953\"], [0.7777777777777778, \"#fb9f3a\"], [0.8888888888888888, \"#fdca26\"], [1.0, \"#f0f921\"]], \"type\": \"histogram2dcontour\"}], \"mesh3d\": [{\"colorbar\": {\"outlinewidth\": 0, \"ticks\": \"\"}, \"type\": \"mesh3d\"}], \"parcoords\": [{\"line\": {\"colorbar\": {\"outlinewidth\": 0, \"ticks\": \"\"}}, \"type\": \"parcoords\"}], \"scatter\": [{\"marker\": {\"colorbar\": {\"outlinewidth\": 0, \"ticks\": \"\"}}, \"type\": \"scatter\"}], \"scatter3d\": [{\"line\": {\"colorbar\": {\"outlinewidth\": 0, \"ticks\": \"\"}}, \"marker\": {\"colorbar\": {\"outlinewidth\": 0, \"ticks\": \"\"}}, \"type\": \"scatter3d\"}], \"scattercarpet\": [{\"marker\": {\"colorbar\": {\"outlinewidth\": 0, \"ticks\": \"\"}}, \"type\": \"scattercarpet\"}], \"scattergeo\": [{\"marker\": {\"colorbar\": {\"outlinewidth\": 0, \"ticks\": \"\"}}, \"type\": \"scattergeo\"}], \"scattergl\": [{\"marker\": {\"colorbar\": {\"outlinewidth\": 0, \"ticks\": \"\"}}, \"type\": \"scattergl\"}], \"scattermapbox\": [{\"marker\": {\"colorbar\": {\"outlinewidth\": 0, \"ticks\": \"\"}}, \"type\": \"scattermapbox\"}], \"scatterpolar\": [{\"marker\": {\"colorbar\": {\"outlinewidth\": 0, \"ticks\": \"\"}}, \"type\": \"scatterpolar\"}], \"scatterpolargl\": [{\"marker\": {\"colorbar\": {\"outlinewidth\": 0, \"ticks\": \"\"}}, \"type\": \"scatterpolargl\"}], \"scatterternary\": [{\"marker\": {\"colorbar\": {\"outlinewidth\": 0, \"ticks\": \"\"}}, \"type\": \"scatterternary\"}], \"surface\": [{\"colorbar\": {\"outlinewidth\": 0, \"ticks\": \"\"}, \"colorscale\": [[0.0, \"#0d0887\"], [0.1111111111111111, \"#46039f\"], [0.2222222222222222, \"#7201a8\"], [0.3333333333333333, \"#9c179e\"], [0.4444444444444444, \"#bd3786\"], [0.5555555555555556, \"#d8576b\"], [0.6666666666666666, \"#ed7953\"], [0.7777777777777778, \"#fb9f3a\"], [0.8888888888888888, \"#fdca26\"], [1.0, \"#f0f921\"]], \"type\": \"surface\"}], \"table\": [{\"cells\": {\"fill\": {\"color\": \"#EBF0F8\"}, \"line\": {\"color\": \"white\"}}, \"header\": {\"fill\": {\"color\": \"#C8D4E3\"}, \"line\": {\"color\": \"white\"}}, \"type\": \"table\"}]}, \"layout\": {\"annotationdefaults\": {\"arrowcolor\": \"#2a3f5f\", \"arrowhead\": 0, \"arrowwidth\": 1}, \"colorscale\": {\"diverging\": [[0, \"#8e0152\"], [0.1, \"#c51b7d\"], [0.2, \"#de77ae\"], [0.3, \"#f1b6da\"], [0.4, \"#fde0ef\"], [0.5, \"#f7f7f7\"], [0.6, \"#e6f5d0\"], [0.7, \"#b8e186\"], [0.8, \"#7fbc41\"], [0.9, \"#4d9221\"], [1, \"#276419\"]], \"sequential\": [[0.0, \"#0d0887\"], [0.1111111111111111, \"#46039f\"], [0.2222222222222222, \"#7201a8\"], [0.3333333333333333, \"#9c179e\"], [0.4444444444444444, \"#bd3786\"], [0.5555555555555556, \"#d8576b\"], [0.6666666666666666, \"#ed7953\"], [0.7777777777777778, \"#fb9f3a\"], [0.8888888888888888, \"#fdca26\"], [1.0, \"#f0f921\"]], \"sequentialminus\": [[0.0, \"#0d0887\"], [0.1111111111111111, \"#46039f\"], [0.2222222222222222, \"#7201a8\"], [0.3333333333333333, \"#9c179e\"], [0.4444444444444444, \"#bd3786\"], [0.5555555555555556, \"#d8576b\"], [0.6666666666666666, \"#ed7953\"], [0.7777777777777778, \"#fb9f3a\"], [0.8888888888888888, \"#fdca26\"], [1.0, \"#f0f921\"]]}, \"colorway\": [\"#636efa\", \"#EF553B\", \"#00cc96\", \"#ab63fa\", \"#FFA15A\", \"#19d3f3\", \"#FF6692\", \"#B6E880\", \"#FF97FF\", \"#FECB52\"], \"font\": {\"color\": \"#2a3f5f\"}, \"geo\": {\"bgcolor\": \"white\", \"lakecolor\": \"white\", \"landcolor\": \"#E5ECF6\", \"showlakes\": true, \"showland\": true, \"subunitcolor\": \"white\"}, \"hoverlabel\": {\"align\": \"left\"}, \"hovermode\": \"closest\", \"mapbox\": {\"style\": \"light\"}, \"paper_bgcolor\": \"white\", \"plot_bgcolor\": \"#E5ECF6\", \"polar\": {\"angularaxis\": {\"gridcolor\": \"white\", \"linecolor\": \"white\", \"ticks\": \"\"}, \"bgcolor\": \"#E5ECF6\", \"radialaxis\": {\"gridcolor\": \"white\", \"linecolor\": \"white\", \"ticks\": \"\"}}, \"scene\": {\"xaxis\": {\"backgroundcolor\": \"#E5ECF6\", \"gridcolor\": \"white\", \"gridwidth\": 2, \"linecolor\": \"white\", \"showbackground\": true, \"ticks\": \"\", \"zerolinecolor\": \"white\"}, \"yaxis\": {\"backgroundcolor\": \"#E5ECF6\", \"gridcolor\": \"white\", \"gridwidth\": 2, \"linecolor\": \"white\", \"showbackground\": true, \"ticks\": \"\", \"zerolinecolor\": \"white\"}, \"zaxis\": {\"backgroundcolor\": \"#E5ECF6\", \"gridcolor\": \"white\", \"gridwidth\": 2, \"linecolor\": \"white\", \"showbackground\": true, \"ticks\": \"\", \"zerolinecolor\": \"white\"}}, \"shapedefaults\": {\"line\": {\"color\": \"#2a3f5f\"}}, \"ternary\": {\"aaxis\": {\"gridcolor\": \"white\", \"linecolor\": \"white\", \"ticks\": \"\"}, \"baxis\": {\"gridcolor\": \"white\", \"linecolor\": \"white\", \"ticks\": \"\"}, \"bgcolor\": \"#E5ECF6\", \"caxis\": {\"gridcolor\": \"white\", \"linecolor\": \"white\", \"ticks\": \"\"}}, \"title\": {\"x\": 0.05}, \"xaxis\": {\"automargin\": true, \"gridcolor\": \"white\", \"linecolor\": \"white\", \"ticks\": \"\", \"zerolinecolor\": \"white\", \"zerolinewidth\": 2}, \"yaxis\": {\"automargin\": true, \"gridcolor\": \"white\", \"linecolor\": \"white\", \"ticks\": \"\", \"zerolinecolor\": \"white\", \"zerolinewidth\": 2}}}, \"xaxis\": {\"linecolor\": \"rgb(204, 204, 204)\", \"linewidth\": 2, \"showgrid\": false, \"showline\": true, \"showticklabels\": true, \"tickfont\": {\"color\": \"rgb(82, 82, 82)\", \"family\": \"Arial\", \"size\": 12}, \"ticks\": \"outside\"}, \"yaxis\": {\"showgrid\": false, \"showline\": false, \"showticklabels\": false, \"zeroline\": false}},\n",
       "                        {\"responsive\": true}\n",
       "                    ).then(function(){\n",
       "                            \n",
       "var gd = document.getElementById('24048430-4e65-4dc6-a304-a1c34514f7f8');\n",
       "var x = new MutationObserver(function (mutations, observer) {{\n",
       "        var display = window.getComputedStyle(gd).display;\n",
       "        if (!display || display === 'none') {{\n",
       "            console.log([gd, 'removed!']);\n",
       "            Plotly.purge(gd);\n",
       "            observer.disconnect();\n",
       "        }}\n",
       "}});\n",
       "\n",
       "// Listen for the removal of the full notebook cells\n",
       "var notebookContainer = gd.closest('#notebook-container');\n",
       "if (notebookContainer) {{\n",
       "    x.observe(notebookContainer, {childList: true});\n",
       "}}\n",
       "\n",
       "// Listen for the clearing of the current output cell\n",
       "var outputEl = gd.closest('.output');\n",
       "if (outputEl) {{\n",
       "    x.observe(outputEl, {childList: true});\n",
       "}}\n",
       "\n",
       "                        })\n",
       "                };\n",
       "                });\n",
       "            </script>\n",
       "        </div>"
      ]
     },
     "metadata": {},
     "output_type": "display_data"
    },
    {
     "name": "stdout",
     "output_type": "stream",
     "text": [
      "Harvard University\n",
      "Columbia University\n",
      "Massachusetts Institute of Technology\n",
      "Yale University\n",
      "['/m/05zl0', '/m/03ksy', '/m/01w5m', '/m/04rwx', '/m/08815']\n",
      "US\n",
      "Stanford University\n",
      "University of Chicago\n",
      "University of Pennsylvania\n",
      "Northwestern University\n",
      "['/m/05zl0', '/m/06pwq', '/m/07wrz', '/m/07tds', '/m/017j69']\n",
      "US\n",
      "Duke University\n",
      "Johns Hopkins University\n",
      "California Institute of Technology\n",
      "Dartmouth College\n",
      "['/m/05zl0', '/m/0dzst', '/m/09kvv', '/m/02sjgpq', '/m/02bqy']\n",
      "US\n",
      "Brown University\n",
      "University of Notre Dame\n",
      "['/m/05zl0', '/m/01bm_', '/m/04ls81']\n",
      "US\n",
      "#093724\n",
      "#804EAF\n",
      "#283304\n",
      "#7E4A41\n",
      "#9FCEF6\n",
      "#031781\n"
     ]
    },
    {
     "data": {
      "application/vnd.plotly.v1+json": {
       "config": {
        "plotlyServerURL": "https://plot.ly"
       },
       "data": [
        {
         "connectgaps": true,
         "line": {
          "color": "#d2c295",
          "width": 2
         },
         "mode": "lines",
         "name": "Stanford University",
         "type": "scatter",
         "x": [
          2015,
          2016,
          2017,
          2018,
          2019
         ],
         "y": [
          0.13679382652593566,
          0.1569274468354371,
          0.13702359913322054,
          0.1348439919011269,
          0.12119740385889002
         ]
        },
        {
         "marker": {
          "color": "#d2c295",
          "size": 8
         },
         "mode": "markers",
         "showlegend": false,
         "type": "scatter",
         "x": [
          2015,
          2019
         ],
         "y": [
          0.13679382652593566,
          0.12119740385889002
         ]
        },
        {
         "connectgaps": true,
         "line": {
          "color": "#A51C30",
          "width": 2
         },
         "mode": "lines",
         "name": "Harvard University",
         "type": "scatter",
         "x": [
          2015,
          2016,
          2017,
          2018,
          2019
         ],
         "y": [
          0.13648055822091448,
          0.13040375538442073,
          0.13837247787776416,
          0.13478785368634705,
          0.13102123714071262
         ]
        },
        {
         "marker": {
          "color": "#A51C30",
          "size": 8
         },
         "mode": "markers",
         "showlegend": false,
         "type": "scatter",
         "x": [
          2015,
          2019
         ],
         "y": [
          0.13648055822091448,
          0.13102123714071262
         ]
        },
        {
         "connectgaps": true,
         "line": {
          "color": "#093724",
          "width": 2
         },
         "mode": "lines",
         "name": "Duke University",
         "type": "scatter",
         "x": [
          2015,
          2016,
          2017,
          2018,
          2019
         ],
         "y": [
          0.11787242090265361,
          0.10422457311328494,
          0.1136355404569951,
          0.12075704253904408,
          0.15361973302721235
         ]
        },
        {
         "marker": {
          "color": "#093724",
          "size": 8
         },
         "mode": "markers",
         "showlegend": false,
         "type": "scatter",
         "x": [
          2015,
          2019
         ],
         "y": [
          0.11787242090265361,
          0.15361973302721235
         ]
        },
        {
         "connectgaps": true,
         "line": {
          "color": "#804EAF",
          "width": 2
         },
         "mode": "lines",
         "name": "University of Notre Dame",
         "type": "scatter",
         "x": [
          2015,
          2016,
          2017,
          2018,
          2019
         ],
         "y": [
          0.06597778579641504,
          0.07818835043380033,
          0.06592644863956834,
          0.08949678951787252,
          0.10153747283421881
         ]
        },
        {
         "marker": {
          "color": "#804EAF",
          "size": 8
         },
         "mode": "markers",
         "showlegend": false,
         "type": "scatter",
         "x": [
          2015,
          2019
         ],
         "y": [
          0.06597778579641504,
          0.10153747283421881
         ]
        },
        {
         "connectgaps": true,
         "line": {
          "color": "#0f4d92",
          "width": 2
         },
         "mode": "lines",
         "name": "Yale University",
         "type": "scatter",
         "x": [
          2015,
          2016,
          2017,
          2018,
          2019
         ],
         "y": [
          0.07920466978620015,
          0.08526602202046428,
          0.07969625249011758,
          0.08044606177948159,
          0.07599673274758273
         ]
        },
        {
         "marker": {
          "color": "#0f4d92",
          "size": 8
         },
         "mode": "markers",
         "showlegend": false,
         "type": "scatter",
         "x": [
          2015,
          2019
         ],
         "y": [
          0.07920466978620015,
          0.07599673274758273
         ]
        },
        {
         "connectgaps": true,
         "line": {
          "color": "#8A8B8C",
          "width": 2
         },
         "mode": "lines",
         "name": "Massachusetts Institute of Technology",
         "type": "scatter",
         "x": [
          2015,
          2016,
          2017,
          2018,
          2019
         ],
         "y": [
          0.07857813317615771,
          0.06976310892583445,
          0.07323287517251287,
          0.06770268702446254,
          0.06302706521259219
         ]
        },
        {
         "marker": {
          "color": "#8A8B8C",
          "size": 8
         },
         "mode": "markers",
         "showlegend": false,
         "type": "scatter",
         "x": [
          2015,
          2019
         ],
         "y": [
          0.07857813317615771,
          0.06302706521259219
         ]
        },
        {
         "connectgaps": true,
         "line": {
          "color": "#283304",
          "width": 2
         },
         "mode": "lines",
         "name": "Northwestern University",
         "type": "scatter",
         "x": [
          2015,
          2016,
          2017,
          2018,
          2019
         ],
         "y": [
          0.0664128806645001,
          0.06264442434156561,
          0.0728394522053543,
          0.06837634560182039,
          0.06766303148041856
         ]
        },
        {
         "marker": {
          "color": "#283304",
          "size": 8
         },
         "mode": "markers",
         "showlegend": false,
         "type": "scatter",
         "x": [
          2015,
          2019
         ],
         "y": [
          0.0664128806645001,
          0.06766303148041856
         ]
        },
        {
         "connectgaps": true,
         "line": {
          "color": "#011F5B",
          "width": 2
         },
         "mode": "lines",
         "name": "University of Pennsylvania",
         "type": "scatter",
         "x": [
          2015,
          2016,
          2017,
          2018,
          2019
         ],
         "y": [
          0.059416555185692665,
          0.0634881202922938,
          0.0668819044169534,
          0.06410984127855407,
          0.05960528058633933
         ]
        },
        {
         "marker": {
          "color": "#011F5B",
          "size": 8
         },
         "mode": "markers",
         "showlegend": false,
         "type": "scatter",
         "x": [
          2015,
          2019
         ],
         "y": [
          0.059416555185692665,
          0.05960528058633933
         ]
        },
        {
         "connectgaps": true,
         "line": {
          "color": "#B9D9EB",
          "width": 2
         },
         "mode": "lines",
         "name": "Columbia University",
         "type": "scatter",
         "x": [
          2015,
          2016,
          2017,
          2018,
          2019
         ],
         "y": [
          0.05555291275709755,
          0.051834569972861115,
          0.05373033665765334,
          0.05058053151661755,
          0.04801536491677339
         ]
        },
        {
         "marker": {
          "color": "#B9D9EB",
          "size": 8
         },
         "mode": "markers",
         "showlegend": false,
         "type": "scatter",
         "x": [
          2015,
          2019
         ],
         "y": [
          0.05555291275709755,
          0.04801536491677339
         ]
        },
        {
         "connectgaps": true,
         "line": {
          "color": "#7E4A41",
          "width": 2
         },
         "mode": "lines",
         "name": "Johns Hopkins University",
         "type": "scatter",
         "x": [
          2015,
          2016,
          2017,
          2018,
          2019
         ],
         "y": [
          0.054084032482442465,
          0.05031943266134514,
          0.052231582497049345,
          0.04809922242334949,
          0.045535490897317
         ]
        },
        {
         "marker": {
          "color": "#7E4A41",
          "size": 8
         },
         "mode": "markers",
         "showlegend": false,
         "type": "scatter",
         "x": [
          2015,
          2019
         ],
         "y": [
          0.054084032482442465,
          0.045535490897317
         ]
        },
        {
         "connectgaps": true,
         "line": {
          "color": "#ff8f00",
          "width": 2
         },
         "mode": "lines",
         "name": "Princeton University",
         "type": "scatter",
         "x": [
          2015,
          2016,
          2017,
          2018,
          2019
         ],
         "y": [
          0.04187353010450398,
          0.041657487567202715,
          0.042545883734145966,
          0.038454677124176474,
          0.03637025917259041
         ]
        },
        {
         "marker": {
          "color": "#ff8f00",
          "size": 8
         },
         "mode": "markers",
         "showlegend": false,
         "type": "scatter",
         "x": [
          2015,
          2019
         ],
         "y": [
          0.04187353010450398,
          0.03637025917259041
         ]
        },
        {
         "connectgaps": true,
         "line": {
          "color": "#9FCEF6",
          "width": 2
         },
         "mode": "lines",
         "name": "University of Chicago",
         "type": "scatter",
         "x": [
          2015,
          2016,
          2017,
          2018,
          2019
         ],
         "y": [
          0.036547968919143116,
          0.0355406919244236,
          0.036194912978586555,
          0.03581618102952496,
          0.03344518521789043
         ]
        },
        {
         "marker": {
          "color": "#9FCEF6",
          "size": 8
         },
         "mode": "markers",
         "showlegend": false,
         "type": "scatter",
         "x": [
          2015,
          2019
         ],
         "y": [
          0.036547968919143116,
          0.03344518521789043
         ]
        },
        {
         "connectgaps": true,
         "line": {
          "color": "#4E3629",
          "width": 2
         },
         "mode": "lines",
         "name": "Brown University",
         "type": "scatter",
         "x": [
          2015,
          2016,
          2017,
          2018,
          2019
         ],
         "y": [
          0.032742339139626014,
          0.03257017909790154,
          0.030999231888492688,
          0.030645227690361557,
          0.029814904754195667
         ]
        },
        {
         "marker": {
          "color": "#4E3629",
          "size": 8
         },
         "mode": "markers",
         "showlegend": false,
         "type": "scatter",
         "x": [
          2015,
          2019
         ],
         "y": [
          0.032742339139626014,
          0.029814904754195667
         ]
        },
        {
         "connectgaps": true,
         "line": {
          "color": "#00693e",
          "width": 2
         },
         "mode": "lines",
         "name": "Dartmouth College",
         "type": "scatter",
         "x": [
          2015,
          2016,
          2017,
          2018,
          2019
         ],
         "y": [
          0.025917731102089482,
          0.025817096092281572,
          0.024969244315662605,
          0.025194830793183066,
          0.02251755044372821
         ]
        },
        {
         "marker": {
          "color": "#00693e",
          "size": 8
         },
         "mode": "markers",
         "showlegend": false,
         "type": "scatter",
         "x": [
          2015,
          2019
         ],
         "y": [
          0.025917731102089482,
          0.02251755044372821
         ]
        },
        {
         "connectgaps": true,
         "line": {
          "color": "#031781",
          "width": 2
         },
         "mode": "lines",
         "name": "California Institute of Technology",
         "type": "scatter",
         "x": [
          2015,
          2016,
          2017,
          2018,
          2019
         ],
         "y": [
          0.012544655236627796,
          0.011354741336883108,
          0.011720257535923267,
          0.010688716094077672,
          0.010633287709538322
         ]
        },
        {
         "marker": {
          "color": "#031781",
          "size": 8
         },
         "mode": "markers",
         "showlegend": false,
         "type": "scatter",
         "x": [
          2015,
          2019
         ],
         "y": [
          0.012544655236627796,
          0.010633287709538322
         ]
        }
       ],
       "layout": {
        "annotations": [
         {
          "font": {
           "family": "Arial",
           "size": 12
          },
          "showarrow": false,
          "text": "0.12",
          "x": 1,
          "xanchor": "right",
          "xref": "paper",
          "y": 0.12119740385889002,
          "yanchor": "middle"
         },
         {
          "font": {
           "family": "Arial",
           "size": 12
          },
          "showarrow": false,
          "text": "0.13",
          "x": 1,
          "xanchor": "right",
          "xref": "paper",
          "y": 0.13102123714071262,
          "yanchor": "middle"
         },
         {
          "font": {
           "family": "Arial",
           "size": 12
          },
          "showarrow": false,
          "text": "0.15",
          "x": 1,
          "xanchor": "right",
          "xref": "paper",
          "y": 0.15361973302721235,
          "yanchor": "middle"
         },
         {
          "font": {
           "family": "Arial",
           "size": 12
          },
          "showarrow": false,
          "text": "0.10",
          "x": 1,
          "xanchor": "right",
          "xref": "paper",
          "y": 0.10153747283421881,
          "yanchor": "middle"
         },
         {
          "font": {
           "family": "Arial",
           "size": 12
          },
          "showarrow": false,
          "text": "0.08",
          "x": 1,
          "xanchor": "right",
          "xref": "paper",
          "y": 0.07599673274758273,
          "yanchor": "middle"
         },
         {
          "font": {
           "family": "Arial",
           "size": 12
          },
          "showarrow": false,
          "text": "0.06",
          "x": 1,
          "xanchor": "right",
          "xref": "paper",
          "y": 0.06302706521259219,
          "yanchor": "middle"
         },
         {
          "font": {
           "family": "Arial",
           "size": 12
          },
          "showarrow": false,
          "text": "0.07",
          "x": 1,
          "xanchor": "right",
          "xref": "paper",
          "y": 0.06766303148041856,
          "yanchor": "middle"
         },
         {
          "font": {
           "family": "Arial",
           "size": 12
          },
          "showarrow": false,
          "text": "0.06",
          "x": 1,
          "xanchor": "right",
          "xref": "paper",
          "y": 0.05960528058633933,
          "yanchor": "middle"
         },
         {
          "font": {
           "family": "Arial",
           "size": 12
          },
          "showarrow": false,
          "text": "0.05",
          "x": 1,
          "xanchor": "right",
          "xref": "paper",
          "y": 0.04801536491677339,
          "yanchor": "middle"
         },
         {
          "font": {
           "family": "Arial",
           "size": 12
          },
          "showarrow": false,
          "text": "0.05",
          "x": 1,
          "xanchor": "right",
          "xref": "paper",
          "y": 0.045535490897317,
          "yanchor": "middle"
         },
         {
          "font": {
           "family": "Arial",
           "size": 12
          },
          "showarrow": false,
          "text": "0.04",
          "x": 1,
          "xanchor": "right",
          "xref": "paper",
          "y": 0.03637025917259041,
          "yanchor": "middle"
         },
         {
          "font": {
           "family": "Arial",
           "size": 12
          },
          "showarrow": false,
          "text": "0.03",
          "x": 1,
          "xanchor": "right",
          "xref": "paper",
          "y": 0.03344518521789043,
          "yanchor": "middle"
         },
         {
          "font": {
           "family": "Arial",
           "size": 12
          },
          "showarrow": false,
          "text": "0.03",
          "x": 1,
          "xanchor": "right",
          "xref": "paper",
          "y": 0.029814904754195667,
          "yanchor": "middle"
         },
         {
          "font": {
           "family": "Arial",
           "size": 12
          },
          "showarrow": false,
          "text": "0.02",
          "x": 1,
          "xanchor": "right",
          "xref": "paper",
          "y": 0.02251755044372821,
          "yanchor": "middle"
         },
         {
          "font": {
           "family": "Arial",
           "size": 12
          },
          "showarrow": false,
          "text": "0.01",
          "x": 1,
          "xanchor": "right",
          "xref": "paper",
          "y": 0.010633287709538322,
          "yanchor": "middle"
         },
         {
          "font": {
           "color": "rgb(37,37,37)",
           "family": "Arial",
           "size": 20
          },
          "showarrow": false,
          "text": "US US News Search Trends",
          "x": 0,
          "xanchor": "left",
          "xref": "paper",
          "y": 1.05,
          "yanchor": "bottom",
          "yref": "paper"
         },
         {
          "font": {
           "color": "rgb(150,150,150)",
           "family": "Arial",
           "size": 12
          },
          "showarrow": false,
          "text": "Source: Harvard Open Data Project",
          "x": 0.5,
          "xanchor": "center",
          "xref": "paper",
          "y": -0.1,
          "yanchor": "top",
          "yref": "paper"
         }
        ],
        "autosize": false,
        "margin": {
         "autoexpand": false,
         "l": 100,
         "r": 200,
         "t": 110
        },
        "plot_bgcolor": "white",
        "showlegend": true,
        "template": {
         "data": {
          "bar": [
           {
            "error_x": {
             "color": "#2a3f5f"
            },
            "error_y": {
             "color": "#2a3f5f"
            },
            "marker": {
             "line": {
              "color": "#E5ECF6",
              "width": 0.5
             }
            },
            "type": "bar"
           }
          ],
          "barpolar": [
           {
            "marker": {
             "line": {
              "color": "#E5ECF6",
              "width": 0.5
             }
            },
            "type": "barpolar"
           }
          ],
          "carpet": [
           {
            "aaxis": {
             "endlinecolor": "#2a3f5f",
             "gridcolor": "white",
             "linecolor": "white",
             "minorgridcolor": "white",
             "startlinecolor": "#2a3f5f"
            },
            "baxis": {
             "endlinecolor": "#2a3f5f",
             "gridcolor": "white",
             "linecolor": "white",
             "minorgridcolor": "white",
             "startlinecolor": "#2a3f5f"
            },
            "type": "carpet"
           }
          ],
          "choropleth": [
           {
            "colorbar": {
             "outlinewidth": 0,
             "ticks": ""
            },
            "type": "choropleth"
           }
          ],
          "contour": [
           {
            "colorbar": {
             "outlinewidth": 0,
             "ticks": ""
            },
            "colorscale": [
             [
              0,
              "#0d0887"
             ],
             [
              0.1111111111111111,
              "#46039f"
             ],
             [
              0.2222222222222222,
              "#7201a8"
             ],
             [
              0.3333333333333333,
              "#9c179e"
             ],
             [
              0.4444444444444444,
              "#bd3786"
             ],
             [
              0.5555555555555556,
              "#d8576b"
             ],
             [
              0.6666666666666666,
              "#ed7953"
             ],
             [
              0.7777777777777778,
              "#fb9f3a"
             ],
             [
              0.8888888888888888,
              "#fdca26"
             ],
             [
              1,
              "#f0f921"
             ]
            ],
            "type": "contour"
           }
          ],
          "contourcarpet": [
           {
            "colorbar": {
             "outlinewidth": 0,
             "ticks": ""
            },
            "type": "contourcarpet"
           }
          ],
          "heatmap": [
           {
            "colorbar": {
             "outlinewidth": 0,
             "ticks": ""
            },
            "colorscale": [
             [
              0,
              "#0d0887"
             ],
             [
              0.1111111111111111,
              "#46039f"
             ],
             [
              0.2222222222222222,
              "#7201a8"
             ],
             [
              0.3333333333333333,
              "#9c179e"
             ],
             [
              0.4444444444444444,
              "#bd3786"
             ],
             [
              0.5555555555555556,
              "#d8576b"
             ],
             [
              0.6666666666666666,
              "#ed7953"
             ],
             [
              0.7777777777777778,
              "#fb9f3a"
             ],
             [
              0.8888888888888888,
              "#fdca26"
             ],
             [
              1,
              "#f0f921"
             ]
            ],
            "type": "heatmap"
           }
          ],
          "heatmapgl": [
           {
            "colorbar": {
             "outlinewidth": 0,
             "ticks": ""
            },
            "colorscale": [
             [
              0,
              "#0d0887"
             ],
             [
              0.1111111111111111,
              "#46039f"
             ],
             [
              0.2222222222222222,
              "#7201a8"
             ],
             [
              0.3333333333333333,
              "#9c179e"
             ],
             [
              0.4444444444444444,
              "#bd3786"
             ],
             [
              0.5555555555555556,
              "#d8576b"
             ],
             [
              0.6666666666666666,
              "#ed7953"
             ],
             [
              0.7777777777777778,
              "#fb9f3a"
             ],
             [
              0.8888888888888888,
              "#fdca26"
             ],
             [
              1,
              "#f0f921"
             ]
            ],
            "type": "heatmapgl"
           }
          ],
          "histogram": [
           {
            "marker": {
             "colorbar": {
              "outlinewidth": 0,
              "ticks": ""
             }
            },
            "type": "histogram"
           }
          ],
          "histogram2d": [
           {
            "colorbar": {
             "outlinewidth": 0,
             "ticks": ""
            },
            "colorscale": [
             [
              0,
              "#0d0887"
             ],
             [
              0.1111111111111111,
              "#46039f"
             ],
             [
              0.2222222222222222,
              "#7201a8"
             ],
             [
              0.3333333333333333,
              "#9c179e"
             ],
             [
              0.4444444444444444,
              "#bd3786"
             ],
             [
              0.5555555555555556,
              "#d8576b"
             ],
             [
              0.6666666666666666,
              "#ed7953"
             ],
             [
              0.7777777777777778,
              "#fb9f3a"
             ],
             [
              0.8888888888888888,
              "#fdca26"
             ],
             [
              1,
              "#f0f921"
             ]
            ],
            "type": "histogram2d"
           }
          ],
          "histogram2dcontour": [
           {
            "colorbar": {
             "outlinewidth": 0,
             "ticks": ""
            },
            "colorscale": [
             [
              0,
              "#0d0887"
             ],
             [
              0.1111111111111111,
              "#46039f"
             ],
             [
              0.2222222222222222,
              "#7201a8"
             ],
             [
              0.3333333333333333,
              "#9c179e"
             ],
             [
              0.4444444444444444,
              "#bd3786"
             ],
             [
              0.5555555555555556,
              "#d8576b"
             ],
             [
              0.6666666666666666,
              "#ed7953"
             ],
             [
              0.7777777777777778,
              "#fb9f3a"
             ],
             [
              0.8888888888888888,
              "#fdca26"
             ],
             [
              1,
              "#f0f921"
             ]
            ],
            "type": "histogram2dcontour"
           }
          ],
          "mesh3d": [
           {
            "colorbar": {
             "outlinewidth": 0,
             "ticks": ""
            },
            "type": "mesh3d"
           }
          ],
          "parcoords": [
           {
            "line": {
             "colorbar": {
              "outlinewidth": 0,
              "ticks": ""
             }
            },
            "type": "parcoords"
           }
          ],
          "scatter": [
           {
            "marker": {
             "colorbar": {
              "outlinewidth": 0,
              "ticks": ""
             }
            },
            "type": "scatter"
           }
          ],
          "scatter3d": [
           {
            "line": {
             "colorbar": {
              "outlinewidth": 0,
              "ticks": ""
             }
            },
            "marker": {
             "colorbar": {
              "outlinewidth": 0,
              "ticks": ""
             }
            },
            "type": "scatter3d"
           }
          ],
          "scattercarpet": [
           {
            "marker": {
             "colorbar": {
              "outlinewidth": 0,
              "ticks": ""
             }
            },
            "type": "scattercarpet"
           }
          ],
          "scattergeo": [
           {
            "marker": {
             "colorbar": {
              "outlinewidth": 0,
              "ticks": ""
             }
            },
            "type": "scattergeo"
           }
          ],
          "scattergl": [
           {
            "marker": {
             "colorbar": {
              "outlinewidth": 0,
              "ticks": ""
             }
            },
            "type": "scattergl"
           }
          ],
          "scattermapbox": [
           {
            "marker": {
             "colorbar": {
              "outlinewidth": 0,
              "ticks": ""
             }
            },
            "type": "scattermapbox"
           }
          ],
          "scatterpolar": [
           {
            "marker": {
             "colorbar": {
              "outlinewidth": 0,
              "ticks": ""
             }
            },
            "type": "scatterpolar"
           }
          ],
          "scatterpolargl": [
           {
            "marker": {
             "colorbar": {
              "outlinewidth": 0,
              "ticks": ""
             }
            },
            "type": "scatterpolargl"
           }
          ],
          "scatterternary": [
           {
            "marker": {
             "colorbar": {
              "outlinewidth": 0,
              "ticks": ""
             }
            },
            "type": "scatterternary"
           }
          ],
          "surface": [
           {
            "colorbar": {
             "outlinewidth": 0,
             "ticks": ""
            },
            "colorscale": [
             [
              0,
              "#0d0887"
             ],
             [
              0.1111111111111111,
              "#46039f"
             ],
             [
              0.2222222222222222,
              "#7201a8"
             ],
             [
              0.3333333333333333,
              "#9c179e"
             ],
             [
              0.4444444444444444,
              "#bd3786"
             ],
             [
              0.5555555555555556,
              "#d8576b"
             ],
             [
              0.6666666666666666,
              "#ed7953"
             ],
             [
              0.7777777777777778,
              "#fb9f3a"
             ],
             [
              0.8888888888888888,
              "#fdca26"
             ],
             [
              1,
              "#f0f921"
             ]
            ],
            "type": "surface"
           }
          ],
          "table": [
           {
            "cells": {
             "fill": {
              "color": "#EBF0F8"
             },
             "line": {
              "color": "white"
             }
            },
            "header": {
             "fill": {
              "color": "#C8D4E3"
             },
             "line": {
              "color": "white"
             }
            },
            "type": "table"
           }
          ]
         },
         "layout": {
          "annotationdefaults": {
           "arrowcolor": "#2a3f5f",
           "arrowhead": 0,
           "arrowwidth": 1
          },
          "colorscale": {
           "diverging": [
            [
             0,
             "#8e0152"
            ],
            [
             0.1,
             "#c51b7d"
            ],
            [
             0.2,
             "#de77ae"
            ],
            [
             0.3,
             "#f1b6da"
            ],
            [
             0.4,
             "#fde0ef"
            ],
            [
             0.5,
             "#f7f7f7"
            ],
            [
             0.6,
             "#e6f5d0"
            ],
            [
             0.7,
             "#b8e186"
            ],
            [
             0.8,
             "#7fbc41"
            ],
            [
             0.9,
             "#4d9221"
            ],
            [
             1,
             "#276419"
            ]
           ],
           "sequential": [
            [
             0,
             "#0d0887"
            ],
            [
             0.1111111111111111,
             "#46039f"
            ],
            [
             0.2222222222222222,
             "#7201a8"
            ],
            [
             0.3333333333333333,
             "#9c179e"
            ],
            [
             0.4444444444444444,
             "#bd3786"
            ],
            [
             0.5555555555555556,
             "#d8576b"
            ],
            [
             0.6666666666666666,
             "#ed7953"
            ],
            [
             0.7777777777777778,
             "#fb9f3a"
            ],
            [
             0.8888888888888888,
             "#fdca26"
            ],
            [
             1,
             "#f0f921"
            ]
           ],
           "sequentialminus": [
            [
             0,
             "#0d0887"
            ],
            [
             0.1111111111111111,
             "#46039f"
            ],
            [
             0.2222222222222222,
             "#7201a8"
            ],
            [
             0.3333333333333333,
             "#9c179e"
            ],
            [
             0.4444444444444444,
             "#bd3786"
            ],
            [
             0.5555555555555556,
             "#d8576b"
            ],
            [
             0.6666666666666666,
             "#ed7953"
            ],
            [
             0.7777777777777778,
             "#fb9f3a"
            ],
            [
             0.8888888888888888,
             "#fdca26"
            ],
            [
             1,
             "#f0f921"
            ]
           ]
          },
          "colorway": [
           "#636efa",
           "#EF553B",
           "#00cc96",
           "#ab63fa",
           "#FFA15A",
           "#19d3f3",
           "#FF6692",
           "#B6E880",
           "#FF97FF",
           "#FECB52"
          ],
          "font": {
           "color": "#2a3f5f"
          },
          "geo": {
           "bgcolor": "white",
           "lakecolor": "white",
           "landcolor": "#E5ECF6",
           "showlakes": true,
           "showland": true,
           "subunitcolor": "white"
          },
          "hoverlabel": {
           "align": "left"
          },
          "hovermode": "closest",
          "mapbox": {
           "style": "light"
          },
          "paper_bgcolor": "white",
          "plot_bgcolor": "#E5ECF6",
          "polar": {
           "angularaxis": {
            "gridcolor": "white",
            "linecolor": "white",
            "ticks": ""
           },
           "bgcolor": "#E5ECF6",
           "radialaxis": {
            "gridcolor": "white",
            "linecolor": "white",
            "ticks": ""
           }
          },
          "scene": {
           "xaxis": {
            "backgroundcolor": "#E5ECF6",
            "gridcolor": "white",
            "gridwidth": 2,
            "linecolor": "white",
            "showbackground": true,
            "ticks": "",
            "zerolinecolor": "white"
           },
           "yaxis": {
            "backgroundcolor": "#E5ECF6",
            "gridcolor": "white",
            "gridwidth": 2,
            "linecolor": "white",
            "showbackground": true,
            "ticks": "",
            "zerolinecolor": "white"
           },
           "zaxis": {
            "backgroundcolor": "#E5ECF6",
            "gridcolor": "white",
            "gridwidth": 2,
            "linecolor": "white",
            "showbackground": true,
            "ticks": "",
            "zerolinecolor": "white"
           }
          },
          "shapedefaults": {
           "line": {
            "color": "#2a3f5f"
           }
          },
          "ternary": {
           "aaxis": {
            "gridcolor": "white",
            "linecolor": "white",
            "ticks": ""
           },
           "baxis": {
            "gridcolor": "white",
            "linecolor": "white",
            "ticks": ""
           },
           "bgcolor": "#E5ECF6",
           "caxis": {
            "gridcolor": "white",
            "linecolor": "white",
            "ticks": ""
           }
          },
          "title": {
           "x": 0.05
          },
          "xaxis": {
           "automargin": true,
           "gridcolor": "white",
           "linecolor": "white",
           "ticks": "",
           "zerolinecolor": "white",
           "zerolinewidth": 2
          },
          "yaxis": {
           "automargin": true,
           "gridcolor": "white",
           "linecolor": "white",
           "ticks": "",
           "zerolinecolor": "white",
           "zerolinewidth": 2
          }
         }
        },
        "xaxis": {
         "linecolor": "rgb(204, 204, 204)",
         "linewidth": 2,
         "showgrid": false,
         "showline": true,
         "showticklabels": true,
         "tickfont": {
          "color": "rgb(82, 82, 82)",
          "family": "Arial",
          "size": 12
         },
         "ticks": "outside"
        },
        "yaxis": {
         "showgrid": false,
         "showline": false,
         "showticklabels": false,
         "zeroline": false
        }
       }
      },
      "text/html": [
       "<div>\n",
       "        \n",
       "        \n",
       "            <div id=\"73403edd-e287-4e84-9696-f9b3934dc859\" class=\"plotly-graph-div\" style=\"height:525px; width:100%;\"></div>\n",
       "            <script type=\"text/javascript\">\n",
       "                require([\"plotly\"], function(Plotly) {\n",
       "                    window.PLOTLYENV=window.PLOTLYENV || {};\n",
       "                    \n",
       "                if (document.getElementById(\"73403edd-e287-4e84-9696-f9b3934dc859\")) {\n",
       "                    Plotly.newPlot(\n",
       "                        '73403edd-e287-4e84-9696-f9b3934dc859',\n",
       "                        [{\"connectgaps\": true, \"line\": {\"color\": \"#d2c295\", \"width\": 2}, \"mode\": \"lines\", \"name\": \"Stanford University\", \"type\": \"scatter\", \"x\": [2015, 2016, 2017, 2018, 2019], \"y\": [0.13679382652593566, 0.1569274468354371, 0.13702359913322054, 0.1348439919011269, 0.12119740385889002]}, {\"marker\": {\"color\": \"#d2c295\", \"size\": 8}, \"mode\": \"markers\", \"showlegend\": false, \"type\": \"scatter\", \"x\": [2015, 2019], \"y\": [0.13679382652593566, 0.12119740385889002]}, {\"connectgaps\": true, \"line\": {\"color\": \"#A51C30\", \"width\": 2}, \"mode\": \"lines\", \"name\": \"Harvard University\", \"type\": \"scatter\", \"x\": [2015, 2016, 2017, 2018, 2019], \"y\": [0.13648055822091448, 0.13040375538442073, 0.13837247787776416, 0.13478785368634705, 0.13102123714071262]}, {\"marker\": {\"color\": \"#A51C30\", \"size\": 8}, \"mode\": \"markers\", \"showlegend\": false, \"type\": \"scatter\", \"x\": [2015, 2019], \"y\": [0.13648055822091448, 0.13102123714071262]}, {\"connectgaps\": true, \"line\": {\"color\": \"#093724\", \"width\": 2}, \"mode\": \"lines\", \"name\": \"Duke University\", \"type\": \"scatter\", \"x\": [2015, 2016, 2017, 2018, 2019], \"y\": [0.11787242090265361, 0.10422457311328494, 0.1136355404569951, 0.12075704253904408, 0.15361973302721235]}, {\"marker\": {\"color\": \"#093724\", \"size\": 8}, \"mode\": \"markers\", \"showlegend\": false, \"type\": \"scatter\", \"x\": [2015, 2019], \"y\": [0.11787242090265361, 0.15361973302721235]}, {\"connectgaps\": true, \"line\": {\"color\": \"#804EAF\", \"width\": 2}, \"mode\": \"lines\", \"name\": \"University of Notre Dame\", \"type\": \"scatter\", \"x\": [2015, 2016, 2017, 2018, 2019], \"y\": [0.06597778579641504, 0.07818835043380033, 0.06592644863956834, 0.08949678951787252, 0.10153747283421881]}, {\"marker\": {\"color\": \"#804EAF\", \"size\": 8}, \"mode\": \"markers\", \"showlegend\": false, \"type\": \"scatter\", \"x\": [2015, 2019], \"y\": [0.06597778579641504, 0.10153747283421881]}, {\"connectgaps\": true, \"line\": {\"color\": \"#0f4d92\", \"width\": 2}, \"mode\": \"lines\", \"name\": \"Yale University\", \"type\": \"scatter\", \"x\": [2015, 2016, 2017, 2018, 2019], \"y\": [0.07920466978620015, 0.08526602202046428, 0.07969625249011758, 0.08044606177948159, 0.07599673274758273]}, {\"marker\": {\"color\": \"#0f4d92\", \"size\": 8}, \"mode\": \"markers\", \"showlegend\": false, \"type\": \"scatter\", \"x\": [2015, 2019], \"y\": [0.07920466978620015, 0.07599673274758273]}, {\"connectgaps\": true, \"line\": {\"color\": \"#8A8B8C\", \"width\": 2}, \"mode\": \"lines\", \"name\": \"Massachusetts Institute of Technology\", \"type\": \"scatter\", \"x\": [2015, 2016, 2017, 2018, 2019], \"y\": [0.07857813317615771, 0.06976310892583445, 0.07323287517251287, 0.06770268702446254, 0.06302706521259219]}, {\"marker\": {\"color\": \"#8A8B8C\", \"size\": 8}, \"mode\": \"markers\", \"showlegend\": false, \"type\": \"scatter\", \"x\": [2015, 2019], \"y\": [0.07857813317615771, 0.06302706521259219]}, {\"connectgaps\": true, \"line\": {\"color\": \"#283304\", \"width\": 2}, \"mode\": \"lines\", \"name\": \"Northwestern University\", \"type\": \"scatter\", \"x\": [2015, 2016, 2017, 2018, 2019], \"y\": [0.0664128806645001, 0.06264442434156561, 0.0728394522053543, 0.06837634560182039, 0.06766303148041856]}, {\"marker\": {\"color\": \"#283304\", \"size\": 8}, \"mode\": \"markers\", \"showlegend\": false, \"type\": \"scatter\", \"x\": [2015, 2019], \"y\": [0.0664128806645001, 0.06766303148041856]}, {\"connectgaps\": true, \"line\": {\"color\": \"#011F5B\", \"width\": 2}, \"mode\": \"lines\", \"name\": \"University of Pennsylvania\", \"type\": \"scatter\", \"x\": [2015, 2016, 2017, 2018, 2019], \"y\": [0.059416555185692665, 0.0634881202922938, 0.0668819044169534, 0.06410984127855407, 0.05960528058633933]}, {\"marker\": {\"color\": \"#011F5B\", \"size\": 8}, \"mode\": \"markers\", \"showlegend\": false, \"type\": \"scatter\", \"x\": [2015, 2019], \"y\": [0.059416555185692665, 0.05960528058633933]}, {\"connectgaps\": true, \"line\": {\"color\": \"#B9D9EB\", \"width\": 2}, \"mode\": \"lines\", \"name\": \"Columbia University\", \"type\": \"scatter\", \"x\": [2015, 2016, 2017, 2018, 2019], \"y\": [0.05555291275709755, 0.051834569972861115, 0.05373033665765334, 0.05058053151661755, 0.04801536491677339]}, {\"marker\": {\"color\": \"#B9D9EB\", \"size\": 8}, \"mode\": \"markers\", \"showlegend\": false, \"type\": \"scatter\", \"x\": [2015, 2019], \"y\": [0.05555291275709755, 0.04801536491677339]}, {\"connectgaps\": true, \"line\": {\"color\": \"#7E4A41\", \"width\": 2}, \"mode\": \"lines\", \"name\": \"Johns Hopkins University\", \"type\": \"scatter\", \"x\": [2015, 2016, 2017, 2018, 2019], \"y\": [0.054084032482442465, 0.05031943266134514, 0.052231582497049345, 0.04809922242334949, 0.045535490897317]}, {\"marker\": {\"color\": \"#7E4A41\", \"size\": 8}, \"mode\": \"markers\", \"showlegend\": false, \"type\": \"scatter\", \"x\": [2015, 2019], \"y\": [0.054084032482442465, 0.045535490897317]}, {\"connectgaps\": true, \"line\": {\"color\": \"#ff8f00\", \"width\": 2}, \"mode\": \"lines\", \"name\": \"Princeton University\", \"type\": \"scatter\", \"x\": [2015, 2016, 2017, 2018, 2019], \"y\": [0.04187353010450398, 0.041657487567202715, 0.042545883734145966, 0.038454677124176474, 0.03637025917259041]}, {\"marker\": {\"color\": \"#ff8f00\", \"size\": 8}, \"mode\": \"markers\", \"showlegend\": false, \"type\": \"scatter\", \"x\": [2015, 2019], \"y\": [0.04187353010450398, 0.03637025917259041]}, {\"connectgaps\": true, \"line\": {\"color\": \"#9FCEF6\", \"width\": 2}, \"mode\": \"lines\", \"name\": \"University of Chicago\", \"type\": \"scatter\", \"x\": [2015, 2016, 2017, 2018, 2019], \"y\": [0.036547968919143116, 0.0355406919244236, 0.036194912978586555, 0.03581618102952496, 0.03344518521789043]}, {\"marker\": {\"color\": \"#9FCEF6\", \"size\": 8}, \"mode\": \"markers\", \"showlegend\": false, \"type\": \"scatter\", \"x\": [2015, 2019], \"y\": [0.036547968919143116, 0.03344518521789043]}, {\"connectgaps\": true, \"line\": {\"color\": \"#4E3629\", \"width\": 2}, \"mode\": \"lines\", \"name\": \"Brown University\", \"type\": \"scatter\", \"x\": [2015, 2016, 2017, 2018, 2019], \"y\": [0.032742339139626014, 0.03257017909790154, 0.030999231888492688, 0.030645227690361557, 0.029814904754195667]}, {\"marker\": {\"color\": \"#4E3629\", \"size\": 8}, \"mode\": \"markers\", \"showlegend\": false, \"type\": \"scatter\", \"x\": [2015, 2019], \"y\": [0.032742339139626014, 0.029814904754195667]}, {\"connectgaps\": true, \"line\": {\"color\": \"#00693e\", \"width\": 2}, \"mode\": \"lines\", \"name\": \"Dartmouth College\", \"type\": \"scatter\", \"x\": [2015, 2016, 2017, 2018, 2019], \"y\": [0.025917731102089482, 0.025817096092281572, 0.024969244315662605, 0.025194830793183066, 0.02251755044372821]}, {\"marker\": {\"color\": \"#00693e\", \"size\": 8}, \"mode\": \"markers\", \"showlegend\": false, \"type\": \"scatter\", \"x\": [2015, 2019], \"y\": [0.025917731102089482, 0.02251755044372821]}, {\"connectgaps\": true, \"line\": {\"color\": \"#031781\", \"width\": 2}, \"mode\": \"lines\", \"name\": \"California Institute of Technology\", \"type\": \"scatter\", \"x\": [2015, 2016, 2017, 2018, 2019], \"y\": [0.012544655236627796, 0.011354741336883108, 0.011720257535923267, 0.010688716094077672, 0.010633287709538322]}, {\"marker\": {\"color\": \"#031781\", \"size\": 8}, \"mode\": \"markers\", \"showlegend\": false, \"type\": \"scatter\", \"x\": [2015, 2019], \"y\": [0.012544655236627796, 0.010633287709538322]}],\n",
       "                        {\"annotations\": [{\"font\": {\"family\": \"Arial\", \"size\": 12}, \"showarrow\": false, \"text\": \"0.12\", \"x\": 1, \"xanchor\": \"right\", \"xref\": \"paper\", \"y\": 0.12119740385889002, \"yanchor\": \"middle\"}, {\"font\": {\"family\": \"Arial\", \"size\": 12}, \"showarrow\": false, \"text\": \"0.13\", \"x\": 1, \"xanchor\": \"right\", \"xref\": \"paper\", \"y\": 0.13102123714071262, \"yanchor\": \"middle\"}, {\"font\": {\"family\": \"Arial\", \"size\": 12}, \"showarrow\": false, \"text\": \"0.15\", \"x\": 1, \"xanchor\": \"right\", \"xref\": \"paper\", \"y\": 0.15361973302721235, \"yanchor\": \"middle\"}, {\"font\": {\"family\": \"Arial\", \"size\": 12}, \"showarrow\": false, \"text\": \"0.10\", \"x\": 1, \"xanchor\": \"right\", \"xref\": \"paper\", \"y\": 0.10153747283421881, \"yanchor\": \"middle\"}, {\"font\": {\"family\": \"Arial\", \"size\": 12}, \"showarrow\": false, \"text\": \"0.08\", \"x\": 1, \"xanchor\": \"right\", \"xref\": \"paper\", \"y\": 0.07599673274758273, \"yanchor\": \"middle\"}, {\"font\": {\"family\": \"Arial\", \"size\": 12}, \"showarrow\": false, \"text\": \"0.06\", \"x\": 1, \"xanchor\": \"right\", \"xref\": \"paper\", \"y\": 0.06302706521259219, \"yanchor\": \"middle\"}, {\"font\": {\"family\": \"Arial\", \"size\": 12}, \"showarrow\": false, \"text\": \"0.07\", \"x\": 1, \"xanchor\": \"right\", \"xref\": \"paper\", \"y\": 0.06766303148041856, \"yanchor\": \"middle\"}, {\"font\": {\"family\": \"Arial\", \"size\": 12}, \"showarrow\": false, \"text\": \"0.06\", \"x\": 1, \"xanchor\": \"right\", \"xref\": \"paper\", \"y\": 0.05960528058633933, \"yanchor\": \"middle\"}, {\"font\": {\"family\": \"Arial\", \"size\": 12}, \"showarrow\": false, \"text\": \"0.05\", \"x\": 1, \"xanchor\": \"right\", \"xref\": \"paper\", \"y\": 0.04801536491677339, \"yanchor\": \"middle\"}, {\"font\": {\"family\": \"Arial\", \"size\": 12}, \"showarrow\": false, \"text\": \"0.05\", \"x\": 1, \"xanchor\": \"right\", \"xref\": \"paper\", \"y\": 0.045535490897317, \"yanchor\": \"middle\"}, {\"font\": {\"family\": \"Arial\", \"size\": 12}, \"showarrow\": false, \"text\": \"0.04\", \"x\": 1, \"xanchor\": \"right\", \"xref\": \"paper\", \"y\": 0.03637025917259041, \"yanchor\": \"middle\"}, {\"font\": {\"family\": \"Arial\", \"size\": 12}, \"showarrow\": false, \"text\": \"0.03\", \"x\": 1, \"xanchor\": \"right\", \"xref\": \"paper\", \"y\": 0.03344518521789043, \"yanchor\": \"middle\"}, {\"font\": {\"family\": \"Arial\", \"size\": 12}, \"showarrow\": false, \"text\": \"0.03\", \"x\": 1, \"xanchor\": \"right\", \"xref\": \"paper\", \"y\": 0.029814904754195667, \"yanchor\": \"middle\"}, {\"font\": {\"family\": \"Arial\", \"size\": 12}, \"showarrow\": false, \"text\": \"0.02\", \"x\": 1, \"xanchor\": \"right\", \"xref\": \"paper\", \"y\": 0.02251755044372821, \"yanchor\": \"middle\"}, {\"font\": {\"family\": \"Arial\", \"size\": 12}, \"showarrow\": false, \"text\": \"0.01\", \"x\": 1, \"xanchor\": \"right\", \"xref\": \"paper\", \"y\": 0.010633287709538322, \"yanchor\": \"middle\"}, {\"font\": {\"color\": \"rgb(37,37,37)\", \"family\": \"Arial\", \"size\": 20}, \"showarrow\": false, \"text\": \"US US News Search Trends\", \"x\": 0.0, \"xanchor\": \"left\", \"xref\": \"paper\", \"y\": 1.05, \"yanchor\": \"bottom\", \"yref\": \"paper\"}, {\"font\": {\"color\": \"rgb(150,150,150)\", \"family\": \"Arial\", \"size\": 12}, \"showarrow\": false, \"text\": \"Source: Harvard Open Data Project\", \"x\": 0.5, \"xanchor\": \"center\", \"xref\": \"paper\", \"y\": -0.1, \"yanchor\": \"top\", \"yref\": \"paper\"}], \"autosize\": false, \"margin\": {\"autoexpand\": false, \"l\": 100, \"r\": 200, \"t\": 110}, \"plot_bgcolor\": \"white\", \"showlegend\": true, \"template\": {\"data\": {\"bar\": [{\"error_x\": {\"color\": \"#2a3f5f\"}, \"error_y\": {\"color\": \"#2a3f5f\"}, \"marker\": {\"line\": {\"color\": \"#E5ECF6\", \"width\": 0.5}}, \"type\": \"bar\"}], \"barpolar\": [{\"marker\": {\"line\": {\"color\": \"#E5ECF6\", \"width\": 0.5}}, \"type\": \"barpolar\"}], \"carpet\": [{\"aaxis\": {\"endlinecolor\": \"#2a3f5f\", \"gridcolor\": \"white\", \"linecolor\": \"white\", \"minorgridcolor\": \"white\", \"startlinecolor\": \"#2a3f5f\"}, \"baxis\": {\"endlinecolor\": \"#2a3f5f\", \"gridcolor\": \"white\", \"linecolor\": \"white\", \"minorgridcolor\": \"white\", \"startlinecolor\": \"#2a3f5f\"}, \"type\": \"carpet\"}], \"choropleth\": [{\"colorbar\": {\"outlinewidth\": 0, \"ticks\": \"\"}, \"type\": \"choropleth\"}], \"contour\": [{\"colorbar\": {\"outlinewidth\": 0, \"ticks\": \"\"}, \"colorscale\": [[0.0, \"#0d0887\"], [0.1111111111111111, \"#46039f\"], [0.2222222222222222, \"#7201a8\"], [0.3333333333333333, \"#9c179e\"], [0.4444444444444444, \"#bd3786\"], [0.5555555555555556, \"#d8576b\"], [0.6666666666666666, \"#ed7953\"], [0.7777777777777778, \"#fb9f3a\"], [0.8888888888888888, \"#fdca26\"], [1.0, \"#f0f921\"]], \"type\": \"contour\"}], \"contourcarpet\": [{\"colorbar\": {\"outlinewidth\": 0, \"ticks\": \"\"}, \"type\": \"contourcarpet\"}], \"heatmap\": [{\"colorbar\": {\"outlinewidth\": 0, \"ticks\": \"\"}, \"colorscale\": [[0.0, \"#0d0887\"], [0.1111111111111111, \"#46039f\"], [0.2222222222222222, \"#7201a8\"], [0.3333333333333333, \"#9c179e\"], [0.4444444444444444, \"#bd3786\"], [0.5555555555555556, \"#d8576b\"], [0.6666666666666666, \"#ed7953\"], [0.7777777777777778, \"#fb9f3a\"], [0.8888888888888888, \"#fdca26\"], [1.0, \"#f0f921\"]], \"type\": \"heatmap\"}], \"heatmapgl\": [{\"colorbar\": {\"outlinewidth\": 0, \"ticks\": \"\"}, \"colorscale\": [[0.0, \"#0d0887\"], [0.1111111111111111, \"#46039f\"], [0.2222222222222222, \"#7201a8\"], [0.3333333333333333, \"#9c179e\"], [0.4444444444444444, \"#bd3786\"], [0.5555555555555556, \"#d8576b\"], [0.6666666666666666, \"#ed7953\"], [0.7777777777777778, \"#fb9f3a\"], [0.8888888888888888, \"#fdca26\"], [1.0, \"#f0f921\"]], \"type\": \"heatmapgl\"}], \"histogram\": [{\"marker\": {\"colorbar\": {\"outlinewidth\": 0, \"ticks\": \"\"}}, \"type\": \"histogram\"}], \"histogram2d\": [{\"colorbar\": {\"outlinewidth\": 0, \"ticks\": \"\"}, \"colorscale\": [[0.0, \"#0d0887\"], [0.1111111111111111, \"#46039f\"], [0.2222222222222222, \"#7201a8\"], [0.3333333333333333, \"#9c179e\"], [0.4444444444444444, \"#bd3786\"], [0.5555555555555556, \"#d8576b\"], [0.6666666666666666, \"#ed7953\"], [0.7777777777777778, \"#fb9f3a\"], [0.8888888888888888, \"#fdca26\"], [1.0, \"#f0f921\"]], \"type\": \"histogram2d\"}], \"histogram2dcontour\": [{\"colorbar\": {\"outlinewidth\": 0, \"ticks\": \"\"}, \"colorscale\": [[0.0, \"#0d0887\"], [0.1111111111111111, \"#46039f\"], [0.2222222222222222, \"#7201a8\"], [0.3333333333333333, \"#9c179e\"], [0.4444444444444444, \"#bd3786\"], [0.5555555555555556, \"#d8576b\"], [0.6666666666666666, \"#ed7953\"], [0.7777777777777778, \"#fb9f3a\"], [0.8888888888888888, \"#fdca26\"], [1.0, \"#f0f921\"]], \"type\": \"histogram2dcontour\"}], \"mesh3d\": [{\"colorbar\": {\"outlinewidth\": 0, \"ticks\": \"\"}, \"type\": \"mesh3d\"}], \"parcoords\": [{\"line\": {\"colorbar\": {\"outlinewidth\": 0, \"ticks\": \"\"}}, \"type\": \"parcoords\"}], \"scatter\": [{\"marker\": {\"colorbar\": {\"outlinewidth\": 0, \"ticks\": \"\"}}, \"type\": \"scatter\"}], \"scatter3d\": [{\"line\": {\"colorbar\": {\"outlinewidth\": 0, \"ticks\": \"\"}}, \"marker\": {\"colorbar\": {\"outlinewidth\": 0, \"ticks\": \"\"}}, \"type\": \"scatter3d\"}], \"scattercarpet\": [{\"marker\": {\"colorbar\": {\"outlinewidth\": 0, \"ticks\": \"\"}}, \"type\": \"scattercarpet\"}], \"scattergeo\": [{\"marker\": {\"colorbar\": {\"outlinewidth\": 0, \"ticks\": \"\"}}, \"type\": \"scattergeo\"}], \"scattergl\": [{\"marker\": {\"colorbar\": {\"outlinewidth\": 0, \"ticks\": \"\"}}, \"type\": \"scattergl\"}], \"scattermapbox\": [{\"marker\": {\"colorbar\": {\"outlinewidth\": 0, \"ticks\": \"\"}}, \"type\": \"scattermapbox\"}], \"scatterpolar\": [{\"marker\": {\"colorbar\": {\"outlinewidth\": 0, \"ticks\": \"\"}}, \"type\": \"scatterpolar\"}], \"scatterpolargl\": [{\"marker\": {\"colorbar\": {\"outlinewidth\": 0, \"ticks\": \"\"}}, \"type\": \"scatterpolargl\"}], \"scatterternary\": [{\"marker\": {\"colorbar\": {\"outlinewidth\": 0, \"ticks\": \"\"}}, \"type\": \"scatterternary\"}], \"surface\": [{\"colorbar\": {\"outlinewidth\": 0, \"ticks\": \"\"}, \"colorscale\": [[0.0, \"#0d0887\"], [0.1111111111111111, \"#46039f\"], [0.2222222222222222, \"#7201a8\"], [0.3333333333333333, \"#9c179e\"], [0.4444444444444444, \"#bd3786\"], [0.5555555555555556, \"#d8576b\"], [0.6666666666666666, \"#ed7953\"], [0.7777777777777778, \"#fb9f3a\"], [0.8888888888888888, \"#fdca26\"], [1.0, \"#f0f921\"]], \"type\": \"surface\"}], \"table\": [{\"cells\": {\"fill\": {\"color\": \"#EBF0F8\"}, \"line\": {\"color\": \"white\"}}, \"header\": {\"fill\": {\"color\": \"#C8D4E3\"}, \"line\": {\"color\": \"white\"}}, \"type\": \"table\"}]}, \"layout\": {\"annotationdefaults\": {\"arrowcolor\": \"#2a3f5f\", \"arrowhead\": 0, \"arrowwidth\": 1}, \"colorscale\": {\"diverging\": [[0, \"#8e0152\"], [0.1, \"#c51b7d\"], [0.2, \"#de77ae\"], [0.3, \"#f1b6da\"], [0.4, \"#fde0ef\"], [0.5, \"#f7f7f7\"], [0.6, \"#e6f5d0\"], [0.7, \"#b8e186\"], [0.8, \"#7fbc41\"], [0.9, \"#4d9221\"], [1, \"#276419\"]], \"sequential\": [[0.0, \"#0d0887\"], [0.1111111111111111, \"#46039f\"], [0.2222222222222222, \"#7201a8\"], [0.3333333333333333, \"#9c179e\"], [0.4444444444444444, \"#bd3786\"], [0.5555555555555556, \"#d8576b\"], [0.6666666666666666, \"#ed7953\"], [0.7777777777777778, \"#fb9f3a\"], [0.8888888888888888, \"#fdca26\"], [1.0, \"#f0f921\"]], \"sequentialminus\": [[0.0, \"#0d0887\"], [0.1111111111111111, \"#46039f\"], [0.2222222222222222, \"#7201a8\"], [0.3333333333333333, \"#9c179e\"], [0.4444444444444444, \"#bd3786\"], [0.5555555555555556, \"#d8576b\"], [0.6666666666666666, \"#ed7953\"], [0.7777777777777778, \"#fb9f3a\"], [0.8888888888888888, \"#fdca26\"], [1.0, \"#f0f921\"]]}, \"colorway\": [\"#636efa\", \"#EF553B\", \"#00cc96\", \"#ab63fa\", \"#FFA15A\", \"#19d3f3\", \"#FF6692\", \"#B6E880\", \"#FF97FF\", \"#FECB52\"], \"font\": {\"color\": \"#2a3f5f\"}, \"geo\": {\"bgcolor\": \"white\", \"lakecolor\": \"white\", \"landcolor\": \"#E5ECF6\", \"showlakes\": true, \"showland\": true, \"subunitcolor\": \"white\"}, \"hoverlabel\": {\"align\": \"left\"}, \"hovermode\": \"closest\", \"mapbox\": {\"style\": \"light\"}, \"paper_bgcolor\": \"white\", \"plot_bgcolor\": \"#E5ECF6\", \"polar\": {\"angularaxis\": {\"gridcolor\": \"white\", \"linecolor\": \"white\", \"ticks\": \"\"}, \"bgcolor\": \"#E5ECF6\", \"radialaxis\": {\"gridcolor\": \"white\", \"linecolor\": \"white\", \"ticks\": \"\"}}, \"scene\": {\"xaxis\": {\"backgroundcolor\": \"#E5ECF6\", \"gridcolor\": \"white\", \"gridwidth\": 2, \"linecolor\": \"white\", \"showbackground\": true, \"ticks\": \"\", \"zerolinecolor\": \"white\"}, \"yaxis\": {\"backgroundcolor\": \"#E5ECF6\", \"gridcolor\": \"white\", \"gridwidth\": 2, \"linecolor\": \"white\", \"showbackground\": true, \"ticks\": \"\", \"zerolinecolor\": \"white\"}, \"zaxis\": {\"backgroundcolor\": \"#E5ECF6\", \"gridcolor\": \"white\", \"gridwidth\": 2, \"linecolor\": \"white\", \"showbackground\": true, \"ticks\": \"\", \"zerolinecolor\": \"white\"}}, \"shapedefaults\": {\"line\": {\"color\": \"#2a3f5f\"}}, \"ternary\": {\"aaxis\": {\"gridcolor\": \"white\", \"linecolor\": \"white\", \"ticks\": \"\"}, \"baxis\": {\"gridcolor\": \"white\", \"linecolor\": \"white\", \"ticks\": \"\"}, \"bgcolor\": \"#E5ECF6\", \"caxis\": {\"gridcolor\": \"white\", \"linecolor\": \"white\", \"ticks\": \"\"}}, \"title\": {\"x\": 0.05}, \"xaxis\": {\"automargin\": true, \"gridcolor\": \"white\", \"linecolor\": \"white\", \"ticks\": \"\", \"zerolinecolor\": \"white\", \"zerolinewidth\": 2}, \"yaxis\": {\"automargin\": true, \"gridcolor\": \"white\", \"linecolor\": \"white\", \"ticks\": \"\", \"zerolinecolor\": \"white\", \"zerolinewidth\": 2}}}, \"xaxis\": {\"linecolor\": \"rgb(204, 204, 204)\", \"linewidth\": 2, \"showgrid\": false, \"showline\": true, \"showticklabels\": true, \"tickfont\": {\"color\": \"rgb(82, 82, 82)\", \"family\": \"Arial\", \"size\": 12}, \"ticks\": \"outside\"}, \"yaxis\": {\"showgrid\": false, \"showline\": false, \"showticklabels\": false, \"zeroline\": false}},\n",
       "                        {\"responsive\": true}\n",
       "                    ).then(function(){\n",
       "                            \n",
       "var gd = document.getElementById('73403edd-e287-4e84-9696-f9b3934dc859');\n",
       "var x = new MutationObserver(function (mutations, observer) {{\n",
       "        var display = window.getComputedStyle(gd).display;\n",
       "        if (!display || display === 'none') {{\n",
       "            console.log([gd, 'removed!']);\n",
       "            Plotly.purge(gd);\n",
       "            observer.disconnect();\n",
       "        }}\n",
       "}});\n",
       "\n",
       "// Listen for the removal of the full notebook cells\n",
       "var notebookContainer = gd.closest('#notebook-container');\n",
       "if (notebookContainer) {{\n",
       "    x.observe(notebookContainer, {childList: true});\n",
       "}}\n",
       "\n",
       "// Listen for the clearing of the current output cell\n",
       "var outputEl = gd.closest('.output');\n",
       "if (outputEl) {{\n",
       "    x.observe(outputEl, {childList: true});\n",
       "}}\n",
       "\n",
       "                        })\n",
       "                };\n",
       "                });\n",
       "            </script>\n",
       "        </div>"
      ]
     },
     "metadata": {},
     "output_type": "display_data"
    }
   ],
   "source": [
    "from collegeData import *\n",
    "import plotly.graph_objects as go\n",
    "from googleTrendsUpgrade import *\n",
    "from IPython.display import Image\n",
    "import os\n",
    "\n",
    "if not os.path.exists(\"images\"):\n",
    "    os.mkdir(\"images\")\n",
    "\n",
    "def graphRankings(data, colors, title):\n",
    "    \n",
    "    labels = data.columns\n",
    "    mode_size = [8] * len(data.columns)\n",
    "    line_size = [2] * len(data.columns)\n",
    "\n",
    "\n",
    "    x_data = np.vstack((np.arange(data.index.tolist()[0], data.index.tolist()[-1]+1),)*len(data.columns))\n",
    "\n",
    "    y_data = data.values.T\n",
    "\n",
    "    fig = go.Figure()\n",
    "\n",
    "    for i in range(0, len(data.columns)):\n",
    "        fig.add_trace(go.Scatter(x=x_data[i], y=y_data[i], mode='lines',\n",
    "            name=labels[i],\n",
    "            line=dict(color=colors[i], width=line_size[i]),\n",
    "            connectgaps=True,\n",
    "        ))\n",
    "\n",
    "        # endpoints\n",
    "        fig.add_trace(go.Scatter(\n",
    "            x=[x_data[i][0], x_data[i][-1]],\n",
    "            y=[y_data[i][0], y_data[i][-1]],\n",
    "            mode='markers',\n",
    "            marker=dict(color=colors[i], size=mode_size[i]),\n",
    "            showlegend=False\n",
    "        ))\n",
    "\n",
    "    fig.update_layout(\n",
    "        xaxis=dict(\n",
    "            showline=True,\n",
    "            showgrid=False,\n",
    "            showticklabels=True,\n",
    "            linecolor='rgb(204, 204, 204)',\n",
    "            linewidth=2,\n",
    "            ticks='outside',\n",
    "            tickfont=dict(\n",
    "                family='Arial',\n",
    "                size=12,\n",
    "                color='rgb(82, 82, 82)',\n",
    "            ),\n",
    "        ),\n",
    "        yaxis=dict(\n",
    "            showgrid=False,\n",
    "            zeroline=False,\n",
    "            showline=False,\n",
    "            showticklabels=False,\n",
    "        ),\n",
    "        autosize=False,\n",
    "        margin=dict(\n",
    "            autoexpand=False,\n",
    "            l=100,\n",
    "            r=200,\n",
    "            t=110,\n",
    "        ),\n",
    "        showlegend=True,\n",
    "        plot_bgcolor='white'\n",
    "        \n",
    "    )\n",
    "\n",
    "    annotations = []\n",
    "\n",
    "    # Adding labels\n",
    "\n",
    "    for y_trace, label, color in zip(y_data, labels, colors):\n",
    "    #     # labeling the left_side of the plot\n",
    "    #     annotations.append(dict(xref='paper', x=0.05, y=y_trace[0],\n",
    "    #                                   xanchor='right', yanchor='middle',\n",
    "    #                                   text=label,\n",
    "    #                                   font=dict(family='Arial',\n",
    "    #                                             size=12),\n",
    "    #                                   showarrow=False))\n",
    "        # labeling the RIGHT side of the plot\n",
    "        annotations.append(dict(xref='paper', x=1 , y=y_trace[-1],\n",
    "                                      xanchor='right', yanchor='middle',\n",
    "                                      text='{0:.2f}'.format(y_trace[-1]),\n",
    "                                      font=dict(family='Arial',\n",
    "                                                size=12),\n",
    "                                      showarrow=False))\n",
    "    # Title\n",
    "    annotations.append(dict(xref='paper', yref='paper', x=0.0, y=1.05,\n",
    "                                  xanchor='left', yanchor='bottom',\n",
    "                                  text=title, \n",
    "                                  font=dict(family='Arial',\n",
    "                                            size=20,\n",
    "                                            color='rgb(37,37,37)'),\n",
    "                                  showarrow=False))\n",
    "    # Source\n",
    "    annotations.append(dict(xref='paper', yref='paper', x=0.5, y=-0.1,\n",
    "                                  xanchor='center', yanchor='top',\n",
    "                                  text='Source: Harvard Open Data Project',\n",
    "                                  font=dict(family='Arial',\n",
    "                                            size=12,\n",
    "                                            color='rgb(150,150,150)'),\n",
    "                                  showarrow=False))\n",
    "\n",
    "\n",
    "    fig.update_layout(annotations=annotations)\n",
    "    \n",
    "\n",
    "    fig.write_image(f\"images/{title}-2.png\", scale=4)\n",
    "\n",
    "    fig.show()\n",
    "    py.plot(fig, image = 'png')\n",
    "\n",
    "\n",
    "    \n",
    "\n",
    " ## GLOBAL HYPSM and IVY LEAGUE RANKINGS \n",
    "title2 = 'US HYPSM Search Trends'\n",
    "trends2 = getTrendsData(colleges_HYPSM, 'US', '2014-10-30 2019-10-30', True)\n",
    "annual_averages2 = getAnnualAverages(trends2, 5, 2015)\n",
    "graphRankings(annual_averages2, getColors(annual_averages2.columns), title2)\n",
    "\n",
    "title3 = 'US Ivy League Search Trends'\n",
    "trends3 = getTrendsData(colleges_ivyLeague, 'US', '2014-10-30 2019-10-30', True)\n",
    "annual_averages3 = getAnnualAverages(trends3, 5, 2015)\n",
    "graphRankings(annual_averages3, getColors(annual_averages3.columns), title3)\n",
    "\n",
    "title4 = 'US US News Search Trends'\n",
    "trends4 = getTrendsData(colleges_USNews[:15], 'US', '2014-10-30 2019-10-30', True)\n",
    "annual_averages4 = getAnnualAverages(trends4, 5, 2015)\n",
    "graphRankings(annual_averages4, getColors(annual_averages4.columns), title4)\n",
    "\n",
    "# title5 = 'Global HYPSM Search Trends'\n",
    "# trends5 = getTrendsData(colleges_HYPSM, '', '2014-10-30 2019-10-30', True)\n",
    "# annual_averages5 = getAnnualAverages(trends5, 5, 2015)\n",
    "# graphRankings(annual_averages5, getColors(annual_averages5.columns), title5)\n",
    "\n",
    "# title6 = 'Global Ivy League Search Trends'\n",
    "# trends6 = getTrendsData(colleges_ivyLeague, '', '2014-10-30 2019-10-30', True)\n",
    "# annual_averages6 = getAnnualAverages(trends6, 5, 2015)\n",
    "# graphRankings(annual_averages6, getColors(annual_averages6.columns), title6)\n",
    "\n",
    "# title7 = 'Global US News Search Trends'\n",
    "# trends7 = getTrendsData(colleges_USNews[:15], '', '2014-10-30 2019-10-30', True)\n",
    "# annual_averages7 = getAnnualAverages(trends7, 5, 2015)\n",
    "# graphRankings(annual_averages7, getColors(annual_averages7.columns), title7)\n",
    "\n",
    "\n"
   ]
  },
  {
   "cell_type": "code",
   "execution_count": null,
   "metadata": {},
   "outputs": [],
   "source": []
  },
  {
   "cell_type": "code",
   "execution_count": null,
   "metadata": {},
   "outputs": [],
   "source": []
  }
 ],
 "metadata": {
  "kernelspec": {
   "display_name": "Python 3",
   "language": "python",
   "name": "python3"
  },
  "language_info": {
   "codemirror_mode": {
    "name": "ipython",
    "version": 3
   },
   "file_extension": ".py",
   "mimetype": "text/x-python",
   "name": "python",
   "nbconvert_exporter": "python",
   "pygments_lexer": "ipython3",
   "version": "3.7.3"
  }
 },
 "nbformat": 4,
 "nbformat_minor": 2
}
