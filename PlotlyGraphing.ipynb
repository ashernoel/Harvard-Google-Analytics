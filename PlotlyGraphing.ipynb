{
 "cells": [
  {
   "cell_type": "code",
   "execution_count": 1,
   "metadata": {},
   "outputs": [],
   "source": [
    "import chart_studio.plotly as py\n",
    "import pandas as pd\n",
    "import chart_studio\n",
    "chart_studio.tools.set_credentials_file(username='ashernoel', api_key='GyHmzxtalWrE7tIkp4wl')"
   ]
  },
  {
   "cell_type": "code",
   "execution_count": 2,
   "metadata": {},
   "outputs": [
    {
     "name": "stdout",
     "output_type": "stream",
     "text": [
      "[10, 2, 9, 12, 18, 10, 16, 14, 26, 20, 18, 37, 28, 23, 23]\n",
      "slope= 0.16656758068429997 intercept= 2.9328682358650804\n"
     ]
    },
    {
     "data": {
      "text/html": [
       "\n",
       "        <iframe\n",
       "            width=\"100%\"\n",
       "            height=\"525px\"\n",
       "            src=\"https://plot.ly/~ashernoel/123.embed\"\n",
       "            frameborder=\"0\"\n",
       "            allowfullscreen\n",
       "        ></iframe>\n",
       "        "
      ],
      "text/plain": [
       "<IPython.lib.display.IFrame at 0x7fc7508be8d0>"
      ]
     },
     "execution_count": 2,
     "metadata": {},
     "output_type": "execute_result"
    }
   ],
   "source": [
    "from sklearn.linear_model import LinearRegression\n",
    "import numpy as np\n",
    "\n",
    "virality = [10, 2, 9, 12, 18, 10, 16, 14, 26, 20, 18, 37, 28, 23, 23] #1000 cutoff\n",
    "subscribers = [6.9, 2.2, 3.4, 5.8, 5.3, 4.7, 5.0, 6.6, 8.3, 6.1, 6.1, 8.8, 9.6, 2.7, 6.8]\n",
    "\n",
    "\n",
    "df = pd.DataFrame({\"virality\": virality, \"subscribers\": subscribers})\n",
    "\n",
    "linearRegressor = LinearRegression()\n",
    "print(df['virality'].tolist())\n",
    "linearRegressor.fit(df[['virality']], df['subscribers'])\n",
    "# trend line starting at 3, ending at 33, and with 15 points. \n",
    "reg_x = np.linspace(2,37,15)\n",
    "\n",
    "reg_y = sorted(linearRegressor.predict(reg_x.reshape(-1, 1)))\n",
    "\n",
    "\n",
    "\n",
    "m=linearRegressor.coef_[0]\n",
    "b=linearRegressor.intercept_\n",
    "print(\"slope=\",m, \"intercept=\",b)\n",
    "\n",
    "\n",
    "fig = {\n",
    "    'data': [\n",
    "        {'x': df.virality.iloc[:4], 'y': df.subscribers.iloc[:4], 'text': df.virality, 'mode': 'markers', 'name': '2016'},\n",
    "        {'x': df.virality.iloc[4:8], 'y': df.subscribers.iloc[4:8], 'text': df.virality, 'mode': 'markers', 'name': '2017'},\n",
    "        {'x': df.virality.iloc[8:12], 'y': df.subscribers.iloc[4:8], 'text': df.virality, 'mode': 'markers', 'name': '2018'},\n",
    "        {'x': df.virality.iloc[12:16], 'y': df.subscribers.iloc[12:16], 'text': df.virality, 'mode': 'markers', 'name': '2019'},\n",
    "        {'x': reg_x,\n",
    "        'y': reg_y,\n",
    "        'name' : 'Least Squares',\n",
    "        'type' : 'scatter' ,\n",
    "        'mode' : 'lines'\n",
    "        \n",
    "        }\n",
    "    ],\n",
    "    'layout': {\n",
    "        'xaxis': {'title': 'Number of Viral Trends Topics'},\n",
    "        'yaxis': {'title': \"Global Net Subscriber Adds\"},\n",
    "        'title': \"Predicting Netflix Global Net Subscriber Additions\"\n",
    "    }\n",
    "}\n",
    "#fig.write_image(\"Predicting Netflix Global Net Subscriber Additions.png\", scale=5)\n",
    "py.iplot(fig, image = 'png', scale=3)\n"
   ]
  },
  {
   "cell_type": "code",
   "execution_count": 5,
   "metadata": {},
   "outputs": [
    {
     "name": "stdout",
     "output_type": "stream",
     "text": [
      "Stanford University\n",
      "Massachusetts Institute of Technology\n",
      "Princeton University\n",
      "Yale University\n",
      "['/m/03ksy', '/m/06pwq', '/m/04rwx', '/m/05zl0', '/m/08815']\n",
      "US\n"
     ]
    },
    {
     "data": {
      "application/vnd.plotly.v1+json": {
       "config": {
        "plotlyServerURL": "https://plot.ly"
       },
       "data": [
        {
         "connectgaps": true,
         "line": {
          "color": "#d2c295",
          "width": 2
         },
         "mode": "lines",
         "name": "Stanford University",
         "type": "scatter",
         "x": [
          2015,
          2016,
          2017,
          2018,
          2019
         ],
         "y": [
          0.2860276376398334,
          0.3220559531554978,
          0.2873754152823921,
          0.2919331037875061,
          0.28053142565150735
         ]
        },
        {
         "marker": {
          "color": "#d2c295",
          "size": 8
         },
         "mode": "markers",
         "showlegend": false,
         "type": "scatter",
         "x": [
          2015,
          2019
         ],
         "y": [
          0.2860276376398334,
          0.28053142565150735
         ]
        },
        {
         "connectgaps": true,
         "line": {
          "color": "#A51C30",
          "width": 2
         },
         "mode": "lines",
         "name": "Harvard University",
         "type": "scatter",
         "x": [
          2015,
          2016,
          2017,
          2018,
          2019
         ],
         "y": [
          0.29019521824961625,
          0.27044025157232704,
          0.2954437588989084,
          0.29636005902606993,
          0.30710270822687785
         ]
        },
        {
         "marker": {
          "color": "#A51C30",
          "size": 8
         },
         "mode": "markers",
         "showlegend": false,
         "type": "scatter",
         "x": [
          2015,
          2019
         ],
         "y": [
          0.29019521824961625,
          0.30710270822687785
         ]
        },
        {
         "connectgaps": true,
         "line": {
          "color": "#0f4d92",
          "width": 2
         },
         "mode": "lines",
         "name": "Yale University",
         "type": "scatter",
         "x": [
          2015,
          2016,
          2017,
          2018,
          2019
         ],
         "y": [
          0.16779995613073037,
          0.1763175016265452,
          0.16943521594684385,
          0.17757009345794397,
          0.1780786918753194
         ]
        },
        {
         "marker": {
          "color": "#0f4d92",
          "size": 8
         },
         "mode": "markers",
         "showlegend": false,
         "type": "scatter",
         "x": [
          2015,
          2019
         ],
         "y": [
          0.16779995613073037,
          0.1780786918753194
         ]
        },
        {
         "connectgaps": true,
         "line": {
          "color": "#8A8B8C",
          "width": 2
         },
         "mode": "lines",
         "name": "Massachusetts Institute of Technology",
         "type": "scatter",
         "x": [
          2015,
          2016,
          2017,
          2018,
          2019
         ],
         "y": [
          0.16692257073919717,
          0.14508783344176973,
          0.15709539629805414,
          0.14904082636497787,
          0.1486969851814001
         ]
        },
        {
         "marker": {
          "color": "#8A8B8C",
          "size": 8
         },
         "mode": "markers",
         "showlegend": false,
         "type": "scatter",
         "x": [
          2015,
          2019
         ],
         "y": [
          0.16692257073919717,
          0.1486969851814001
         ]
        },
        {
         "connectgaps": true,
         "line": {
          "color": "#ff8f00",
          "width": 2
         },
         "mode": "lines",
         "name": "Princeton University",
         "type": "scatter",
         "x": [
          2015,
          2016,
          2017,
          2018,
          2019
         ],
         "y": [
          0.08905461724062293,
          0.08609846020386033,
          0.09065021357380158,
          0.0850959173635022,
          0.08559018906489525
         ]
        },
        {
         "marker": {
          "color": "#ff8f00",
          "size": 8
         },
         "mode": "markers",
         "showlegend": false,
         "type": "scatter",
         "x": [
          2015,
          2019
         ],
         "y": [
          0.08905461724062293,
          0.08559018906489525
         ]
        }
       ],
       "layout": {
        "annotations": [
         {
          "font": {
           "family": "Arial",
           "size": 12
          },
          "showarrow": false,
          "text": "0.28",
          "x": 1.025,
          "xanchor": "right",
          "xref": "paper",
          "y": 0.28053142565150735,
          "yanchor": "middle"
         },
         {
          "font": {
           "family": "Arial",
           "size": 12
          },
          "showarrow": false,
          "text": "0.31",
          "x": 1.025,
          "xanchor": "right",
          "xref": "paper",
          "y": 0.30710270822687785,
          "yanchor": "middle"
         },
         {
          "font": {
           "family": "Arial",
           "size": 12
          },
          "showarrow": false,
          "text": "0.18",
          "x": 1.025,
          "xanchor": "right",
          "xref": "paper",
          "y": 0.1780786918753194,
          "yanchor": "middle"
         },
         {
          "font": {
           "family": "Arial",
           "size": 12
          },
          "showarrow": false,
          "text": "0.15",
          "x": 1.025,
          "xanchor": "right",
          "xref": "paper",
          "y": 0.1486969851814001,
          "yanchor": "middle"
         },
         {
          "font": {
           "family": "Arial",
           "size": 12
          },
          "showarrow": false,
          "text": "0.09",
          "x": 1.025,
          "xanchor": "right",
          "xref": "paper",
          "y": 0.08559018906489525,
          "yanchor": "middle"
         },
         {
          "font": {
           "color": "rgb(37,37,37)",
           "family": "Arial",
           "size": 20
          },
          "showarrow": false,
          "text": "US HYPSM College Search Trends",
          "x": 0,
          "xanchor": "left",
          "xref": "paper",
          "y": 1.05,
          "yanchor": "bottom",
          "yref": "paper"
         },
         {
          "font": {
           "color": "rgb(150,150,150)",
           "family": "Arial",
           "size": 12
          },
          "showarrow": false,
          "text": "Source: Harvard Open Data Project",
          "x": 0.5,
          "xanchor": "center",
          "xref": "paper",
          "y": -0.1,
          "yanchor": "top",
          "yref": "paper"
         }
        ],
        "autosize": false,
        "margin": {
         "autoexpand": false,
         "l": 100,
         "r": 200,
         "t": 110
        },
        "plot_bgcolor": "white",
        "showlegend": true,
        "template": {
         "data": {
          "bar": [
           {
            "error_x": {
             "color": "#2a3f5f"
            },
            "error_y": {
             "color": "#2a3f5f"
            },
            "marker": {
             "line": {
              "color": "#E5ECF6",
              "width": 0.5
             }
            },
            "type": "bar"
           }
          ],
          "barpolar": [
           {
            "marker": {
             "line": {
              "color": "#E5ECF6",
              "width": 0.5
             }
            },
            "type": "barpolar"
           }
          ],
          "carpet": [
           {
            "aaxis": {
             "endlinecolor": "#2a3f5f",
             "gridcolor": "white",
             "linecolor": "white",
             "minorgridcolor": "white",
             "startlinecolor": "#2a3f5f"
            },
            "baxis": {
             "endlinecolor": "#2a3f5f",
             "gridcolor": "white",
             "linecolor": "white",
             "minorgridcolor": "white",
             "startlinecolor": "#2a3f5f"
            },
            "type": "carpet"
           }
          ],
          "choropleth": [
           {
            "colorbar": {
             "outlinewidth": 0,
             "ticks": ""
            },
            "type": "choropleth"
           }
          ],
          "contour": [
           {
            "colorbar": {
             "outlinewidth": 0,
             "ticks": ""
            },
            "colorscale": [
             [
              0,
              "#0d0887"
             ],
             [
              0.1111111111111111,
              "#46039f"
             ],
             [
              0.2222222222222222,
              "#7201a8"
             ],
             [
              0.3333333333333333,
              "#9c179e"
             ],
             [
              0.4444444444444444,
              "#bd3786"
             ],
             [
              0.5555555555555556,
              "#d8576b"
             ],
             [
              0.6666666666666666,
              "#ed7953"
             ],
             [
              0.7777777777777778,
              "#fb9f3a"
             ],
             [
              0.8888888888888888,
              "#fdca26"
             ],
             [
              1,
              "#f0f921"
             ]
            ],
            "type": "contour"
           }
          ],
          "contourcarpet": [
           {
            "colorbar": {
             "outlinewidth": 0,
             "ticks": ""
            },
            "type": "contourcarpet"
           }
          ],
          "heatmap": [
           {
            "colorbar": {
             "outlinewidth": 0,
             "ticks": ""
            },
            "colorscale": [
             [
              0,
              "#0d0887"
             ],
             [
              0.1111111111111111,
              "#46039f"
             ],
             [
              0.2222222222222222,
              "#7201a8"
             ],
             [
              0.3333333333333333,
              "#9c179e"
             ],
             [
              0.4444444444444444,
              "#bd3786"
             ],
             [
              0.5555555555555556,
              "#d8576b"
             ],
             [
              0.6666666666666666,
              "#ed7953"
             ],
             [
              0.7777777777777778,
              "#fb9f3a"
             ],
             [
              0.8888888888888888,
              "#fdca26"
             ],
             [
              1,
              "#f0f921"
             ]
            ],
            "type": "heatmap"
           }
          ],
          "heatmapgl": [
           {
            "colorbar": {
             "outlinewidth": 0,
             "ticks": ""
            },
            "colorscale": [
             [
              0,
              "#0d0887"
             ],
             [
              0.1111111111111111,
              "#46039f"
             ],
             [
              0.2222222222222222,
              "#7201a8"
             ],
             [
              0.3333333333333333,
              "#9c179e"
             ],
             [
              0.4444444444444444,
              "#bd3786"
             ],
             [
              0.5555555555555556,
              "#d8576b"
             ],
             [
              0.6666666666666666,
              "#ed7953"
             ],
             [
              0.7777777777777778,
              "#fb9f3a"
             ],
             [
              0.8888888888888888,
              "#fdca26"
             ],
             [
              1,
              "#f0f921"
             ]
            ],
            "type": "heatmapgl"
           }
          ],
          "histogram": [
           {
            "marker": {
             "colorbar": {
              "outlinewidth": 0,
              "ticks": ""
             }
            },
            "type": "histogram"
           }
          ],
          "histogram2d": [
           {
            "colorbar": {
             "outlinewidth": 0,
             "ticks": ""
            },
            "colorscale": [
             [
              0,
              "#0d0887"
             ],
             [
              0.1111111111111111,
              "#46039f"
             ],
             [
              0.2222222222222222,
              "#7201a8"
             ],
             [
              0.3333333333333333,
              "#9c179e"
             ],
             [
              0.4444444444444444,
              "#bd3786"
             ],
             [
              0.5555555555555556,
              "#d8576b"
             ],
             [
              0.6666666666666666,
              "#ed7953"
             ],
             [
              0.7777777777777778,
              "#fb9f3a"
             ],
             [
              0.8888888888888888,
              "#fdca26"
             ],
             [
              1,
              "#f0f921"
             ]
            ],
            "type": "histogram2d"
           }
          ],
          "histogram2dcontour": [
           {
            "colorbar": {
             "outlinewidth": 0,
             "ticks": ""
            },
            "colorscale": [
             [
              0,
              "#0d0887"
             ],
             [
              0.1111111111111111,
              "#46039f"
             ],
             [
              0.2222222222222222,
              "#7201a8"
             ],
             [
              0.3333333333333333,
              "#9c179e"
             ],
             [
              0.4444444444444444,
              "#bd3786"
             ],
             [
              0.5555555555555556,
              "#d8576b"
             ],
             [
              0.6666666666666666,
              "#ed7953"
             ],
             [
              0.7777777777777778,
              "#fb9f3a"
             ],
             [
              0.8888888888888888,
              "#fdca26"
             ],
             [
              1,
              "#f0f921"
             ]
            ],
            "type": "histogram2dcontour"
           }
          ],
          "mesh3d": [
           {
            "colorbar": {
             "outlinewidth": 0,
             "ticks": ""
            },
            "type": "mesh3d"
           }
          ],
          "parcoords": [
           {
            "line": {
             "colorbar": {
              "outlinewidth": 0,
              "ticks": ""
             }
            },
            "type": "parcoords"
           }
          ],
          "scatter": [
           {
            "marker": {
             "colorbar": {
              "outlinewidth": 0,
              "ticks": ""
             }
            },
            "type": "scatter"
           }
          ],
          "scatter3d": [
           {
            "line": {
             "colorbar": {
              "outlinewidth": 0,
              "ticks": ""
             }
            },
            "marker": {
             "colorbar": {
              "outlinewidth": 0,
              "ticks": ""
             }
            },
            "type": "scatter3d"
           }
          ],
          "scattercarpet": [
           {
            "marker": {
             "colorbar": {
              "outlinewidth": 0,
              "ticks": ""
             }
            },
            "type": "scattercarpet"
           }
          ],
          "scattergeo": [
           {
            "marker": {
             "colorbar": {
              "outlinewidth": 0,
              "ticks": ""
             }
            },
            "type": "scattergeo"
           }
          ],
          "scattergl": [
           {
            "marker": {
             "colorbar": {
              "outlinewidth": 0,
              "ticks": ""
             }
            },
            "type": "scattergl"
           }
          ],
          "scattermapbox": [
           {
            "marker": {
             "colorbar": {
              "outlinewidth": 0,
              "ticks": ""
             }
            },
            "type": "scattermapbox"
           }
          ],
          "scatterpolar": [
           {
            "marker": {
             "colorbar": {
              "outlinewidth": 0,
              "ticks": ""
             }
            },
            "type": "scatterpolar"
           }
          ],
          "scatterpolargl": [
           {
            "marker": {
             "colorbar": {
              "outlinewidth": 0,
              "ticks": ""
             }
            },
            "type": "scatterpolargl"
           }
          ],
          "scatterternary": [
           {
            "marker": {
             "colorbar": {
              "outlinewidth": 0,
              "ticks": ""
             }
            },
            "type": "scatterternary"
           }
          ],
          "surface": [
           {
            "colorbar": {
             "outlinewidth": 0,
             "ticks": ""
            },
            "colorscale": [
             [
              0,
              "#0d0887"
             ],
             [
              0.1111111111111111,
              "#46039f"
             ],
             [
              0.2222222222222222,
              "#7201a8"
             ],
             [
              0.3333333333333333,
              "#9c179e"
             ],
             [
              0.4444444444444444,
              "#bd3786"
             ],
             [
              0.5555555555555556,
              "#d8576b"
             ],
             [
              0.6666666666666666,
              "#ed7953"
             ],
             [
              0.7777777777777778,
              "#fb9f3a"
             ],
             [
              0.8888888888888888,
              "#fdca26"
             ],
             [
              1,
              "#f0f921"
             ]
            ],
            "type": "surface"
           }
          ],
          "table": [
           {
            "cells": {
             "fill": {
              "color": "#EBF0F8"
             },
             "line": {
              "color": "white"
             }
            },
            "header": {
             "fill": {
              "color": "#C8D4E3"
             },
             "line": {
              "color": "white"
             }
            },
            "type": "table"
           }
          ]
         },
         "layout": {
          "annotationdefaults": {
           "arrowcolor": "#2a3f5f",
           "arrowhead": 0,
           "arrowwidth": 1
          },
          "colorscale": {
           "diverging": [
            [
             0,
             "#8e0152"
            ],
            [
             0.1,
             "#c51b7d"
            ],
            [
             0.2,
             "#de77ae"
            ],
            [
             0.3,
             "#f1b6da"
            ],
            [
             0.4,
             "#fde0ef"
            ],
            [
             0.5,
             "#f7f7f7"
            ],
            [
             0.6,
             "#e6f5d0"
            ],
            [
             0.7,
             "#b8e186"
            ],
            [
             0.8,
             "#7fbc41"
            ],
            [
             0.9,
             "#4d9221"
            ],
            [
             1,
             "#276419"
            ]
           ],
           "sequential": [
            [
             0,
             "#0d0887"
            ],
            [
             0.1111111111111111,
             "#46039f"
            ],
            [
             0.2222222222222222,
             "#7201a8"
            ],
            [
             0.3333333333333333,
             "#9c179e"
            ],
            [
             0.4444444444444444,
             "#bd3786"
            ],
            [
             0.5555555555555556,
             "#d8576b"
            ],
            [
             0.6666666666666666,
             "#ed7953"
            ],
            [
             0.7777777777777778,
             "#fb9f3a"
            ],
            [
             0.8888888888888888,
             "#fdca26"
            ],
            [
             1,
             "#f0f921"
            ]
           ],
           "sequentialminus": [
            [
             0,
             "#0d0887"
            ],
            [
             0.1111111111111111,
             "#46039f"
            ],
            [
             0.2222222222222222,
             "#7201a8"
            ],
            [
             0.3333333333333333,
             "#9c179e"
            ],
            [
             0.4444444444444444,
             "#bd3786"
            ],
            [
             0.5555555555555556,
             "#d8576b"
            ],
            [
             0.6666666666666666,
             "#ed7953"
            ],
            [
             0.7777777777777778,
             "#fb9f3a"
            ],
            [
             0.8888888888888888,
             "#fdca26"
            ],
            [
             1,
             "#f0f921"
            ]
           ]
          },
          "colorway": [
           "#636efa",
           "#EF553B",
           "#00cc96",
           "#ab63fa",
           "#FFA15A",
           "#19d3f3",
           "#FF6692",
           "#B6E880",
           "#FF97FF",
           "#FECB52"
          ],
          "font": {
           "color": "#2a3f5f"
          },
          "geo": {
           "bgcolor": "white",
           "lakecolor": "white",
           "landcolor": "#E5ECF6",
           "showlakes": true,
           "showland": true,
           "subunitcolor": "white"
          },
          "hoverlabel": {
           "align": "left"
          },
          "hovermode": "closest",
          "mapbox": {
           "style": "light"
          },
          "paper_bgcolor": "white",
          "plot_bgcolor": "#E5ECF6",
          "polar": {
           "angularaxis": {
            "gridcolor": "white",
            "linecolor": "white",
            "ticks": ""
           },
           "bgcolor": "#E5ECF6",
           "radialaxis": {
            "gridcolor": "white",
            "linecolor": "white",
            "ticks": ""
           }
          },
          "scene": {
           "xaxis": {
            "backgroundcolor": "#E5ECF6",
            "gridcolor": "white",
            "gridwidth": 2,
            "linecolor": "white",
            "showbackground": true,
            "ticks": "",
            "zerolinecolor": "white"
           },
           "yaxis": {
            "backgroundcolor": "#E5ECF6",
            "gridcolor": "white",
            "gridwidth": 2,
            "linecolor": "white",
            "showbackground": true,
            "ticks": "",
            "zerolinecolor": "white"
           },
           "zaxis": {
            "backgroundcolor": "#E5ECF6",
            "gridcolor": "white",
            "gridwidth": 2,
            "linecolor": "white",
            "showbackground": true,
            "ticks": "",
            "zerolinecolor": "white"
           }
          },
          "shapedefaults": {
           "line": {
            "color": "#2a3f5f"
           }
          },
          "ternary": {
           "aaxis": {
            "gridcolor": "white",
            "linecolor": "white",
            "ticks": ""
           },
           "baxis": {
            "gridcolor": "white",
            "linecolor": "white",
            "ticks": ""
           },
           "bgcolor": "#E5ECF6",
           "caxis": {
            "gridcolor": "white",
            "linecolor": "white",
            "ticks": ""
           }
          },
          "title": {
           "x": 0.05
          },
          "xaxis": {
           "automargin": true,
           "gridcolor": "white",
           "linecolor": "white",
           "ticks": "",
           "zerolinecolor": "white",
           "zerolinewidth": 2
          },
          "yaxis": {
           "automargin": true,
           "gridcolor": "white",
           "linecolor": "white",
           "ticks": "",
           "zerolinecolor": "white",
           "zerolinewidth": 2
          }
         }
        },
        "xaxis": {
         "linecolor": "rgb(204, 204, 204)",
         "linewidth": 2,
         "showgrid": false,
         "showline": true,
         "showticklabels": true,
         "tickfont": {
          "color": "rgb(82, 82, 82)",
          "family": "Arial",
          "size": 12
         },
         "ticks": "outside"
        },
        "yaxis": {
         "showgrid": false,
         "showline": false,
         "showticklabels": false,
         "zeroline": false
        }
       }
      },
      "text/html": [
       "<div>\n",
       "        \n",
       "        \n",
       "            <div id=\"ce23ab22-d56b-4105-b13f-9453c14a35ad\" class=\"plotly-graph-div\" style=\"height:525px; width:100%;\"></div>\n",
       "            <script type=\"text/javascript\">\n",
       "                require([\"plotly\"], function(Plotly) {\n",
       "                    window.PLOTLYENV=window.PLOTLYENV || {};\n",
       "                    \n",
       "                if (document.getElementById(\"ce23ab22-d56b-4105-b13f-9453c14a35ad\")) {\n",
       "                    Plotly.newPlot(\n",
       "                        'ce23ab22-d56b-4105-b13f-9453c14a35ad',\n",
       "                        [{\"connectgaps\": true, \"line\": {\"color\": \"#d2c295\", \"width\": 2}, \"mode\": \"lines\", \"name\": \"Stanford University\", \"type\": \"scatter\", \"x\": [2015, 2016, 2017, 2018, 2019], \"y\": [0.2860276376398334, 0.3220559531554978, 0.2873754152823921, 0.2919331037875061, 0.28053142565150735]}, {\"marker\": {\"color\": \"#d2c295\", \"size\": 8}, \"mode\": \"markers\", \"showlegend\": false, \"type\": \"scatter\", \"x\": [2015, 2019], \"y\": [0.2860276376398334, 0.28053142565150735]}, {\"connectgaps\": true, \"line\": {\"color\": \"#A51C30\", \"width\": 2}, \"mode\": \"lines\", \"name\": \"Harvard University\", \"type\": \"scatter\", \"x\": [2015, 2016, 2017, 2018, 2019], \"y\": [0.29019521824961625, 0.27044025157232704, 0.2954437588989084, 0.29636005902606993, 0.30710270822687785]}, {\"marker\": {\"color\": \"#A51C30\", \"size\": 8}, \"mode\": \"markers\", \"showlegend\": false, \"type\": \"scatter\", \"x\": [2015, 2019], \"y\": [0.29019521824961625, 0.30710270822687785]}, {\"connectgaps\": true, \"line\": {\"color\": \"#0f4d92\", \"width\": 2}, \"mode\": \"lines\", \"name\": \"Yale University\", \"type\": \"scatter\", \"x\": [2015, 2016, 2017, 2018, 2019], \"y\": [0.16779995613073037, 0.1763175016265452, 0.16943521594684385, 0.17757009345794397, 0.1780786918753194]}, {\"marker\": {\"color\": \"#0f4d92\", \"size\": 8}, \"mode\": \"markers\", \"showlegend\": false, \"type\": \"scatter\", \"x\": [2015, 2019], \"y\": [0.16779995613073037, 0.1780786918753194]}, {\"connectgaps\": true, \"line\": {\"color\": \"#8A8B8C\", \"width\": 2}, \"mode\": \"lines\", \"name\": \"Massachusetts Institute of Technology\", \"type\": \"scatter\", \"x\": [2015, 2016, 2017, 2018, 2019], \"y\": [0.16692257073919717, 0.14508783344176973, 0.15709539629805414, 0.14904082636497787, 0.1486969851814001]}, {\"marker\": {\"color\": \"#8A8B8C\", \"size\": 8}, \"mode\": \"markers\", \"showlegend\": false, \"type\": \"scatter\", \"x\": [2015, 2019], \"y\": [0.16692257073919717, 0.1486969851814001]}, {\"connectgaps\": true, \"line\": {\"color\": \"#ff8f00\", \"width\": 2}, \"mode\": \"lines\", \"name\": \"Princeton University\", \"type\": \"scatter\", \"x\": [2015, 2016, 2017, 2018, 2019], \"y\": [0.08905461724062293, 0.08609846020386033, 0.09065021357380158, 0.0850959173635022, 0.08559018906489525]}, {\"marker\": {\"color\": \"#ff8f00\", \"size\": 8}, \"mode\": \"markers\", \"showlegend\": false, \"type\": \"scatter\", \"x\": [2015, 2019], \"y\": [0.08905461724062293, 0.08559018906489525]}],\n",
       "                        {\"annotations\": [{\"font\": {\"family\": \"Arial\", \"size\": 12}, \"showarrow\": false, \"text\": \"0.28\", \"x\": 1.025, \"xanchor\": \"right\", \"xref\": \"paper\", \"y\": 0.28053142565150735, \"yanchor\": \"middle\"}, {\"font\": {\"family\": \"Arial\", \"size\": 12}, \"showarrow\": false, \"text\": \"0.31\", \"x\": 1.025, \"xanchor\": \"right\", \"xref\": \"paper\", \"y\": 0.30710270822687785, \"yanchor\": \"middle\"}, {\"font\": {\"family\": \"Arial\", \"size\": 12}, \"showarrow\": false, \"text\": \"0.18\", \"x\": 1.025, \"xanchor\": \"right\", \"xref\": \"paper\", \"y\": 0.1780786918753194, \"yanchor\": \"middle\"}, {\"font\": {\"family\": \"Arial\", \"size\": 12}, \"showarrow\": false, \"text\": \"0.15\", \"x\": 1.025, \"xanchor\": \"right\", \"xref\": \"paper\", \"y\": 0.1486969851814001, \"yanchor\": \"middle\"}, {\"font\": {\"family\": \"Arial\", \"size\": 12}, \"showarrow\": false, \"text\": \"0.09\", \"x\": 1.025, \"xanchor\": \"right\", \"xref\": \"paper\", \"y\": 0.08559018906489525, \"yanchor\": \"middle\"}, {\"font\": {\"color\": \"rgb(37,37,37)\", \"family\": \"Arial\", \"size\": 20}, \"showarrow\": false, \"text\": \"US HYPSM College Search Trends\", \"x\": 0.0, \"xanchor\": \"left\", \"xref\": \"paper\", \"y\": 1.05, \"yanchor\": \"bottom\", \"yref\": \"paper\"}, {\"font\": {\"color\": \"rgb(150,150,150)\", \"family\": \"Arial\", \"size\": 12}, \"showarrow\": false, \"text\": \"Source: Harvard Open Data Project\", \"x\": 0.5, \"xanchor\": \"center\", \"xref\": \"paper\", \"y\": -0.1, \"yanchor\": \"top\", \"yref\": \"paper\"}], \"autosize\": false, \"margin\": {\"autoexpand\": false, \"l\": 100, \"r\": 200, \"t\": 110}, \"plot_bgcolor\": \"white\", \"showlegend\": true, \"template\": {\"data\": {\"bar\": [{\"error_x\": {\"color\": \"#2a3f5f\"}, \"error_y\": {\"color\": \"#2a3f5f\"}, \"marker\": {\"line\": {\"color\": \"#E5ECF6\", \"width\": 0.5}}, \"type\": \"bar\"}], \"barpolar\": [{\"marker\": {\"line\": {\"color\": \"#E5ECF6\", \"width\": 0.5}}, \"type\": \"barpolar\"}], \"carpet\": [{\"aaxis\": {\"endlinecolor\": \"#2a3f5f\", \"gridcolor\": \"white\", \"linecolor\": \"white\", \"minorgridcolor\": \"white\", \"startlinecolor\": \"#2a3f5f\"}, \"baxis\": {\"endlinecolor\": \"#2a3f5f\", \"gridcolor\": \"white\", \"linecolor\": \"white\", \"minorgridcolor\": \"white\", \"startlinecolor\": \"#2a3f5f\"}, \"type\": \"carpet\"}], \"choropleth\": [{\"colorbar\": {\"outlinewidth\": 0, \"ticks\": \"\"}, \"type\": \"choropleth\"}], \"contour\": [{\"colorbar\": {\"outlinewidth\": 0, \"ticks\": \"\"}, \"colorscale\": [[0.0, \"#0d0887\"], [0.1111111111111111, \"#46039f\"], [0.2222222222222222, \"#7201a8\"], [0.3333333333333333, \"#9c179e\"], [0.4444444444444444, \"#bd3786\"], [0.5555555555555556, \"#d8576b\"], [0.6666666666666666, \"#ed7953\"], [0.7777777777777778, \"#fb9f3a\"], [0.8888888888888888, \"#fdca26\"], [1.0, \"#f0f921\"]], \"type\": \"contour\"}], \"contourcarpet\": [{\"colorbar\": {\"outlinewidth\": 0, \"ticks\": \"\"}, \"type\": \"contourcarpet\"}], \"heatmap\": [{\"colorbar\": {\"outlinewidth\": 0, \"ticks\": \"\"}, \"colorscale\": [[0.0, \"#0d0887\"], [0.1111111111111111, \"#46039f\"], [0.2222222222222222, \"#7201a8\"], [0.3333333333333333, \"#9c179e\"], [0.4444444444444444, \"#bd3786\"], [0.5555555555555556, \"#d8576b\"], [0.6666666666666666, \"#ed7953\"], [0.7777777777777778, \"#fb9f3a\"], [0.8888888888888888, \"#fdca26\"], [1.0, \"#f0f921\"]], \"type\": \"heatmap\"}], \"heatmapgl\": [{\"colorbar\": {\"outlinewidth\": 0, \"ticks\": \"\"}, \"colorscale\": [[0.0, \"#0d0887\"], [0.1111111111111111, \"#46039f\"], [0.2222222222222222, \"#7201a8\"], [0.3333333333333333, \"#9c179e\"], [0.4444444444444444, \"#bd3786\"], [0.5555555555555556, \"#d8576b\"], [0.6666666666666666, \"#ed7953\"], [0.7777777777777778, \"#fb9f3a\"], [0.8888888888888888, \"#fdca26\"], [1.0, \"#f0f921\"]], \"type\": \"heatmapgl\"}], \"histogram\": [{\"marker\": {\"colorbar\": {\"outlinewidth\": 0, \"ticks\": \"\"}}, \"type\": \"histogram\"}], \"histogram2d\": [{\"colorbar\": {\"outlinewidth\": 0, \"ticks\": \"\"}, \"colorscale\": [[0.0, \"#0d0887\"], [0.1111111111111111, \"#46039f\"], [0.2222222222222222, \"#7201a8\"], [0.3333333333333333, \"#9c179e\"], [0.4444444444444444, \"#bd3786\"], [0.5555555555555556, \"#d8576b\"], [0.6666666666666666, \"#ed7953\"], [0.7777777777777778, \"#fb9f3a\"], [0.8888888888888888, \"#fdca26\"], [1.0, \"#f0f921\"]], \"type\": \"histogram2d\"}], \"histogram2dcontour\": [{\"colorbar\": {\"outlinewidth\": 0, \"ticks\": \"\"}, \"colorscale\": [[0.0, \"#0d0887\"], [0.1111111111111111, \"#46039f\"], [0.2222222222222222, \"#7201a8\"], [0.3333333333333333, \"#9c179e\"], [0.4444444444444444, \"#bd3786\"], [0.5555555555555556, \"#d8576b\"], [0.6666666666666666, \"#ed7953\"], [0.7777777777777778, \"#fb9f3a\"], [0.8888888888888888, \"#fdca26\"], [1.0, \"#f0f921\"]], \"type\": \"histogram2dcontour\"}], \"mesh3d\": [{\"colorbar\": {\"outlinewidth\": 0, \"ticks\": \"\"}, \"type\": \"mesh3d\"}], \"parcoords\": [{\"line\": {\"colorbar\": {\"outlinewidth\": 0, \"ticks\": \"\"}}, \"type\": \"parcoords\"}], \"scatter\": [{\"marker\": {\"colorbar\": {\"outlinewidth\": 0, \"ticks\": \"\"}}, \"type\": \"scatter\"}], \"scatter3d\": [{\"line\": {\"colorbar\": {\"outlinewidth\": 0, \"ticks\": \"\"}}, \"marker\": {\"colorbar\": {\"outlinewidth\": 0, \"ticks\": \"\"}}, \"type\": \"scatter3d\"}], \"scattercarpet\": [{\"marker\": {\"colorbar\": {\"outlinewidth\": 0, \"ticks\": \"\"}}, \"type\": \"scattercarpet\"}], \"scattergeo\": [{\"marker\": {\"colorbar\": {\"outlinewidth\": 0, \"ticks\": \"\"}}, \"type\": \"scattergeo\"}], \"scattergl\": [{\"marker\": {\"colorbar\": {\"outlinewidth\": 0, \"ticks\": \"\"}}, \"type\": \"scattergl\"}], \"scattermapbox\": [{\"marker\": {\"colorbar\": {\"outlinewidth\": 0, \"ticks\": \"\"}}, \"type\": \"scattermapbox\"}], \"scatterpolar\": [{\"marker\": {\"colorbar\": {\"outlinewidth\": 0, \"ticks\": \"\"}}, \"type\": \"scatterpolar\"}], \"scatterpolargl\": [{\"marker\": {\"colorbar\": {\"outlinewidth\": 0, \"ticks\": \"\"}}, \"type\": \"scatterpolargl\"}], \"scatterternary\": [{\"marker\": {\"colorbar\": {\"outlinewidth\": 0, \"ticks\": \"\"}}, \"type\": \"scatterternary\"}], \"surface\": [{\"colorbar\": {\"outlinewidth\": 0, \"ticks\": \"\"}, \"colorscale\": [[0.0, \"#0d0887\"], [0.1111111111111111, \"#46039f\"], [0.2222222222222222, \"#7201a8\"], [0.3333333333333333, \"#9c179e\"], [0.4444444444444444, \"#bd3786\"], [0.5555555555555556, \"#d8576b\"], [0.6666666666666666, \"#ed7953\"], [0.7777777777777778, \"#fb9f3a\"], [0.8888888888888888, \"#fdca26\"], [1.0, \"#f0f921\"]], \"type\": \"surface\"}], \"table\": [{\"cells\": {\"fill\": {\"color\": \"#EBF0F8\"}, \"line\": {\"color\": \"white\"}}, \"header\": {\"fill\": {\"color\": \"#C8D4E3\"}, \"line\": {\"color\": \"white\"}}, \"type\": \"table\"}]}, \"layout\": {\"annotationdefaults\": {\"arrowcolor\": \"#2a3f5f\", \"arrowhead\": 0, \"arrowwidth\": 1}, \"colorscale\": {\"diverging\": [[0, \"#8e0152\"], [0.1, \"#c51b7d\"], [0.2, \"#de77ae\"], [0.3, \"#f1b6da\"], [0.4, \"#fde0ef\"], [0.5, \"#f7f7f7\"], [0.6, \"#e6f5d0\"], [0.7, \"#b8e186\"], [0.8, \"#7fbc41\"], [0.9, \"#4d9221\"], [1, \"#276419\"]], \"sequential\": [[0.0, \"#0d0887\"], [0.1111111111111111, \"#46039f\"], [0.2222222222222222, \"#7201a8\"], [0.3333333333333333, \"#9c179e\"], [0.4444444444444444, \"#bd3786\"], [0.5555555555555556, \"#d8576b\"], [0.6666666666666666, \"#ed7953\"], [0.7777777777777778, \"#fb9f3a\"], [0.8888888888888888, \"#fdca26\"], [1.0, \"#f0f921\"]], \"sequentialminus\": [[0.0, \"#0d0887\"], [0.1111111111111111, \"#46039f\"], [0.2222222222222222, \"#7201a8\"], [0.3333333333333333, \"#9c179e\"], [0.4444444444444444, \"#bd3786\"], [0.5555555555555556, \"#d8576b\"], [0.6666666666666666, \"#ed7953\"], [0.7777777777777778, \"#fb9f3a\"], [0.8888888888888888, \"#fdca26\"], [1.0, \"#f0f921\"]]}, \"colorway\": [\"#636efa\", \"#EF553B\", \"#00cc96\", \"#ab63fa\", \"#FFA15A\", \"#19d3f3\", \"#FF6692\", \"#B6E880\", \"#FF97FF\", \"#FECB52\"], \"font\": {\"color\": \"#2a3f5f\"}, \"geo\": {\"bgcolor\": \"white\", \"lakecolor\": \"white\", \"landcolor\": \"#E5ECF6\", \"showlakes\": true, \"showland\": true, \"subunitcolor\": \"white\"}, \"hoverlabel\": {\"align\": \"left\"}, \"hovermode\": \"closest\", \"mapbox\": {\"style\": \"light\"}, \"paper_bgcolor\": \"white\", \"plot_bgcolor\": \"#E5ECF6\", \"polar\": {\"angularaxis\": {\"gridcolor\": \"white\", \"linecolor\": \"white\", \"ticks\": \"\"}, \"bgcolor\": \"#E5ECF6\", \"radialaxis\": {\"gridcolor\": \"white\", \"linecolor\": \"white\", \"ticks\": \"\"}}, \"scene\": {\"xaxis\": {\"backgroundcolor\": \"#E5ECF6\", \"gridcolor\": \"white\", \"gridwidth\": 2, \"linecolor\": \"white\", \"showbackground\": true, \"ticks\": \"\", \"zerolinecolor\": \"white\"}, \"yaxis\": {\"backgroundcolor\": \"#E5ECF6\", \"gridcolor\": \"white\", \"gridwidth\": 2, \"linecolor\": \"white\", \"showbackground\": true, \"ticks\": \"\", \"zerolinecolor\": \"white\"}, \"zaxis\": {\"backgroundcolor\": \"#E5ECF6\", \"gridcolor\": \"white\", \"gridwidth\": 2, \"linecolor\": \"white\", \"showbackground\": true, \"ticks\": \"\", \"zerolinecolor\": \"white\"}}, \"shapedefaults\": {\"line\": {\"color\": \"#2a3f5f\"}}, \"ternary\": {\"aaxis\": {\"gridcolor\": \"white\", \"linecolor\": \"white\", \"ticks\": \"\"}, \"baxis\": {\"gridcolor\": \"white\", \"linecolor\": \"white\", \"ticks\": \"\"}, \"bgcolor\": \"#E5ECF6\", \"caxis\": {\"gridcolor\": \"white\", \"linecolor\": \"white\", \"ticks\": \"\"}}, \"title\": {\"x\": 0.05}, \"xaxis\": {\"automargin\": true, \"gridcolor\": \"white\", \"linecolor\": \"white\", \"ticks\": \"\", \"zerolinecolor\": \"white\", \"zerolinewidth\": 2}, \"yaxis\": {\"automargin\": true, \"gridcolor\": \"white\", \"linecolor\": \"white\", \"ticks\": \"\", \"zerolinecolor\": \"white\", \"zerolinewidth\": 2}}}, \"xaxis\": {\"linecolor\": \"rgb(204, 204, 204)\", \"linewidth\": 2, \"showgrid\": false, \"showline\": true, \"showticklabels\": true, \"tickfont\": {\"color\": \"rgb(82, 82, 82)\", \"family\": \"Arial\", \"size\": 12}, \"ticks\": \"outside\"}, \"yaxis\": {\"showgrid\": false, \"showline\": false, \"showticklabels\": false, \"zeroline\": false}},\n",
       "                        {\"responsive\": true}\n",
       "                    ).then(function(){\n",
       "                            \n",
       "var gd = document.getElementById('ce23ab22-d56b-4105-b13f-9453c14a35ad');\n",
       "var x = new MutationObserver(function (mutations, observer) {{\n",
       "        var display = window.getComputedStyle(gd).display;\n",
       "        if (!display || display === 'none') {{\n",
       "            console.log([gd, 'removed!']);\n",
       "            Plotly.purge(gd);\n",
       "            observer.disconnect();\n",
       "        }}\n",
       "}});\n",
       "\n",
       "// Listen for the removal of the full notebook cells\n",
       "var notebookContainer = gd.closest('#notebook-container');\n",
       "if (notebookContainer) {{\n",
       "    x.observe(notebookContainer, {childList: true});\n",
       "}}\n",
       "\n",
       "// Listen for the clearing of the current output cell\n",
       "var outputEl = gd.closest('.output');\n",
       "if (outputEl) {{\n",
       "    x.observe(outputEl, {childList: true});\n",
       "}}\n",
       "\n",
       "                        })\n",
       "                };\n",
       "                });\n",
       "            </script>\n",
       "        </div>"
      ]
     },
     "metadata": {},
     "output_type": "display_data"
    },
    {
     "name": "stdout",
     "output_type": "stream",
     "text": [
      "Brown University\n",
      "Columbia University\n",
      "Dartmouth College\n",
      "University of Pennsylvania\n",
      "['/m/03ksy', '/m/01bm_', '/m/01w5m', '/m/02bqy', '/m/07tds']\n",
      "US\n",
      "Princeton University\n",
      "Yale University\n",
      "Cornell University\n",
      "['/m/03ksy', '/m/05zl0', '/m/08815', '/m/01w3v']\n",
      "US\n"
     ]
    },
    {
     "data": {
      "application/vnd.plotly.v1+json": {
       "config": {
        "plotlyServerURL": "https://plot.ly"
       },
       "data": [
        {
         "connectgaps": true,
         "line": {
          "color": "#A51C30",
          "width": 2
         },
         "mode": "lines",
         "name": "Harvard University",
         "type": "scatter",
         "x": [
          2015,
          2016,
          2017,
          2018,
          2019
         ],
         "y": [
          0.2667299131577027,
          0.2564032629986859,
          0.2678613167121153,
          0.26970741958079636,
          0.27748953974895396
         ]
        },
        {
         "marker": {
          "color": "#A51C30",
          "size": 8
         },
         "mode": "markers",
         "showlegend": false,
         "type": "scatter",
         "x": [
          2015,
          2019
         ],
         "y": [
          0.2667299131577027,
          0.27748953974895396
         ]
        },
        {
         "connectgaps": true,
         "line": {
          "color": "#0f4d92",
          "width": 2
         },
         "mode": "lines",
         "name": "Yale University",
         "type": "scatter",
         "x": [
          2015,
          2016,
          2017,
          2018,
          2019
         ],
         "y": [
          0.153834926658396,
          0.16761300240509786,
          0.15385014933125565,
          0.16110781830917612,
          0.1607810320781032
         ]
        },
        {
         "marker": {
          "color": "#0f4d92",
          "size": 8
         },
         "mode": "markers",
         "showlegend": false,
         "type": "scatter",
         "x": [
          2015,
          2019
         ],
         "y": [
          0.153834926658396,
          0.1607810320781032
         ]
        },
        {
         "connectgaps": true,
         "line": {
          "color": "#D47500",
          "width": 2
         },
         "mode": "lines",
         "name": "Cornell University",
         "type": "scatter",
         "x": [
          2015,
          2016,
          2017,
          2018,
          2019
         ],
         "y": [
          0.15831083217786865,
          0.15233939153504752,
          0.151253084015063,
          0.14968478905113425,
          0.14504881450488144
         ]
        },
        {
         "marker": {
          "color": "#D47500",
          "size": 8
         },
         "mode": "markers",
         "showlegend": false,
         "type": "scatter",
         "x": [
          2015,
          2019
         ],
         "y": [
          0.15831083217786865,
          0.14504881450488144
         ]
        },
        {
         "connectgaps": true,
         "line": {
          "color": "#011F5B",
          "width": 2
         },
         "mode": "lines",
         "name": "University of Pennsylvania",
         "type": "scatter",
         "x": [
          2015,
          2016,
          2017,
          2018,
          2019
         ],
         "y": [
          0.11398963730569951,
          0.12288314199995042,
          0.12824308531359566,
          0.1268926127485317,
          0.12451882845188286
         ]
        },
        {
         "marker": {
          "color": "#011F5B",
          "size": 8
         },
         "mode": "markers",
         "showlegend": false,
         "type": "scatter",
         "x": [
          2015,
          2019
         ],
         "y": [
          0.11398963730569951,
          0.12451882845188286
         ]
        },
        {
         "connectgaps": true,
         "line": {
          "color": "#B9D9EB",
          "width": 2
         },
         "mode": "lines",
         "name": "Columbia University",
         "type": "scatter",
         "x": [
          2015,
          2016,
          2017,
          2018,
          2019
         ],
         "y": [
          0.10866233671458807,
          0.10235302868761002,
          0.10401246591351775,
          0.10199903012015733,
          0.10234309623430964
         ]
        },
        {
         "marker": {
          "color": "#B9D9EB",
          "size": 8
         },
         "mode": "markers",
         "showlegend": false,
         "type": "scatter",
         "x": [
          2015,
          2019
         ],
         "y": [
          0.10866233671458807,
          0.10234309623430964
         ]
        },
        {
         "connectgaps": true,
         "line": {
          "color": "#ff8f00",
          "width": 2
         },
         "mode": "lines",
         "name": "Princeton University",
         "type": "scatter",
         "x": [
          2015,
          2016,
          2017,
          2018,
          2019
         ],
         "y": [
          0.08163662458342459,
          0.08162455679254169,
          0.08258667705492793,
          0.07672827199741367,
          0.07709902370990239
         ]
        },
        {
         "marker": {
          "color": "#ff8f00",
          "size": 8
         },
         "mode": "markers",
         "showlegend": false,
         "type": "scatter",
         "x": [
          2015,
          2019
         ],
         "y": [
          0.08163662458342459,
          0.07709902370990239
         ]
        },
        {
         "connectgaps": true,
         "line": {
          "color": "#4E3629",
          "width": 2
         },
         "mode": "lines",
         "name": "Brown University",
         "type": "scatter",
         "x": [
          2015,
          2016,
          2017,
          2018,
          2019
         ],
         "y": [
          0.0636357002116325,
          0.06352433611861844,
          0.061005064277366586,
          0.06182983996982595,
          0.06276150627615064
         ]
        },
        {
         "marker": {
          "color": "#4E3629",
          "size": 8
         },
         "mode": "markers",
         "showlegend": false,
         "type": "scatter",
         "x": [
          2015,
          2019
         ],
         "y": [
          0.0636357002116325,
          0.06276150627615064
         ]
        },
        {
         "connectgaps": true,
         "line": {
          "color": "#00693e",
          "width": 2
         },
         "mode": "lines",
         "name": "Dartmouth College",
         "type": "scatter",
         "x": [
          2015,
          2016,
          2017,
          2018,
          2019
         ],
         "y": [
          0.05320002919068818,
          0.053259279462448246,
          0.05118815738215817,
          0.052050218222964593,
          0.0499581589958159
         ]
        },
        {
         "marker": {
          "color": "#00693e",
          "size": 8
         },
         "mode": "markers",
         "showlegend": false,
         "type": "scatter",
         "x": [
          2015,
          2019
         ],
         "y": [
          0.05320002919068818,
          0.0499581589958159
         ]
        }
       ],
       "layout": {
        "annotations": [
         {
          "font": {
           "family": "Arial",
           "size": 12
          },
          "showarrow": false,
          "text": "0.28",
          "x": 1.025,
          "xanchor": "right",
          "xref": "paper",
          "y": 0.27748953974895396,
          "yanchor": "middle"
         },
         {
          "font": {
           "family": "Arial",
           "size": 12
          },
          "showarrow": false,
          "text": "0.16",
          "x": 1.025,
          "xanchor": "right",
          "xref": "paper",
          "y": 0.1607810320781032,
          "yanchor": "middle"
         },
         {
          "font": {
           "family": "Arial",
           "size": 12
          },
          "showarrow": false,
          "text": "0.15",
          "x": 1.025,
          "xanchor": "right",
          "xref": "paper",
          "y": 0.14504881450488144,
          "yanchor": "middle"
         },
         {
          "font": {
           "family": "Arial",
           "size": 12
          },
          "showarrow": false,
          "text": "0.12",
          "x": 1.025,
          "xanchor": "right",
          "xref": "paper",
          "y": 0.12451882845188286,
          "yanchor": "middle"
         },
         {
          "font": {
           "family": "Arial",
           "size": 12
          },
          "showarrow": false,
          "text": "0.10",
          "x": 1.025,
          "xanchor": "right",
          "xref": "paper",
          "y": 0.10234309623430964,
          "yanchor": "middle"
         },
         {
          "font": {
           "family": "Arial",
           "size": 12
          },
          "showarrow": false,
          "text": "0.08",
          "x": 1.025,
          "xanchor": "right",
          "xref": "paper",
          "y": 0.07709902370990239,
          "yanchor": "middle"
         },
         {
          "font": {
           "family": "Arial",
           "size": 12
          },
          "showarrow": false,
          "text": "0.06",
          "x": 1.025,
          "xanchor": "right",
          "xref": "paper",
          "y": 0.06276150627615064,
          "yanchor": "middle"
         },
         {
          "font": {
           "family": "Arial",
           "size": 12
          },
          "showarrow": false,
          "text": "0.05",
          "x": 1.025,
          "xanchor": "right",
          "xref": "paper",
          "y": 0.0499581589958159,
          "yanchor": "middle"
         },
         {
          "font": {
           "color": "rgb(37,37,37)",
           "family": "Arial",
           "size": 20
          },
          "showarrow": false,
          "text": "US Ivy League College Search Trends",
          "x": 0,
          "xanchor": "left",
          "xref": "paper",
          "y": 1.05,
          "yanchor": "bottom",
          "yref": "paper"
         },
         {
          "font": {
           "color": "rgb(150,150,150)",
           "family": "Arial",
           "size": 12
          },
          "showarrow": false,
          "text": "Source: Harvard Open Data Project",
          "x": 0.5,
          "xanchor": "center",
          "xref": "paper",
          "y": -0.1,
          "yanchor": "top",
          "yref": "paper"
         }
        ],
        "autosize": false,
        "margin": {
         "autoexpand": false,
         "l": 100,
         "r": 200,
         "t": 110
        },
        "plot_bgcolor": "white",
        "showlegend": true,
        "template": {
         "data": {
          "bar": [
           {
            "error_x": {
             "color": "#2a3f5f"
            },
            "error_y": {
             "color": "#2a3f5f"
            },
            "marker": {
             "line": {
              "color": "#E5ECF6",
              "width": 0.5
             }
            },
            "type": "bar"
           }
          ],
          "barpolar": [
           {
            "marker": {
             "line": {
              "color": "#E5ECF6",
              "width": 0.5
             }
            },
            "type": "barpolar"
           }
          ],
          "carpet": [
           {
            "aaxis": {
             "endlinecolor": "#2a3f5f",
             "gridcolor": "white",
             "linecolor": "white",
             "minorgridcolor": "white",
             "startlinecolor": "#2a3f5f"
            },
            "baxis": {
             "endlinecolor": "#2a3f5f",
             "gridcolor": "white",
             "linecolor": "white",
             "minorgridcolor": "white",
             "startlinecolor": "#2a3f5f"
            },
            "type": "carpet"
           }
          ],
          "choropleth": [
           {
            "colorbar": {
             "outlinewidth": 0,
             "ticks": ""
            },
            "type": "choropleth"
           }
          ],
          "contour": [
           {
            "colorbar": {
             "outlinewidth": 0,
             "ticks": ""
            },
            "colorscale": [
             [
              0,
              "#0d0887"
             ],
             [
              0.1111111111111111,
              "#46039f"
             ],
             [
              0.2222222222222222,
              "#7201a8"
             ],
             [
              0.3333333333333333,
              "#9c179e"
             ],
             [
              0.4444444444444444,
              "#bd3786"
             ],
             [
              0.5555555555555556,
              "#d8576b"
             ],
             [
              0.6666666666666666,
              "#ed7953"
             ],
             [
              0.7777777777777778,
              "#fb9f3a"
             ],
             [
              0.8888888888888888,
              "#fdca26"
             ],
             [
              1,
              "#f0f921"
             ]
            ],
            "type": "contour"
           }
          ],
          "contourcarpet": [
           {
            "colorbar": {
             "outlinewidth": 0,
             "ticks": ""
            },
            "type": "contourcarpet"
           }
          ],
          "heatmap": [
           {
            "colorbar": {
             "outlinewidth": 0,
             "ticks": ""
            },
            "colorscale": [
             [
              0,
              "#0d0887"
             ],
             [
              0.1111111111111111,
              "#46039f"
             ],
             [
              0.2222222222222222,
              "#7201a8"
             ],
             [
              0.3333333333333333,
              "#9c179e"
             ],
             [
              0.4444444444444444,
              "#bd3786"
             ],
             [
              0.5555555555555556,
              "#d8576b"
             ],
             [
              0.6666666666666666,
              "#ed7953"
             ],
             [
              0.7777777777777778,
              "#fb9f3a"
             ],
             [
              0.8888888888888888,
              "#fdca26"
             ],
             [
              1,
              "#f0f921"
             ]
            ],
            "type": "heatmap"
           }
          ],
          "heatmapgl": [
           {
            "colorbar": {
             "outlinewidth": 0,
             "ticks": ""
            },
            "colorscale": [
             [
              0,
              "#0d0887"
             ],
             [
              0.1111111111111111,
              "#46039f"
             ],
             [
              0.2222222222222222,
              "#7201a8"
             ],
             [
              0.3333333333333333,
              "#9c179e"
             ],
             [
              0.4444444444444444,
              "#bd3786"
             ],
             [
              0.5555555555555556,
              "#d8576b"
             ],
             [
              0.6666666666666666,
              "#ed7953"
             ],
             [
              0.7777777777777778,
              "#fb9f3a"
             ],
             [
              0.8888888888888888,
              "#fdca26"
             ],
             [
              1,
              "#f0f921"
             ]
            ],
            "type": "heatmapgl"
           }
          ],
          "histogram": [
           {
            "marker": {
             "colorbar": {
              "outlinewidth": 0,
              "ticks": ""
             }
            },
            "type": "histogram"
           }
          ],
          "histogram2d": [
           {
            "colorbar": {
             "outlinewidth": 0,
             "ticks": ""
            },
            "colorscale": [
             [
              0,
              "#0d0887"
             ],
             [
              0.1111111111111111,
              "#46039f"
             ],
             [
              0.2222222222222222,
              "#7201a8"
             ],
             [
              0.3333333333333333,
              "#9c179e"
             ],
             [
              0.4444444444444444,
              "#bd3786"
             ],
             [
              0.5555555555555556,
              "#d8576b"
             ],
             [
              0.6666666666666666,
              "#ed7953"
             ],
             [
              0.7777777777777778,
              "#fb9f3a"
             ],
             [
              0.8888888888888888,
              "#fdca26"
             ],
             [
              1,
              "#f0f921"
             ]
            ],
            "type": "histogram2d"
           }
          ],
          "histogram2dcontour": [
           {
            "colorbar": {
             "outlinewidth": 0,
             "ticks": ""
            },
            "colorscale": [
             [
              0,
              "#0d0887"
             ],
             [
              0.1111111111111111,
              "#46039f"
             ],
             [
              0.2222222222222222,
              "#7201a8"
             ],
             [
              0.3333333333333333,
              "#9c179e"
             ],
             [
              0.4444444444444444,
              "#bd3786"
             ],
             [
              0.5555555555555556,
              "#d8576b"
             ],
             [
              0.6666666666666666,
              "#ed7953"
             ],
             [
              0.7777777777777778,
              "#fb9f3a"
             ],
             [
              0.8888888888888888,
              "#fdca26"
             ],
             [
              1,
              "#f0f921"
             ]
            ],
            "type": "histogram2dcontour"
           }
          ],
          "mesh3d": [
           {
            "colorbar": {
             "outlinewidth": 0,
             "ticks": ""
            },
            "type": "mesh3d"
           }
          ],
          "parcoords": [
           {
            "line": {
             "colorbar": {
              "outlinewidth": 0,
              "ticks": ""
             }
            },
            "type": "parcoords"
           }
          ],
          "scatter": [
           {
            "marker": {
             "colorbar": {
              "outlinewidth": 0,
              "ticks": ""
             }
            },
            "type": "scatter"
           }
          ],
          "scatter3d": [
           {
            "line": {
             "colorbar": {
              "outlinewidth": 0,
              "ticks": ""
             }
            },
            "marker": {
             "colorbar": {
              "outlinewidth": 0,
              "ticks": ""
             }
            },
            "type": "scatter3d"
           }
          ],
          "scattercarpet": [
           {
            "marker": {
             "colorbar": {
              "outlinewidth": 0,
              "ticks": ""
             }
            },
            "type": "scattercarpet"
           }
          ],
          "scattergeo": [
           {
            "marker": {
             "colorbar": {
              "outlinewidth": 0,
              "ticks": ""
             }
            },
            "type": "scattergeo"
           }
          ],
          "scattergl": [
           {
            "marker": {
             "colorbar": {
              "outlinewidth": 0,
              "ticks": ""
             }
            },
            "type": "scattergl"
           }
          ],
          "scattermapbox": [
           {
            "marker": {
             "colorbar": {
              "outlinewidth": 0,
              "ticks": ""
             }
            },
            "type": "scattermapbox"
           }
          ],
          "scatterpolar": [
           {
            "marker": {
             "colorbar": {
              "outlinewidth": 0,
              "ticks": ""
             }
            },
            "type": "scatterpolar"
           }
          ],
          "scatterpolargl": [
           {
            "marker": {
             "colorbar": {
              "outlinewidth": 0,
              "ticks": ""
             }
            },
            "type": "scatterpolargl"
           }
          ],
          "scatterternary": [
           {
            "marker": {
             "colorbar": {
              "outlinewidth": 0,
              "ticks": ""
             }
            },
            "type": "scatterternary"
           }
          ],
          "surface": [
           {
            "colorbar": {
             "outlinewidth": 0,
             "ticks": ""
            },
            "colorscale": [
             [
              0,
              "#0d0887"
             ],
             [
              0.1111111111111111,
              "#46039f"
             ],
             [
              0.2222222222222222,
              "#7201a8"
             ],
             [
              0.3333333333333333,
              "#9c179e"
             ],
             [
              0.4444444444444444,
              "#bd3786"
             ],
             [
              0.5555555555555556,
              "#d8576b"
             ],
             [
              0.6666666666666666,
              "#ed7953"
             ],
             [
              0.7777777777777778,
              "#fb9f3a"
             ],
             [
              0.8888888888888888,
              "#fdca26"
             ],
             [
              1,
              "#f0f921"
             ]
            ],
            "type": "surface"
           }
          ],
          "table": [
           {
            "cells": {
             "fill": {
              "color": "#EBF0F8"
             },
             "line": {
              "color": "white"
             }
            },
            "header": {
             "fill": {
              "color": "#C8D4E3"
             },
             "line": {
              "color": "white"
             }
            },
            "type": "table"
           }
          ]
         },
         "layout": {
          "annotationdefaults": {
           "arrowcolor": "#2a3f5f",
           "arrowhead": 0,
           "arrowwidth": 1
          },
          "colorscale": {
           "diverging": [
            [
             0,
             "#8e0152"
            ],
            [
             0.1,
             "#c51b7d"
            ],
            [
             0.2,
             "#de77ae"
            ],
            [
             0.3,
             "#f1b6da"
            ],
            [
             0.4,
             "#fde0ef"
            ],
            [
             0.5,
             "#f7f7f7"
            ],
            [
             0.6,
             "#e6f5d0"
            ],
            [
             0.7,
             "#b8e186"
            ],
            [
             0.8,
             "#7fbc41"
            ],
            [
             0.9,
             "#4d9221"
            ],
            [
             1,
             "#276419"
            ]
           ],
           "sequential": [
            [
             0,
             "#0d0887"
            ],
            [
             0.1111111111111111,
             "#46039f"
            ],
            [
             0.2222222222222222,
             "#7201a8"
            ],
            [
             0.3333333333333333,
             "#9c179e"
            ],
            [
             0.4444444444444444,
             "#bd3786"
            ],
            [
             0.5555555555555556,
             "#d8576b"
            ],
            [
             0.6666666666666666,
             "#ed7953"
            ],
            [
             0.7777777777777778,
             "#fb9f3a"
            ],
            [
             0.8888888888888888,
             "#fdca26"
            ],
            [
             1,
             "#f0f921"
            ]
           ],
           "sequentialminus": [
            [
             0,
             "#0d0887"
            ],
            [
             0.1111111111111111,
             "#46039f"
            ],
            [
             0.2222222222222222,
             "#7201a8"
            ],
            [
             0.3333333333333333,
             "#9c179e"
            ],
            [
             0.4444444444444444,
             "#bd3786"
            ],
            [
             0.5555555555555556,
             "#d8576b"
            ],
            [
             0.6666666666666666,
             "#ed7953"
            ],
            [
             0.7777777777777778,
             "#fb9f3a"
            ],
            [
             0.8888888888888888,
             "#fdca26"
            ],
            [
             1,
             "#f0f921"
            ]
           ]
          },
          "colorway": [
           "#636efa",
           "#EF553B",
           "#00cc96",
           "#ab63fa",
           "#FFA15A",
           "#19d3f3",
           "#FF6692",
           "#B6E880",
           "#FF97FF",
           "#FECB52"
          ],
          "font": {
           "color": "#2a3f5f"
          },
          "geo": {
           "bgcolor": "white",
           "lakecolor": "white",
           "landcolor": "#E5ECF6",
           "showlakes": true,
           "showland": true,
           "subunitcolor": "white"
          },
          "hoverlabel": {
           "align": "left"
          },
          "hovermode": "closest",
          "mapbox": {
           "style": "light"
          },
          "paper_bgcolor": "white",
          "plot_bgcolor": "#E5ECF6",
          "polar": {
           "angularaxis": {
            "gridcolor": "white",
            "linecolor": "white",
            "ticks": ""
           },
           "bgcolor": "#E5ECF6",
           "radialaxis": {
            "gridcolor": "white",
            "linecolor": "white",
            "ticks": ""
           }
          },
          "scene": {
           "xaxis": {
            "backgroundcolor": "#E5ECF6",
            "gridcolor": "white",
            "gridwidth": 2,
            "linecolor": "white",
            "showbackground": true,
            "ticks": "",
            "zerolinecolor": "white"
           },
           "yaxis": {
            "backgroundcolor": "#E5ECF6",
            "gridcolor": "white",
            "gridwidth": 2,
            "linecolor": "white",
            "showbackground": true,
            "ticks": "",
            "zerolinecolor": "white"
           },
           "zaxis": {
            "backgroundcolor": "#E5ECF6",
            "gridcolor": "white",
            "gridwidth": 2,
            "linecolor": "white",
            "showbackground": true,
            "ticks": "",
            "zerolinecolor": "white"
           }
          },
          "shapedefaults": {
           "line": {
            "color": "#2a3f5f"
           }
          },
          "ternary": {
           "aaxis": {
            "gridcolor": "white",
            "linecolor": "white",
            "ticks": ""
           },
           "baxis": {
            "gridcolor": "white",
            "linecolor": "white",
            "ticks": ""
           },
           "bgcolor": "#E5ECF6",
           "caxis": {
            "gridcolor": "white",
            "linecolor": "white",
            "ticks": ""
           }
          },
          "title": {
           "x": 0.05
          },
          "xaxis": {
           "automargin": true,
           "gridcolor": "white",
           "linecolor": "white",
           "ticks": "",
           "zerolinecolor": "white",
           "zerolinewidth": 2
          },
          "yaxis": {
           "automargin": true,
           "gridcolor": "white",
           "linecolor": "white",
           "ticks": "",
           "zerolinecolor": "white",
           "zerolinewidth": 2
          }
         }
        },
        "xaxis": {
         "linecolor": "rgb(204, 204, 204)",
         "linewidth": 2,
         "showgrid": false,
         "showline": true,
         "showticklabels": true,
         "tickfont": {
          "color": "rgb(82, 82, 82)",
          "family": "Arial",
          "size": 12
         },
         "ticks": "outside"
        },
        "yaxis": {
         "showgrid": false,
         "showline": false,
         "showticklabels": false,
         "zeroline": false
        }
       }
      },
      "text/html": [
       "<div>\n",
       "        \n",
       "        \n",
       "            <div id=\"8bce83bc-0fea-447a-a017-4c5ce6ad0501\" class=\"plotly-graph-div\" style=\"height:525px; width:100%;\"></div>\n",
       "            <script type=\"text/javascript\">\n",
       "                require([\"plotly\"], function(Plotly) {\n",
       "                    window.PLOTLYENV=window.PLOTLYENV || {};\n",
       "                    \n",
       "                if (document.getElementById(\"8bce83bc-0fea-447a-a017-4c5ce6ad0501\")) {\n",
       "                    Plotly.newPlot(\n",
       "                        '8bce83bc-0fea-447a-a017-4c5ce6ad0501',\n",
       "                        [{\"connectgaps\": true, \"line\": {\"color\": \"#A51C30\", \"width\": 2}, \"mode\": \"lines\", \"name\": \"Harvard University\", \"type\": \"scatter\", \"x\": [2015, 2016, 2017, 2018, 2019], \"y\": [0.2667299131577027, 0.2564032629986859, 0.2678613167121153, 0.26970741958079636, 0.27748953974895396]}, {\"marker\": {\"color\": \"#A51C30\", \"size\": 8}, \"mode\": \"markers\", \"showlegend\": false, \"type\": \"scatter\", \"x\": [2015, 2019], \"y\": [0.2667299131577027, 0.27748953974895396]}, {\"connectgaps\": true, \"line\": {\"color\": \"#0f4d92\", \"width\": 2}, \"mode\": \"lines\", \"name\": \"Yale University\", \"type\": \"scatter\", \"x\": [2015, 2016, 2017, 2018, 2019], \"y\": [0.153834926658396, 0.16761300240509786, 0.15385014933125565, 0.16110781830917612, 0.1607810320781032]}, {\"marker\": {\"color\": \"#0f4d92\", \"size\": 8}, \"mode\": \"markers\", \"showlegend\": false, \"type\": \"scatter\", \"x\": [2015, 2019], \"y\": [0.153834926658396, 0.1607810320781032]}, {\"connectgaps\": true, \"line\": {\"color\": \"#D47500\", \"width\": 2}, \"mode\": \"lines\", \"name\": \"Cornell University\", \"type\": \"scatter\", \"x\": [2015, 2016, 2017, 2018, 2019], \"y\": [0.15831083217786865, 0.15233939153504752, 0.151253084015063, 0.14968478905113425, 0.14504881450488144]}, {\"marker\": {\"color\": \"#D47500\", \"size\": 8}, \"mode\": \"markers\", \"showlegend\": false, \"type\": \"scatter\", \"x\": [2015, 2019], \"y\": [0.15831083217786865, 0.14504881450488144]}, {\"connectgaps\": true, \"line\": {\"color\": \"#011F5B\", \"width\": 2}, \"mode\": \"lines\", \"name\": \"University of Pennsylvania\", \"type\": \"scatter\", \"x\": [2015, 2016, 2017, 2018, 2019], \"y\": [0.11398963730569951, 0.12288314199995042, 0.12824308531359566, 0.1268926127485317, 0.12451882845188286]}, {\"marker\": {\"color\": \"#011F5B\", \"size\": 8}, \"mode\": \"markers\", \"showlegend\": false, \"type\": \"scatter\", \"x\": [2015, 2019], \"y\": [0.11398963730569951, 0.12451882845188286]}, {\"connectgaps\": true, \"line\": {\"color\": \"#B9D9EB\", \"width\": 2}, \"mode\": \"lines\", \"name\": \"Columbia University\", \"type\": \"scatter\", \"x\": [2015, 2016, 2017, 2018, 2019], \"y\": [0.10866233671458807, 0.10235302868761002, 0.10401246591351775, 0.10199903012015733, 0.10234309623430964]}, {\"marker\": {\"color\": \"#B9D9EB\", \"size\": 8}, \"mode\": \"markers\", \"showlegend\": false, \"type\": \"scatter\", \"x\": [2015, 2019], \"y\": [0.10866233671458807, 0.10234309623430964]}, {\"connectgaps\": true, \"line\": {\"color\": \"#ff8f00\", \"width\": 2}, \"mode\": \"lines\", \"name\": \"Princeton University\", \"type\": \"scatter\", \"x\": [2015, 2016, 2017, 2018, 2019], \"y\": [0.08163662458342459, 0.08162455679254169, 0.08258667705492793, 0.07672827199741367, 0.07709902370990239]}, {\"marker\": {\"color\": \"#ff8f00\", \"size\": 8}, \"mode\": \"markers\", \"showlegend\": false, \"type\": \"scatter\", \"x\": [2015, 2019], \"y\": [0.08163662458342459, 0.07709902370990239]}, {\"connectgaps\": true, \"line\": {\"color\": \"#4E3629\", \"width\": 2}, \"mode\": \"lines\", \"name\": \"Brown University\", \"type\": \"scatter\", \"x\": [2015, 2016, 2017, 2018, 2019], \"y\": [0.0636357002116325, 0.06352433611861844, 0.061005064277366586, 0.06182983996982595, 0.06276150627615064]}, {\"marker\": {\"color\": \"#4E3629\", \"size\": 8}, \"mode\": \"markers\", \"showlegend\": false, \"type\": \"scatter\", \"x\": [2015, 2019], \"y\": [0.0636357002116325, 0.06276150627615064]}, {\"connectgaps\": true, \"line\": {\"color\": \"#00693e\", \"width\": 2}, \"mode\": \"lines\", \"name\": \"Dartmouth College\", \"type\": \"scatter\", \"x\": [2015, 2016, 2017, 2018, 2019], \"y\": [0.05320002919068818, 0.053259279462448246, 0.05118815738215817, 0.052050218222964593, 0.0499581589958159]}, {\"marker\": {\"color\": \"#00693e\", \"size\": 8}, \"mode\": \"markers\", \"showlegend\": false, \"type\": \"scatter\", \"x\": [2015, 2019], \"y\": [0.05320002919068818, 0.0499581589958159]}],\n",
       "                        {\"annotations\": [{\"font\": {\"family\": \"Arial\", \"size\": 12}, \"showarrow\": false, \"text\": \"0.28\", \"x\": 1.025, \"xanchor\": \"right\", \"xref\": \"paper\", \"y\": 0.27748953974895396, \"yanchor\": \"middle\"}, {\"font\": {\"family\": \"Arial\", \"size\": 12}, \"showarrow\": false, \"text\": \"0.16\", \"x\": 1.025, \"xanchor\": \"right\", \"xref\": \"paper\", \"y\": 0.1607810320781032, \"yanchor\": \"middle\"}, {\"font\": {\"family\": \"Arial\", \"size\": 12}, \"showarrow\": false, \"text\": \"0.15\", \"x\": 1.025, \"xanchor\": \"right\", \"xref\": \"paper\", \"y\": 0.14504881450488144, \"yanchor\": \"middle\"}, {\"font\": {\"family\": \"Arial\", \"size\": 12}, \"showarrow\": false, \"text\": \"0.12\", \"x\": 1.025, \"xanchor\": \"right\", \"xref\": \"paper\", \"y\": 0.12451882845188286, \"yanchor\": \"middle\"}, {\"font\": {\"family\": \"Arial\", \"size\": 12}, \"showarrow\": false, \"text\": \"0.10\", \"x\": 1.025, \"xanchor\": \"right\", \"xref\": \"paper\", \"y\": 0.10234309623430964, \"yanchor\": \"middle\"}, {\"font\": {\"family\": \"Arial\", \"size\": 12}, \"showarrow\": false, \"text\": \"0.08\", \"x\": 1.025, \"xanchor\": \"right\", \"xref\": \"paper\", \"y\": 0.07709902370990239, \"yanchor\": \"middle\"}, {\"font\": {\"family\": \"Arial\", \"size\": 12}, \"showarrow\": false, \"text\": \"0.06\", \"x\": 1.025, \"xanchor\": \"right\", \"xref\": \"paper\", \"y\": 0.06276150627615064, \"yanchor\": \"middle\"}, {\"font\": {\"family\": \"Arial\", \"size\": 12}, \"showarrow\": false, \"text\": \"0.05\", \"x\": 1.025, \"xanchor\": \"right\", \"xref\": \"paper\", \"y\": 0.0499581589958159, \"yanchor\": \"middle\"}, {\"font\": {\"color\": \"rgb(37,37,37)\", \"family\": \"Arial\", \"size\": 20}, \"showarrow\": false, \"text\": \"US Ivy League College Search Trends\", \"x\": 0.0, \"xanchor\": \"left\", \"xref\": \"paper\", \"y\": 1.05, \"yanchor\": \"bottom\", \"yref\": \"paper\"}, {\"font\": {\"color\": \"rgb(150,150,150)\", \"family\": \"Arial\", \"size\": 12}, \"showarrow\": false, \"text\": \"Source: Harvard Open Data Project\", \"x\": 0.5, \"xanchor\": \"center\", \"xref\": \"paper\", \"y\": -0.1, \"yanchor\": \"top\", \"yref\": \"paper\"}], \"autosize\": false, \"margin\": {\"autoexpand\": false, \"l\": 100, \"r\": 200, \"t\": 110}, \"plot_bgcolor\": \"white\", \"showlegend\": true, \"template\": {\"data\": {\"bar\": [{\"error_x\": {\"color\": \"#2a3f5f\"}, \"error_y\": {\"color\": \"#2a3f5f\"}, \"marker\": {\"line\": {\"color\": \"#E5ECF6\", \"width\": 0.5}}, \"type\": \"bar\"}], \"barpolar\": [{\"marker\": {\"line\": {\"color\": \"#E5ECF6\", \"width\": 0.5}}, \"type\": \"barpolar\"}], \"carpet\": [{\"aaxis\": {\"endlinecolor\": \"#2a3f5f\", \"gridcolor\": \"white\", \"linecolor\": \"white\", \"minorgridcolor\": \"white\", \"startlinecolor\": \"#2a3f5f\"}, \"baxis\": {\"endlinecolor\": \"#2a3f5f\", \"gridcolor\": \"white\", \"linecolor\": \"white\", \"minorgridcolor\": \"white\", \"startlinecolor\": \"#2a3f5f\"}, \"type\": \"carpet\"}], \"choropleth\": [{\"colorbar\": {\"outlinewidth\": 0, \"ticks\": \"\"}, \"type\": \"choropleth\"}], \"contour\": [{\"colorbar\": {\"outlinewidth\": 0, \"ticks\": \"\"}, \"colorscale\": [[0.0, \"#0d0887\"], [0.1111111111111111, \"#46039f\"], [0.2222222222222222, \"#7201a8\"], [0.3333333333333333, \"#9c179e\"], [0.4444444444444444, \"#bd3786\"], [0.5555555555555556, \"#d8576b\"], [0.6666666666666666, \"#ed7953\"], [0.7777777777777778, \"#fb9f3a\"], [0.8888888888888888, \"#fdca26\"], [1.0, \"#f0f921\"]], \"type\": \"contour\"}], \"contourcarpet\": [{\"colorbar\": {\"outlinewidth\": 0, \"ticks\": \"\"}, \"type\": \"contourcarpet\"}], \"heatmap\": [{\"colorbar\": {\"outlinewidth\": 0, \"ticks\": \"\"}, \"colorscale\": [[0.0, \"#0d0887\"], [0.1111111111111111, \"#46039f\"], [0.2222222222222222, \"#7201a8\"], [0.3333333333333333, \"#9c179e\"], [0.4444444444444444, \"#bd3786\"], [0.5555555555555556, \"#d8576b\"], [0.6666666666666666, \"#ed7953\"], [0.7777777777777778, \"#fb9f3a\"], [0.8888888888888888, \"#fdca26\"], [1.0, \"#f0f921\"]], \"type\": \"heatmap\"}], \"heatmapgl\": [{\"colorbar\": {\"outlinewidth\": 0, \"ticks\": \"\"}, \"colorscale\": [[0.0, \"#0d0887\"], [0.1111111111111111, \"#46039f\"], [0.2222222222222222, \"#7201a8\"], [0.3333333333333333, \"#9c179e\"], [0.4444444444444444, \"#bd3786\"], [0.5555555555555556, \"#d8576b\"], [0.6666666666666666, \"#ed7953\"], [0.7777777777777778, \"#fb9f3a\"], [0.8888888888888888, \"#fdca26\"], [1.0, \"#f0f921\"]], \"type\": \"heatmapgl\"}], \"histogram\": [{\"marker\": {\"colorbar\": {\"outlinewidth\": 0, \"ticks\": \"\"}}, \"type\": \"histogram\"}], \"histogram2d\": [{\"colorbar\": {\"outlinewidth\": 0, \"ticks\": \"\"}, \"colorscale\": [[0.0, \"#0d0887\"], [0.1111111111111111, \"#46039f\"], [0.2222222222222222, \"#7201a8\"], [0.3333333333333333, \"#9c179e\"], [0.4444444444444444, \"#bd3786\"], [0.5555555555555556, \"#d8576b\"], [0.6666666666666666, \"#ed7953\"], [0.7777777777777778, \"#fb9f3a\"], [0.8888888888888888, \"#fdca26\"], [1.0, \"#f0f921\"]], \"type\": \"histogram2d\"}], \"histogram2dcontour\": [{\"colorbar\": {\"outlinewidth\": 0, \"ticks\": \"\"}, \"colorscale\": [[0.0, \"#0d0887\"], [0.1111111111111111, \"#46039f\"], [0.2222222222222222, \"#7201a8\"], [0.3333333333333333, \"#9c179e\"], [0.4444444444444444, \"#bd3786\"], [0.5555555555555556, \"#d8576b\"], [0.6666666666666666, \"#ed7953\"], [0.7777777777777778, \"#fb9f3a\"], [0.8888888888888888, \"#fdca26\"], [1.0, \"#f0f921\"]], \"type\": \"histogram2dcontour\"}], \"mesh3d\": [{\"colorbar\": {\"outlinewidth\": 0, \"ticks\": \"\"}, \"type\": \"mesh3d\"}], \"parcoords\": [{\"line\": {\"colorbar\": {\"outlinewidth\": 0, \"ticks\": \"\"}}, \"type\": \"parcoords\"}], \"scatter\": [{\"marker\": {\"colorbar\": {\"outlinewidth\": 0, \"ticks\": \"\"}}, \"type\": \"scatter\"}], \"scatter3d\": [{\"line\": {\"colorbar\": {\"outlinewidth\": 0, \"ticks\": \"\"}}, \"marker\": {\"colorbar\": {\"outlinewidth\": 0, \"ticks\": \"\"}}, \"type\": \"scatter3d\"}], \"scattercarpet\": [{\"marker\": {\"colorbar\": {\"outlinewidth\": 0, \"ticks\": \"\"}}, \"type\": \"scattercarpet\"}], \"scattergeo\": [{\"marker\": {\"colorbar\": {\"outlinewidth\": 0, \"ticks\": \"\"}}, \"type\": \"scattergeo\"}], \"scattergl\": [{\"marker\": {\"colorbar\": {\"outlinewidth\": 0, \"ticks\": \"\"}}, \"type\": \"scattergl\"}], \"scattermapbox\": [{\"marker\": {\"colorbar\": {\"outlinewidth\": 0, \"ticks\": \"\"}}, \"type\": \"scattermapbox\"}], \"scatterpolar\": [{\"marker\": {\"colorbar\": {\"outlinewidth\": 0, \"ticks\": \"\"}}, \"type\": \"scatterpolar\"}], \"scatterpolargl\": [{\"marker\": {\"colorbar\": {\"outlinewidth\": 0, \"ticks\": \"\"}}, \"type\": \"scatterpolargl\"}], \"scatterternary\": [{\"marker\": {\"colorbar\": {\"outlinewidth\": 0, \"ticks\": \"\"}}, \"type\": \"scatterternary\"}], \"surface\": [{\"colorbar\": {\"outlinewidth\": 0, \"ticks\": \"\"}, \"colorscale\": [[0.0, \"#0d0887\"], [0.1111111111111111, \"#46039f\"], [0.2222222222222222, \"#7201a8\"], [0.3333333333333333, \"#9c179e\"], [0.4444444444444444, \"#bd3786\"], [0.5555555555555556, \"#d8576b\"], [0.6666666666666666, \"#ed7953\"], [0.7777777777777778, \"#fb9f3a\"], [0.8888888888888888, \"#fdca26\"], [1.0, \"#f0f921\"]], \"type\": \"surface\"}], \"table\": [{\"cells\": {\"fill\": {\"color\": \"#EBF0F8\"}, \"line\": {\"color\": \"white\"}}, \"header\": {\"fill\": {\"color\": \"#C8D4E3\"}, \"line\": {\"color\": \"white\"}}, \"type\": \"table\"}]}, \"layout\": {\"annotationdefaults\": {\"arrowcolor\": \"#2a3f5f\", \"arrowhead\": 0, \"arrowwidth\": 1}, \"colorscale\": {\"diverging\": [[0, \"#8e0152\"], [0.1, \"#c51b7d\"], [0.2, \"#de77ae\"], [0.3, \"#f1b6da\"], [0.4, \"#fde0ef\"], [0.5, \"#f7f7f7\"], [0.6, \"#e6f5d0\"], [0.7, \"#b8e186\"], [0.8, \"#7fbc41\"], [0.9, \"#4d9221\"], [1, \"#276419\"]], \"sequential\": [[0.0, \"#0d0887\"], [0.1111111111111111, \"#46039f\"], [0.2222222222222222, \"#7201a8\"], [0.3333333333333333, \"#9c179e\"], [0.4444444444444444, \"#bd3786\"], [0.5555555555555556, \"#d8576b\"], [0.6666666666666666, \"#ed7953\"], [0.7777777777777778, \"#fb9f3a\"], [0.8888888888888888, \"#fdca26\"], [1.0, \"#f0f921\"]], \"sequentialminus\": [[0.0, \"#0d0887\"], [0.1111111111111111, \"#46039f\"], [0.2222222222222222, \"#7201a8\"], [0.3333333333333333, \"#9c179e\"], [0.4444444444444444, \"#bd3786\"], [0.5555555555555556, \"#d8576b\"], [0.6666666666666666, \"#ed7953\"], [0.7777777777777778, \"#fb9f3a\"], [0.8888888888888888, \"#fdca26\"], [1.0, \"#f0f921\"]]}, \"colorway\": [\"#636efa\", \"#EF553B\", \"#00cc96\", \"#ab63fa\", \"#FFA15A\", \"#19d3f3\", \"#FF6692\", \"#B6E880\", \"#FF97FF\", \"#FECB52\"], \"font\": {\"color\": \"#2a3f5f\"}, \"geo\": {\"bgcolor\": \"white\", \"lakecolor\": \"white\", \"landcolor\": \"#E5ECF6\", \"showlakes\": true, \"showland\": true, \"subunitcolor\": \"white\"}, \"hoverlabel\": {\"align\": \"left\"}, \"hovermode\": \"closest\", \"mapbox\": {\"style\": \"light\"}, \"paper_bgcolor\": \"white\", \"plot_bgcolor\": \"#E5ECF6\", \"polar\": {\"angularaxis\": {\"gridcolor\": \"white\", \"linecolor\": \"white\", \"ticks\": \"\"}, \"bgcolor\": \"#E5ECF6\", \"radialaxis\": {\"gridcolor\": \"white\", \"linecolor\": \"white\", \"ticks\": \"\"}}, \"scene\": {\"xaxis\": {\"backgroundcolor\": \"#E5ECF6\", \"gridcolor\": \"white\", \"gridwidth\": 2, \"linecolor\": \"white\", \"showbackground\": true, \"ticks\": \"\", \"zerolinecolor\": \"white\"}, \"yaxis\": {\"backgroundcolor\": \"#E5ECF6\", \"gridcolor\": \"white\", \"gridwidth\": 2, \"linecolor\": \"white\", \"showbackground\": true, \"ticks\": \"\", \"zerolinecolor\": \"white\"}, \"zaxis\": {\"backgroundcolor\": \"#E5ECF6\", \"gridcolor\": \"white\", \"gridwidth\": 2, \"linecolor\": \"white\", \"showbackground\": true, \"ticks\": \"\", \"zerolinecolor\": \"white\"}}, \"shapedefaults\": {\"line\": {\"color\": \"#2a3f5f\"}}, \"ternary\": {\"aaxis\": {\"gridcolor\": \"white\", \"linecolor\": \"white\", \"ticks\": \"\"}, \"baxis\": {\"gridcolor\": \"white\", \"linecolor\": \"white\", \"ticks\": \"\"}, \"bgcolor\": \"#E5ECF6\", \"caxis\": {\"gridcolor\": \"white\", \"linecolor\": \"white\", \"ticks\": \"\"}}, \"title\": {\"x\": 0.05}, \"xaxis\": {\"automargin\": true, \"gridcolor\": \"white\", \"linecolor\": \"white\", \"ticks\": \"\", \"zerolinecolor\": \"white\", \"zerolinewidth\": 2}, \"yaxis\": {\"automargin\": true, \"gridcolor\": \"white\", \"linecolor\": \"white\", \"ticks\": \"\", \"zerolinecolor\": \"white\", \"zerolinewidth\": 2}}}, \"xaxis\": {\"linecolor\": \"rgb(204, 204, 204)\", \"linewidth\": 2, \"showgrid\": false, \"showline\": true, \"showticklabels\": true, \"tickfont\": {\"color\": \"rgb(82, 82, 82)\", \"family\": \"Arial\", \"size\": 12}, \"ticks\": \"outside\"}, \"yaxis\": {\"showgrid\": false, \"showline\": false, \"showticklabels\": false, \"zeroline\": false}},\n",
       "                        {\"responsive\": true}\n",
       "                    ).then(function(){\n",
       "                            \n",
       "var gd = document.getElementById('8bce83bc-0fea-447a-a017-4c5ce6ad0501');\n",
       "var x = new MutationObserver(function (mutations, observer) {{\n",
       "        var display = window.getComputedStyle(gd).display;\n",
       "        if (!display || display === 'none') {{\n",
       "            console.log([gd, 'removed!']);\n",
       "            Plotly.purge(gd);\n",
       "            observer.disconnect();\n",
       "        }}\n",
       "}});\n",
       "\n",
       "// Listen for the removal of the full notebook cells\n",
       "var notebookContainer = gd.closest('#notebook-container');\n",
       "if (notebookContainer) {{\n",
       "    x.observe(notebookContainer, {childList: true});\n",
       "}}\n",
       "\n",
       "// Listen for the clearing of the current output cell\n",
       "var outputEl = gd.closest('.output');\n",
       "if (outputEl) {{\n",
       "    x.observe(outputEl, {childList: true});\n",
       "}}\n",
       "\n",
       "                        })\n",
       "                };\n",
       "                });\n",
       "            </script>\n",
       "        </div>"
      ]
     },
     "metadata": {},
     "output_type": "display_data"
    },
    {
     "name": "stdout",
     "output_type": "stream",
     "text": [
      "Harvard University\n",
      "Columbia University\n",
      "Massachusetts Institute of Technology\n",
      "Yale University\n",
      "['/m/05zl0', '/m/03ksy', '/m/01w5m', '/m/04rwx', '/m/08815']\n",
      "US\n",
      "Stanford University\n",
      "University of Chicago\n",
      "University of Pennsylvania\n",
      "Northwestern University\n",
      "['/m/05zl0', '/m/06pwq', '/m/07wrz', '/m/07tds', '/m/017j69']\n",
      "US\n",
      "Duke University\n",
      "Johns Hopkins University\n",
      "California Institute of Technology\n",
      "Dartmouth College\n",
      "['/m/05zl0', '/m/0dzst', '/m/09kvv', '/m/02sjgpq', '/m/02bqy']\n",
      "US\n",
      "Brown University\n",
      "University of Notre Dame\n",
      "['/m/05zl0', '/m/01bm_', '/m/04ls81']\n",
      "US\n",
      "#552614\n",
      "#2E5B42\n",
      "#C44746\n",
      "#AF4170\n",
      "#00C547\n",
      "#A457EA\n"
     ]
    },
    {
     "data": {
      "application/vnd.plotly.v1+json": {
       "config": {
        "plotlyServerURL": "https://plot.ly"
       },
       "data": [
        {
         "connectgaps": true,
         "line": {
          "color": "#d2c295",
          "width": 2
         },
         "mode": "lines",
         "name": "Stanford University",
         "type": "scatter",
         "x": [
          2015,
          2016,
          2017,
          2018,
          2019
         ],
         "y": [
          0.13341692679012623,
          0.15325789685809824,
          0.133089983882557,
          0.13075490678173177,
          0.11805495313431223
         ]
        },
        {
         "marker": {
          "color": "#d2c295",
          "size": 8
         },
         "mode": "markers",
         "showlegend": false,
         "type": "scatter",
         "x": [
          2015,
          2019
         ],
         "y": [
          0.13341692679012623,
          0.11805495313431223
         ]
        },
        {
         "connectgaps": true,
         "line": {
          "color": "#A51C30",
          "width": 2
         },
         "mode": "lines",
         "name": "Harvard University",
         "type": "scatter",
         "x": [
          2015,
          2016,
          2017,
          2018,
          2019
         ],
         "y": [
          0.13633148160766875,
          0.1296353446970056,
          0.1379939400365084,
          0.13397324176729727,
          0.12992844642695242
         ]
        },
        {
         "marker": {
          "color": "#A51C30",
          "size": 8
         },
         "mode": "markers",
         "showlegend": false,
         "type": "scatter",
         "x": [
          2015,
          2019
         ],
         "y": [
          0.13633148160766875,
          0.12992844642695242
         ]
        },
        {
         "connectgaps": true,
         "line": {
          "color": "#552614",
          "width": 2
         },
         "mode": "lines",
         "name": "Duke University",
         "type": "scatter",
         "x": [
          2015,
          2016,
          2017,
          2018,
          2019
         ],
         "y": [
          0.12314464193603983,
          0.10910723808645213,
          0.11895672878156865,
          0.1262385199425987,
          0.15972899669975799
         ]
        },
        {
         "marker": {
          "color": "#552614",
          "size": 8
         },
         "mode": "markers",
         "showlegend": false,
         "type": "scatter",
         "x": [
          2015,
          2019
         ],
         "y": [
          0.12314464193603983,
          0.15972899669975799
         ]
        },
        {
         "connectgaps": true,
         "line": {
          "color": "#2E5B42",
          "width": 2
         },
         "mode": "lines",
         "name": "University of Notre Dame",
         "type": "scatter",
         "x": [
          2015,
          2016,
          2017,
          2018,
          2019
         ],
         "y": [
          0.06581456567762843,
          0.07802220203684998,
          0.06590583147280862,
          0.08901746280879302,
          0.10145188379790773
         ]
        },
        {
         "marker": {
          "color": "#2E5B42",
          "size": 8
         },
         "mode": "markers",
         "showlegend": false,
         "type": "scatter",
         "x": [
          2015,
          2019
         ],
         "y": [
          0.06581456567762843,
          0.10145188379790773
         ]
        },
        {
         "connectgaps": true,
         "line": {
          "color": "#0f4d92",
          "width": 2
         },
         "mode": "lines",
         "name": "Yale University",
         "type": "scatter",
         "x": [
          2015,
          2016,
          2017,
          2018,
          2019
         ],
         "y": [
          0.07869298007364889,
          0.08485039989850489,
          0.07918210972261484,
          0.08011599857684377,
          0.07537314464623127
         ]
        },
        {
         "marker": {
          "color": "#0f4d92",
          "size": 8
         },
         "mode": "markers",
         "showlegend": false,
         "type": "scatter",
         "x": [
          2015,
          2019
         ],
         "y": [
          0.07869298007364889,
          0.07537314464623127
         ]
        },
        {
         "connectgaps": true,
         "line": {
          "color": "#8A8B8C",
          "width": 2
         },
         "mode": "lines",
         "name": "Massachusetts Institute of Technology",
         "type": "scatter",
         "x": [
          2015,
          2016,
          2017,
          2018,
          2019
         ],
         "y": [
          0.07829478662609093,
          0.06973799139587172,
          0.07314053079036943,
          0.06730815666389016,
          0.06261044701008939
         ]
        },
        {
         "marker": {
          "color": "#8A8B8C",
          "size": 8
         },
         "mode": "markers",
         "showlegend": false,
         "type": "scatter",
         "x": [
          2015,
          2019
         ],
         "y": [
          0.07829478662609093,
          0.06261044701008939
         ]
        },
        {
         "connectgaps": true,
         "line": {
          "color": "#C44746",
          "width": 2
         },
         "mode": "lines",
         "name": "Northwestern University",
         "type": "scatter",
         "x": [
          2015,
          2016,
          2017,
          2018,
          2019
         ],
         "y": [
          0.06384368275846529,
          0.06181917859798035,
          0.07099597819003448,
          0.06719502370417556,
          0.06601615776363179
         ]
        },
        {
         "marker": {
          "color": "#C44746",
          "size": 8
         },
         "mode": "markers",
         "showlegend": false,
         "type": "scatter",
         "x": [
          2015,
          2019
         ],
         "y": [
          0.06384368275846529,
          0.06601615776363179
         ]
        },
        {
         "connectgaps": true,
         "line": {
          "color": "#011F5B",
          "width": 2
         },
         "mode": "lines",
         "name": "University of Pennsylvania",
         "type": "scatter",
         "x": [
          2015,
          2016,
          2017,
          2018,
          2019
         ],
         "y": [
          0.0580118078911055,
          0.06181917859798035,
          0.06572073522854587,
          0.062458325311913976,
          0.057737258500114456
         ]
        },
        {
         "marker": {
          "color": "#011F5B",
          "size": 8
         },
         "mode": "markers",
         "showlegend": false,
         "type": "scatter",
         "x": [
          2015,
          2019
         ],
         "y": [
          0.0580118078911055,
          0.057737258500114456
         ]
        },
        {
         "connectgaps": true,
         "line": {
          "color": "#AF4170",
          "width": 2
         },
         "mode": "lines",
         "name": "Johns Hopkins University",
         "type": "scatter",
         "x": [
          2015,
          2016,
          2017,
          2018,
          2019
         ],
         "y": [
          0.056477103978642376,
          0.05251018041845145,
          0.05459876465140737,
          0.05102415570454775,
          0.04812513390065406
         ]
        },
        {
         "marker": {
          "color": "#AF4170",
          "size": 8
         },
         "mode": "markers",
         "showlegend": false,
         "type": "scatter",
         "x": [
          2015,
          2019
         ],
         "y": [
          0.056477103978642376,
          0.04812513390065406
         ]
        },
        {
         "connectgaps": true,
         "line": {
          "color": "#B9D9EB",
          "width": 2
         },
         "mode": "lines",
         "name": "Columbia University",
         "type": "scatter",
         "x": [
          2015,
          2016,
          2017,
          2018,
          2019
         ],
         "y": [
          0.05554798593434039,
          0.0516131426601556,
          0.053465300285357766,
          0.050749063981452236,
          0.04806934068694418
         ]
        },
        {
         "marker": {
          "color": "#B9D9EB",
          "size": 8
         },
         "mode": "markers",
         "showlegend": false,
         "type": "scatter",
         "x": [
          2015,
          2019
         ],
         "y": [
          0.05554798593434039,
          0.04806934068694418
         ]
        },
        {
         "connectgaps": true,
         "line": {
          "color": "#ff8f00",
          "width": 2
         },
         "mode": "lines",
         "name": "Princeton University",
         "type": "scatter",
         "x": [
          2015,
          2016,
          2017,
          2018,
          2019
         ],
         "y": [
          0.04176053781264482,
          0.041320638530455346,
          0.04250491372685946,
          0.03815557925532631,
          0.036143541256450966
         ]
        },
        {
         "marker": {
          "color": "#ff8f00",
          "size": 8
         },
         "mode": "markers",
         "showlegend": false,
         "type": "scatter",
         "x": [
          2015,
          2019
         ],
         "y": [
          0.04176053781264482,
          0.036143541256450966
         ]
        },
        {
         "connectgaps": true,
         "line": {
          "color": "#00C547",
          "width": 2
         },
         "mode": "lines",
         "name": "University of Chicago",
         "type": "scatter",
         "x": [
          2015,
          2016,
          2017,
          2018,
          2019
         ],
         "y": [
          0.035605130769144094,
          0.03447012629670358,
          0.03472868282980017,
          0.03491938117085846,
          0.03279304253730897
         ]
        },
        {
         "marker": {
          "color": "#00C547",
          "size": 8
         },
         "mode": "markers",
         "showlegend": false,
         "type": "scatter",
         "x": [
          2015,
          2019
         ],
         "y": [
          0.035605130769144094,
          0.03279304253730897
         ]
        },
        {
         "connectgaps": true,
         "line": {
          "color": "#4E3629",
          "width": 2
         },
         "mode": "lines",
         "name": "Brown University",
         "type": "scatter",
         "x": [
          2015,
          2016,
          2017,
          2018,
          2019
         ],
         "y": [
          0.03266496116842531,
          0.03294922567220357,
          0.03133910785673837,
          0.030681282609361253,
          0.02913176582951965
         ]
        },
        {
         "marker": {
          "color": "#4E3629",
          "size": 8
         },
         "mode": "markers",
         "showlegend": false,
         "type": "scatter",
         "x": [
          2015,
          2019
         ],
         "y": [
          0.03266496116842531,
          0.02913176582951965
         ]
        },
        {
         "connectgaps": true,
         "line": {
          "color": "#00693e",
          "width": 2
         },
         "mode": "lines",
         "name": "Dartmouth College",
         "type": "scatter",
         "x": [
          2015,
          2016,
          2017,
          2018,
          2019
         ],
         "y": [
          0.027379117798341845,
          0.026874314034914994,
          0.026376214807443163,
          0.026040825579782136,
          0.023869034240270794
         ]
        },
        {
         "marker": {
          "color": "#00693e",
          "size": 8
         },
         "mode": "markers",
         "showlegend": false,
         "type": "scatter",
         "x": [
          2015,
          2019
         ],
         "y": [
          0.027379117798341845,
          0.023869034240270794
         ]
        },
        {
         "connectgaps": true,
         "line": {
          "color": "#A457EA",
          "width": 2
         },
         "mode": "lines",
         "name": "California Institute of Technology",
         "type": "scatter",
         "x": [
          2015,
          2016,
          2017,
          2018,
          2019
         ],
         "y": [
          0.013014289177687162,
          0.012012942218372145,
          0.012001177737386645,
          0.011368076141427739,
          0.010966853569854149
         ]
        },
        {
         "marker": {
          "color": "#A457EA",
          "size": 8
         },
         "mode": "markers",
         "showlegend": false,
         "type": "scatter",
         "x": [
          2015,
          2019
         ],
         "y": [
          0.013014289177687162,
          0.010966853569854149
         ]
        }
       ],
       "layout": {
        "annotations": [
         {
          "font": {
           "family": "Arial",
           "size": 12
          },
          "showarrow": false,
          "text": "0.12",
          "x": 1.025,
          "xanchor": "right",
          "xref": "paper",
          "y": 0.11805495313431223,
          "yanchor": "middle"
         },
         {
          "font": {
           "family": "Arial",
           "size": 12
          },
          "showarrow": false,
          "text": "0.13",
          "x": 1.025,
          "xanchor": "right",
          "xref": "paper",
          "y": 0.12992844642695242,
          "yanchor": "middle"
         },
         {
          "font": {
           "family": "Arial",
           "size": 12
          },
          "showarrow": false,
          "text": "0.16",
          "x": 1.025,
          "xanchor": "right",
          "xref": "paper",
          "y": 0.15972899669975799,
          "yanchor": "middle"
         },
         {
          "font": {
           "family": "Arial",
           "size": 12
          },
          "showarrow": false,
          "text": "0.10",
          "x": 1.025,
          "xanchor": "right",
          "xref": "paper",
          "y": 0.10145188379790773,
          "yanchor": "middle"
         },
         {
          "font": {
           "family": "Arial",
           "size": 12
          },
          "showarrow": false,
          "text": "0.08",
          "x": 1.025,
          "xanchor": "right",
          "xref": "paper",
          "y": 0.07537314464623127,
          "yanchor": "middle"
         },
         {
          "font": {
           "family": "Arial",
           "size": 12
          },
          "showarrow": false,
          "text": "0.06",
          "x": 1.025,
          "xanchor": "right",
          "xref": "paper",
          "y": 0.06261044701008939,
          "yanchor": "middle"
         },
         {
          "font": {
           "family": "Arial",
           "size": 12
          },
          "showarrow": false,
          "text": "0.07",
          "x": 1.025,
          "xanchor": "right",
          "xref": "paper",
          "y": 0.06601615776363179,
          "yanchor": "middle"
         },
         {
          "font": {
           "family": "Arial",
           "size": 12
          },
          "showarrow": false,
          "text": "0.06",
          "x": 1.025,
          "xanchor": "right",
          "xref": "paper",
          "y": 0.057737258500114456,
          "yanchor": "middle"
         },
         {
          "font": {
           "family": "Arial",
           "size": 12
          },
          "showarrow": false,
          "text": "0.05",
          "x": 1.025,
          "xanchor": "right",
          "xref": "paper",
          "y": 0.04812513390065406,
          "yanchor": "middle"
         },
         {
          "font": {
           "family": "Arial",
           "size": 12
          },
          "showarrow": false,
          "text": "0.05",
          "x": 1.025,
          "xanchor": "right",
          "xref": "paper",
          "y": 0.04806934068694418,
          "yanchor": "middle"
         },
         {
          "font": {
           "family": "Arial",
           "size": 12
          },
          "showarrow": false,
          "text": "0.04",
          "x": 1.025,
          "xanchor": "right",
          "xref": "paper",
          "y": 0.036143541256450966,
          "yanchor": "middle"
         },
         {
          "font": {
           "family": "Arial",
           "size": 12
          },
          "showarrow": false,
          "text": "0.03",
          "x": 1.025,
          "xanchor": "right",
          "xref": "paper",
          "y": 0.03279304253730897,
          "yanchor": "middle"
         },
         {
          "font": {
           "family": "Arial",
           "size": 12
          },
          "showarrow": false,
          "text": "0.03",
          "x": 1.025,
          "xanchor": "right",
          "xref": "paper",
          "y": 0.02913176582951965,
          "yanchor": "middle"
         },
         {
          "font": {
           "family": "Arial",
           "size": 12
          },
          "showarrow": false,
          "text": "0.02",
          "x": 1.025,
          "xanchor": "right",
          "xref": "paper",
          "y": 0.023869034240270794,
          "yanchor": "middle"
         },
         {
          "font": {
           "family": "Arial",
           "size": 12
          },
          "showarrow": false,
          "text": "0.01",
          "x": 1.025,
          "xanchor": "right",
          "xref": "paper",
          "y": 0.010966853569854149,
          "yanchor": "middle"
         },
         {
          "font": {
           "color": "rgb(37,37,37)",
           "family": "Arial",
           "size": 20
          },
          "showarrow": false,
          "text": "US US News College Search Trends",
          "x": 0,
          "xanchor": "left",
          "xref": "paper",
          "y": 1.05,
          "yanchor": "bottom",
          "yref": "paper"
         },
         {
          "font": {
           "color": "rgb(150,150,150)",
           "family": "Arial",
           "size": 12
          },
          "showarrow": false,
          "text": "Source: Harvard Open Data Project",
          "x": 0.5,
          "xanchor": "center",
          "xref": "paper",
          "y": -0.1,
          "yanchor": "top",
          "yref": "paper"
         }
        ],
        "autosize": false,
        "margin": {
         "autoexpand": false,
         "l": 100,
         "r": 200,
         "t": 110
        },
        "plot_bgcolor": "white",
        "showlegend": true,
        "template": {
         "data": {
          "bar": [
           {
            "error_x": {
             "color": "#2a3f5f"
            },
            "error_y": {
             "color": "#2a3f5f"
            },
            "marker": {
             "line": {
              "color": "#E5ECF6",
              "width": 0.5
             }
            },
            "type": "bar"
           }
          ],
          "barpolar": [
           {
            "marker": {
             "line": {
              "color": "#E5ECF6",
              "width": 0.5
             }
            },
            "type": "barpolar"
           }
          ],
          "carpet": [
           {
            "aaxis": {
             "endlinecolor": "#2a3f5f",
             "gridcolor": "white",
             "linecolor": "white",
             "minorgridcolor": "white",
             "startlinecolor": "#2a3f5f"
            },
            "baxis": {
             "endlinecolor": "#2a3f5f",
             "gridcolor": "white",
             "linecolor": "white",
             "minorgridcolor": "white",
             "startlinecolor": "#2a3f5f"
            },
            "type": "carpet"
           }
          ],
          "choropleth": [
           {
            "colorbar": {
             "outlinewidth": 0,
             "ticks": ""
            },
            "type": "choropleth"
           }
          ],
          "contour": [
           {
            "colorbar": {
             "outlinewidth": 0,
             "ticks": ""
            },
            "colorscale": [
             [
              0,
              "#0d0887"
             ],
             [
              0.1111111111111111,
              "#46039f"
             ],
             [
              0.2222222222222222,
              "#7201a8"
             ],
             [
              0.3333333333333333,
              "#9c179e"
             ],
             [
              0.4444444444444444,
              "#bd3786"
             ],
             [
              0.5555555555555556,
              "#d8576b"
             ],
             [
              0.6666666666666666,
              "#ed7953"
             ],
             [
              0.7777777777777778,
              "#fb9f3a"
             ],
             [
              0.8888888888888888,
              "#fdca26"
             ],
             [
              1,
              "#f0f921"
             ]
            ],
            "type": "contour"
           }
          ],
          "contourcarpet": [
           {
            "colorbar": {
             "outlinewidth": 0,
             "ticks": ""
            },
            "type": "contourcarpet"
           }
          ],
          "heatmap": [
           {
            "colorbar": {
             "outlinewidth": 0,
             "ticks": ""
            },
            "colorscale": [
             [
              0,
              "#0d0887"
             ],
             [
              0.1111111111111111,
              "#46039f"
             ],
             [
              0.2222222222222222,
              "#7201a8"
             ],
             [
              0.3333333333333333,
              "#9c179e"
             ],
             [
              0.4444444444444444,
              "#bd3786"
             ],
             [
              0.5555555555555556,
              "#d8576b"
             ],
             [
              0.6666666666666666,
              "#ed7953"
             ],
             [
              0.7777777777777778,
              "#fb9f3a"
             ],
             [
              0.8888888888888888,
              "#fdca26"
             ],
             [
              1,
              "#f0f921"
             ]
            ],
            "type": "heatmap"
           }
          ],
          "heatmapgl": [
           {
            "colorbar": {
             "outlinewidth": 0,
             "ticks": ""
            },
            "colorscale": [
             [
              0,
              "#0d0887"
             ],
             [
              0.1111111111111111,
              "#46039f"
             ],
             [
              0.2222222222222222,
              "#7201a8"
             ],
             [
              0.3333333333333333,
              "#9c179e"
             ],
             [
              0.4444444444444444,
              "#bd3786"
             ],
             [
              0.5555555555555556,
              "#d8576b"
             ],
             [
              0.6666666666666666,
              "#ed7953"
             ],
             [
              0.7777777777777778,
              "#fb9f3a"
             ],
             [
              0.8888888888888888,
              "#fdca26"
             ],
             [
              1,
              "#f0f921"
             ]
            ],
            "type": "heatmapgl"
           }
          ],
          "histogram": [
           {
            "marker": {
             "colorbar": {
              "outlinewidth": 0,
              "ticks": ""
             }
            },
            "type": "histogram"
           }
          ],
          "histogram2d": [
           {
            "colorbar": {
             "outlinewidth": 0,
             "ticks": ""
            },
            "colorscale": [
             [
              0,
              "#0d0887"
             ],
             [
              0.1111111111111111,
              "#46039f"
             ],
             [
              0.2222222222222222,
              "#7201a8"
             ],
             [
              0.3333333333333333,
              "#9c179e"
             ],
             [
              0.4444444444444444,
              "#bd3786"
             ],
             [
              0.5555555555555556,
              "#d8576b"
             ],
             [
              0.6666666666666666,
              "#ed7953"
             ],
             [
              0.7777777777777778,
              "#fb9f3a"
             ],
             [
              0.8888888888888888,
              "#fdca26"
             ],
             [
              1,
              "#f0f921"
             ]
            ],
            "type": "histogram2d"
           }
          ],
          "histogram2dcontour": [
           {
            "colorbar": {
             "outlinewidth": 0,
             "ticks": ""
            },
            "colorscale": [
             [
              0,
              "#0d0887"
             ],
             [
              0.1111111111111111,
              "#46039f"
             ],
             [
              0.2222222222222222,
              "#7201a8"
             ],
             [
              0.3333333333333333,
              "#9c179e"
             ],
             [
              0.4444444444444444,
              "#bd3786"
             ],
             [
              0.5555555555555556,
              "#d8576b"
             ],
             [
              0.6666666666666666,
              "#ed7953"
             ],
             [
              0.7777777777777778,
              "#fb9f3a"
             ],
             [
              0.8888888888888888,
              "#fdca26"
             ],
             [
              1,
              "#f0f921"
             ]
            ],
            "type": "histogram2dcontour"
           }
          ],
          "mesh3d": [
           {
            "colorbar": {
             "outlinewidth": 0,
             "ticks": ""
            },
            "type": "mesh3d"
           }
          ],
          "parcoords": [
           {
            "line": {
             "colorbar": {
              "outlinewidth": 0,
              "ticks": ""
             }
            },
            "type": "parcoords"
           }
          ],
          "scatter": [
           {
            "marker": {
             "colorbar": {
              "outlinewidth": 0,
              "ticks": ""
             }
            },
            "type": "scatter"
           }
          ],
          "scatter3d": [
           {
            "line": {
             "colorbar": {
              "outlinewidth": 0,
              "ticks": ""
             }
            },
            "marker": {
             "colorbar": {
              "outlinewidth": 0,
              "ticks": ""
             }
            },
            "type": "scatter3d"
           }
          ],
          "scattercarpet": [
           {
            "marker": {
             "colorbar": {
              "outlinewidth": 0,
              "ticks": ""
             }
            },
            "type": "scattercarpet"
           }
          ],
          "scattergeo": [
           {
            "marker": {
             "colorbar": {
              "outlinewidth": 0,
              "ticks": ""
             }
            },
            "type": "scattergeo"
           }
          ],
          "scattergl": [
           {
            "marker": {
             "colorbar": {
              "outlinewidth": 0,
              "ticks": ""
             }
            },
            "type": "scattergl"
           }
          ],
          "scattermapbox": [
           {
            "marker": {
             "colorbar": {
              "outlinewidth": 0,
              "ticks": ""
             }
            },
            "type": "scattermapbox"
           }
          ],
          "scatterpolar": [
           {
            "marker": {
             "colorbar": {
              "outlinewidth": 0,
              "ticks": ""
             }
            },
            "type": "scatterpolar"
           }
          ],
          "scatterpolargl": [
           {
            "marker": {
             "colorbar": {
              "outlinewidth": 0,
              "ticks": ""
             }
            },
            "type": "scatterpolargl"
           }
          ],
          "scatterternary": [
           {
            "marker": {
             "colorbar": {
              "outlinewidth": 0,
              "ticks": ""
             }
            },
            "type": "scatterternary"
           }
          ],
          "surface": [
           {
            "colorbar": {
             "outlinewidth": 0,
             "ticks": ""
            },
            "colorscale": [
             [
              0,
              "#0d0887"
             ],
             [
              0.1111111111111111,
              "#46039f"
             ],
             [
              0.2222222222222222,
              "#7201a8"
             ],
             [
              0.3333333333333333,
              "#9c179e"
             ],
             [
              0.4444444444444444,
              "#bd3786"
             ],
             [
              0.5555555555555556,
              "#d8576b"
             ],
             [
              0.6666666666666666,
              "#ed7953"
             ],
             [
              0.7777777777777778,
              "#fb9f3a"
             ],
             [
              0.8888888888888888,
              "#fdca26"
             ],
             [
              1,
              "#f0f921"
             ]
            ],
            "type": "surface"
           }
          ],
          "table": [
           {
            "cells": {
             "fill": {
              "color": "#EBF0F8"
             },
             "line": {
              "color": "white"
             }
            },
            "header": {
             "fill": {
              "color": "#C8D4E3"
             },
             "line": {
              "color": "white"
             }
            },
            "type": "table"
           }
          ]
         },
         "layout": {
          "annotationdefaults": {
           "arrowcolor": "#2a3f5f",
           "arrowhead": 0,
           "arrowwidth": 1
          },
          "colorscale": {
           "diverging": [
            [
             0,
             "#8e0152"
            ],
            [
             0.1,
             "#c51b7d"
            ],
            [
             0.2,
             "#de77ae"
            ],
            [
             0.3,
             "#f1b6da"
            ],
            [
             0.4,
             "#fde0ef"
            ],
            [
             0.5,
             "#f7f7f7"
            ],
            [
             0.6,
             "#e6f5d0"
            ],
            [
             0.7,
             "#b8e186"
            ],
            [
             0.8,
             "#7fbc41"
            ],
            [
             0.9,
             "#4d9221"
            ],
            [
             1,
             "#276419"
            ]
           ],
           "sequential": [
            [
             0,
             "#0d0887"
            ],
            [
             0.1111111111111111,
             "#46039f"
            ],
            [
             0.2222222222222222,
             "#7201a8"
            ],
            [
             0.3333333333333333,
             "#9c179e"
            ],
            [
             0.4444444444444444,
             "#bd3786"
            ],
            [
             0.5555555555555556,
             "#d8576b"
            ],
            [
             0.6666666666666666,
             "#ed7953"
            ],
            [
             0.7777777777777778,
             "#fb9f3a"
            ],
            [
             0.8888888888888888,
             "#fdca26"
            ],
            [
             1,
             "#f0f921"
            ]
           ],
           "sequentialminus": [
            [
             0,
             "#0d0887"
            ],
            [
             0.1111111111111111,
             "#46039f"
            ],
            [
             0.2222222222222222,
             "#7201a8"
            ],
            [
             0.3333333333333333,
             "#9c179e"
            ],
            [
             0.4444444444444444,
             "#bd3786"
            ],
            [
             0.5555555555555556,
             "#d8576b"
            ],
            [
             0.6666666666666666,
             "#ed7953"
            ],
            [
             0.7777777777777778,
             "#fb9f3a"
            ],
            [
             0.8888888888888888,
             "#fdca26"
            ],
            [
             1,
             "#f0f921"
            ]
           ]
          },
          "colorway": [
           "#636efa",
           "#EF553B",
           "#00cc96",
           "#ab63fa",
           "#FFA15A",
           "#19d3f3",
           "#FF6692",
           "#B6E880",
           "#FF97FF",
           "#FECB52"
          ],
          "font": {
           "color": "#2a3f5f"
          },
          "geo": {
           "bgcolor": "white",
           "lakecolor": "white",
           "landcolor": "#E5ECF6",
           "showlakes": true,
           "showland": true,
           "subunitcolor": "white"
          },
          "hoverlabel": {
           "align": "left"
          },
          "hovermode": "closest",
          "mapbox": {
           "style": "light"
          },
          "paper_bgcolor": "white",
          "plot_bgcolor": "#E5ECF6",
          "polar": {
           "angularaxis": {
            "gridcolor": "white",
            "linecolor": "white",
            "ticks": ""
           },
           "bgcolor": "#E5ECF6",
           "radialaxis": {
            "gridcolor": "white",
            "linecolor": "white",
            "ticks": ""
           }
          },
          "scene": {
           "xaxis": {
            "backgroundcolor": "#E5ECF6",
            "gridcolor": "white",
            "gridwidth": 2,
            "linecolor": "white",
            "showbackground": true,
            "ticks": "",
            "zerolinecolor": "white"
           },
           "yaxis": {
            "backgroundcolor": "#E5ECF6",
            "gridcolor": "white",
            "gridwidth": 2,
            "linecolor": "white",
            "showbackground": true,
            "ticks": "",
            "zerolinecolor": "white"
           },
           "zaxis": {
            "backgroundcolor": "#E5ECF6",
            "gridcolor": "white",
            "gridwidth": 2,
            "linecolor": "white",
            "showbackground": true,
            "ticks": "",
            "zerolinecolor": "white"
           }
          },
          "shapedefaults": {
           "line": {
            "color": "#2a3f5f"
           }
          },
          "ternary": {
           "aaxis": {
            "gridcolor": "white",
            "linecolor": "white",
            "ticks": ""
           },
           "baxis": {
            "gridcolor": "white",
            "linecolor": "white",
            "ticks": ""
           },
           "bgcolor": "#E5ECF6",
           "caxis": {
            "gridcolor": "white",
            "linecolor": "white",
            "ticks": ""
           }
          },
          "title": {
           "x": 0.05
          },
          "xaxis": {
           "automargin": true,
           "gridcolor": "white",
           "linecolor": "white",
           "ticks": "",
           "zerolinecolor": "white",
           "zerolinewidth": 2
          },
          "yaxis": {
           "automargin": true,
           "gridcolor": "white",
           "linecolor": "white",
           "ticks": "",
           "zerolinecolor": "white",
           "zerolinewidth": 2
          }
         }
        },
        "xaxis": {
         "linecolor": "rgb(204, 204, 204)",
         "linewidth": 2,
         "showgrid": false,
         "showline": true,
         "showticklabels": true,
         "tickfont": {
          "color": "rgb(82, 82, 82)",
          "family": "Arial",
          "size": 12
         },
         "ticks": "outside"
        },
        "yaxis": {
         "showgrid": false,
         "showline": false,
         "showticklabels": false,
         "zeroline": false
        }
       }
      },
      "text/html": [
       "<div>\n",
       "        \n",
       "        \n",
       "            <div id=\"91cd322c-643c-448c-af8b-c68945265210\" class=\"plotly-graph-div\" style=\"height:525px; width:100%;\"></div>\n",
       "            <script type=\"text/javascript\">\n",
       "                require([\"plotly\"], function(Plotly) {\n",
       "                    window.PLOTLYENV=window.PLOTLYENV || {};\n",
       "                    \n",
       "                if (document.getElementById(\"91cd322c-643c-448c-af8b-c68945265210\")) {\n",
       "                    Plotly.newPlot(\n",
       "                        '91cd322c-643c-448c-af8b-c68945265210',\n",
       "                        [{\"connectgaps\": true, \"line\": {\"color\": \"#d2c295\", \"width\": 2}, \"mode\": \"lines\", \"name\": \"Stanford University\", \"type\": \"scatter\", \"x\": [2015, 2016, 2017, 2018, 2019], \"y\": [0.13341692679012623, 0.15325789685809824, 0.133089983882557, 0.13075490678173177, 0.11805495313431223]}, {\"marker\": {\"color\": \"#d2c295\", \"size\": 8}, \"mode\": \"markers\", \"showlegend\": false, \"type\": \"scatter\", \"x\": [2015, 2019], \"y\": [0.13341692679012623, 0.11805495313431223]}, {\"connectgaps\": true, \"line\": {\"color\": \"#A51C30\", \"width\": 2}, \"mode\": \"lines\", \"name\": \"Harvard University\", \"type\": \"scatter\", \"x\": [2015, 2016, 2017, 2018, 2019], \"y\": [0.13633148160766875, 0.1296353446970056, 0.1379939400365084, 0.13397324176729727, 0.12992844642695242]}, {\"marker\": {\"color\": \"#A51C30\", \"size\": 8}, \"mode\": \"markers\", \"showlegend\": false, \"type\": \"scatter\", \"x\": [2015, 2019], \"y\": [0.13633148160766875, 0.12992844642695242]}, {\"connectgaps\": true, \"line\": {\"color\": \"#552614\", \"width\": 2}, \"mode\": \"lines\", \"name\": \"Duke University\", \"type\": \"scatter\", \"x\": [2015, 2016, 2017, 2018, 2019], \"y\": [0.12314464193603983, 0.10910723808645213, 0.11895672878156865, 0.1262385199425987, 0.15972899669975799]}, {\"marker\": {\"color\": \"#552614\", \"size\": 8}, \"mode\": \"markers\", \"showlegend\": false, \"type\": \"scatter\", \"x\": [2015, 2019], \"y\": [0.12314464193603983, 0.15972899669975799]}, {\"connectgaps\": true, \"line\": {\"color\": \"#2E5B42\", \"width\": 2}, \"mode\": \"lines\", \"name\": \"University of Notre Dame\", \"type\": \"scatter\", \"x\": [2015, 2016, 2017, 2018, 2019], \"y\": [0.06581456567762843, 0.07802220203684998, 0.06590583147280862, 0.08901746280879302, 0.10145188379790773]}, {\"marker\": {\"color\": \"#2E5B42\", \"size\": 8}, \"mode\": \"markers\", \"showlegend\": false, \"type\": \"scatter\", \"x\": [2015, 2019], \"y\": [0.06581456567762843, 0.10145188379790773]}, {\"connectgaps\": true, \"line\": {\"color\": \"#0f4d92\", \"width\": 2}, \"mode\": \"lines\", \"name\": \"Yale University\", \"type\": \"scatter\", \"x\": [2015, 2016, 2017, 2018, 2019], \"y\": [0.07869298007364889, 0.08485039989850489, 0.07918210972261484, 0.08011599857684377, 0.07537314464623127]}, {\"marker\": {\"color\": \"#0f4d92\", \"size\": 8}, \"mode\": \"markers\", \"showlegend\": false, \"type\": \"scatter\", \"x\": [2015, 2019], \"y\": [0.07869298007364889, 0.07537314464623127]}, {\"connectgaps\": true, \"line\": {\"color\": \"#8A8B8C\", \"width\": 2}, \"mode\": \"lines\", \"name\": \"Massachusetts Institute of Technology\", \"type\": \"scatter\", \"x\": [2015, 2016, 2017, 2018, 2019], \"y\": [0.07829478662609093, 0.06973799139587172, 0.07314053079036943, 0.06730815666389016, 0.06261044701008939]}, {\"marker\": {\"color\": \"#8A8B8C\", \"size\": 8}, \"mode\": \"markers\", \"showlegend\": false, \"type\": \"scatter\", \"x\": [2015, 2019], \"y\": [0.07829478662609093, 0.06261044701008939]}, {\"connectgaps\": true, \"line\": {\"color\": \"#C44746\", \"width\": 2}, \"mode\": \"lines\", \"name\": \"Northwestern University\", \"type\": \"scatter\", \"x\": [2015, 2016, 2017, 2018, 2019], \"y\": [0.06384368275846529, 0.06181917859798035, 0.07099597819003448, 0.06719502370417556, 0.06601615776363179]}, {\"marker\": {\"color\": \"#C44746\", \"size\": 8}, \"mode\": \"markers\", \"showlegend\": false, \"type\": \"scatter\", \"x\": [2015, 2019], \"y\": [0.06384368275846529, 0.06601615776363179]}, {\"connectgaps\": true, \"line\": {\"color\": \"#011F5B\", \"width\": 2}, \"mode\": \"lines\", \"name\": \"University of Pennsylvania\", \"type\": \"scatter\", \"x\": [2015, 2016, 2017, 2018, 2019], \"y\": [0.0580118078911055, 0.06181917859798035, 0.06572073522854587, 0.062458325311913976, 0.057737258500114456]}, {\"marker\": {\"color\": \"#011F5B\", \"size\": 8}, \"mode\": \"markers\", \"showlegend\": false, \"type\": \"scatter\", \"x\": [2015, 2019], \"y\": [0.0580118078911055, 0.057737258500114456]}, {\"connectgaps\": true, \"line\": {\"color\": \"#AF4170\", \"width\": 2}, \"mode\": \"lines\", \"name\": \"Johns Hopkins University\", \"type\": \"scatter\", \"x\": [2015, 2016, 2017, 2018, 2019], \"y\": [0.056477103978642376, 0.05251018041845145, 0.05459876465140737, 0.05102415570454775, 0.04812513390065406]}, {\"marker\": {\"color\": \"#AF4170\", \"size\": 8}, \"mode\": \"markers\", \"showlegend\": false, \"type\": \"scatter\", \"x\": [2015, 2019], \"y\": [0.056477103978642376, 0.04812513390065406]}, {\"connectgaps\": true, \"line\": {\"color\": \"#B9D9EB\", \"width\": 2}, \"mode\": \"lines\", \"name\": \"Columbia University\", \"type\": \"scatter\", \"x\": [2015, 2016, 2017, 2018, 2019], \"y\": [0.05554798593434039, 0.0516131426601556, 0.053465300285357766, 0.050749063981452236, 0.04806934068694418]}, {\"marker\": {\"color\": \"#B9D9EB\", \"size\": 8}, \"mode\": \"markers\", \"showlegend\": false, \"type\": \"scatter\", \"x\": [2015, 2019], \"y\": [0.05554798593434039, 0.04806934068694418]}, {\"connectgaps\": true, \"line\": {\"color\": \"#ff8f00\", \"width\": 2}, \"mode\": \"lines\", \"name\": \"Princeton University\", \"type\": \"scatter\", \"x\": [2015, 2016, 2017, 2018, 2019], \"y\": [0.04176053781264482, 0.041320638530455346, 0.04250491372685946, 0.03815557925532631, 0.036143541256450966]}, {\"marker\": {\"color\": \"#ff8f00\", \"size\": 8}, \"mode\": \"markers\", \"showlegend\": false, \"type\": \"scatter\", \"x\": [2015, 2019], \"y\": [0.04176053781264482, 0.036143541256450966]}, {\"connectgaps\": true, \"line\": {\"color\": \"#00C547\", \"width\": 2}, \"mode\": \"lines\", \"name\": \"University of Chicago\", \"type\": \"scatter\", \"x\": [2015, 2016, 2017, 2018, 2019], \"y\": [0.035605130769144094, 0.03447012629670358, 0.03472868282980017, 0.03491938117085846, 0.03279304253730897]}, {\"marker\": {\"color\": \"#00C547\", \"size\": 8}, \"mode\": \"markers\", \"showlegend\": false, \"type\": \"scatter\", \"x\": [2015, 2019], \"y\": [0.035605130769144094, 0.03279304253730897]}, {\"connectgaps\": true, \"line\": {\"color\": \"#4E3629\", \"width\": 2}, \"mode\": \"lines\", \"name\": \"Brown University\", \"type\": \"scatter\", \"x\": [2015, 2016, 2017, 2018, 2019], \"y\": [0.03266496116842531, 0.03294922567220357, 0.03133910785673837, 0.030681282609361253, 0.02913176582951965]}, {\"marker\": {\"color\": \"#4E3629\", \"size\": 8}, \"mode\": \"markers\", \"showlegend\": false, \"type\": \"scatter\", \"x\": [2015, 2019], \"y\": [0.03266496116842531, 0.02913176582951965]}, {\"connectgaps\": true, \"line\": {\"color\": \"#00693e\", \"width\": 2}, \"mode\": \"lines\", \"name\": \"Dartmouth College\", \"type\": \"scatter\", \"x\": [2015, 2016, 2017, 2018, 2019], \"y\": [0.027379117798341845, 0.026874314034914994, 0.026376214807443163, 0.026040825579782136, 0.023869034240270794]}, {\"marker\": {\"color\": \"#00693e\", \"size\": 8}, \"mode\": \"markers\", \"showlegend\": false, \"type\": \"scatter\", \"x\": [2015, 2019], \"y\": [0.027379117798341845, 0.023869034240270794]}, {\"connectgaps\": true, \"line\": {\"color\": \"#A457EA\", \"width\": 2}, \"mode\": \"lines\", \"name\": \"California Institute of Technology\", \"type\": \"scatter\", \"x\": [2015, 2016, 2017, 2018, 2019], \"y\": [0.013014289177687162, 0.012012942218372145, 0.012001177737386645, 0.011368076141427739, 0.010966853569854149]}, {\"marker\": {\"color\": \"#A457EA\", \"size\": 8}, \"mode\": \"markers\", \"showlegend\": false, \"type\": \"scatter\", \"x\": [2015, 2019], \"y\": [0.013014289177687162, 0.010966853569854149]}],\n",
       "                        {\"annotations\": [{\"font\": {\"family\": \"Arial\", \"size\": 12}, \"showarrow\": false, \"text\": \"0.12\", \"x\": 1.025, \"xanchor\": \"right\", \"xref\": \"paper\", \"y\": 0.11805495313431223, \"yanchor\": \"middle\"}, {\"font\": {\"family\": \"Arial\", \"size\": 12}, \"showarrow\": false, \"text\": \"0.13\", \"x\": 1.025, \"xanchor\": \"right\", \"xref\": \"paper\", \"y\": 0.12992844642695242, \"yanchor\": \"middle\"}, {\"font\": {\"family\": \"Arial\", \"size\": 12}, \"showarrow\": false, \"text\": \"0.16\", \"x\": 1.025, \"xanchor\": \"right\", \"xref\": \"paper\", \"y\": 0.15972899669975799, \"yanchor\": \"middle\"}, {\"font\": {\"family\": \"Arial\", \"size\": 12}, \"showarrow\": false, \"text\": \"0.10\", \"x\": 1.025, \"xanchor\": \"right\", \"xref\": \"paper\", \"y\": 0.10145188379790773, \"yanchor\": \"middle\"}, {\"font\": {\"family\": \"Arial\", \"size\": 12}, \"showarrow\": false, \"text\": \"0.08\", \"x\": 1.025, \"xanchor\": \"right\", \"xref\": \"paper\", \"y\": 0.07537314464623127, \"yanchor\": \"middle\"}, {\"font\": {\"family\": \"Arial\", \"size\": 12}, \"showarrow\": false, \"text\": \"0.06\", \"x\": 1.025, \"xanchor\": \"right\", \"xref\": \"paper\", \"y\": 0.06261044701008939, \"yanchor\": \"middle\"}, {\"font\": {\"family\": \"Arial\", \"size\": 12}, \"showarrow\": false, \"text\": \"0.07\", \"x\": 1.025, \"xanchor\": \"right\", \"xref\": \"paper\", \"y\": 0.06601615776363179, \"yanchor\": \"middle\"}, {\"font\": {\"family\": \"Arial\", \"size\": 12}, \"showarrow\": false, \"text\": \"0.06\", \"x\": 1.025, \"xanchor\": \"right\", \"xref\": \"paper\", \"y\": 0.057737258500114456, \"yanchor\": \"middle\"}, {\"font\": {\"family\": \"Arial\", \"size\": 12}, \"showarrow\": false, \"text\": \"0.05\", \"x\": 1.025, \"xanchor\": \"right\", \"xref\": \"paper\", \"y\": 0.04812513390065406, \"yanchor\": \"middle\"}, {\"font\": {\"family\": \"Arial\", \"size\": 12}, \"showarrow\": false, \"text\": \"0.05\", \"x\": 1.025, \"xanchor\": \"right\", \"xref\": \"paper\", \"y\": 0.04806934068694418, \"yanchor\": \"middle\"}, {\"font\": {\"family\": \"Arial\", \"size\": 12}, \"showarrow\": false, \"text\": \"0.04\", \"x\": 1.025, \"xanchor\": \"right\", \"xref\": \"paper\", \"y\": 0.036143541256450966, \"yanchor\": \"middle\"}, {\"font\": {\"family\": \"Arial\", \"size\": 12}, \"showarrow\": false, \"text\": \"0.03\", \"x\": 1.025, \"xanchor\": \"right\", \"xref\": \"paper\", \"y\": 0.03279304253730897, \"yanchor\": \"middle\"}, {\"font\": {\"family\": \"Arial\", \"size\": 12}, \"showarrow\": false, \"text\": \"0.03\", \"x\": 1.025, \"xanchor\": \"right\", \"xref\": \"paper\", \"y\": 0.02913176582951965, \"yanchor\": \"middle\"}, {\"font\": {\"family\": \"Arial\", \"size\": 12}, \"showarrow\": false, \"text\": \"0.02\", \"x\": 1.025, \"xanchor\": \"right\", \"xref\": \"paper\", \"y\": 0.023869034240270794, \"yanchor\": \"middle\"}, {\"font\": {\"family\": \"Arial\", \"size\": 12}, \"showarrow\": false, \"text\": \"0.01\", \"x\": 1.025, \"xanchor\": \"right\", \"xref\": \"paper\", \"y\": 0.010966853569854149, \"yanchor\": \"middle\"}, {\"font\": {\"color\": \"rgb(37,37,37)\", \"family\": \"Arial\", \"size\": 20}, \"showarrow\": false, \"text\": \"US US News College Search Trends\", \"x\": 0.0, \"xanchor\": \"left\", \"xref\": \"paper\", \"y\": 1.05, \"yanchor\": \"bottom\", \"yref\": \"paper\"}, {\"font\": {\"color\": \"rgb(150,150,150)\", \"family\": \"Arial\", \"size\": 12}, \"showarrow\": false, \"text\": \"Source: Harvard Open Data Project\", \"x\": 0.5, \"xanchor\": \"center\", \"xref\": \"paper\", \"y\": -0.1, \"yanchor\": \"top\", \"yref\": \"paper\"}], \"autosize\": false, \"margin\": {\"autoexpand\": false, \"l\": 100, \"r\": 200, \"t\": 110}, \"plot_bgcolor\": \"white\", \"showlegend\": true, \"template\": {\"data\": {\"bar\": [{\"error_x\": {\"color\": \"#2a3f5f\"}, \"error_y\": {\"color\": \"#2a3f5f\"}, \"marker\": {\"line\": {\"color\": \"#E5ECF6\", \"width\": 0.5}}, \"type\": \"bar\"}], \"barpolar\": [{\"marker\": {\"line\": {\"color\": \"#E5ECF6\", \"width\": 0.5}}, \"type\": \"barpolar\"}], \"carpet\": [{\"aaxis\": {\"endlinecolor\": \"#2a3f5f\", \"gridcolor\": \"white\", \"linecolor\": \"white\", \"minorgridcolor\": \"white\", \"startlinecolor\": \"#2a3f5f\"}, \"baxis\": {\"endlinecolor\": \"#2a3f5f\", \"gridcolor\": \"white\", \"linecolor\": \"white\", \"minorgridcolor\": \"white\", \"startlinecolor\": \"#2a3f5f\"}, \"type\": \"carpet\"}], \"choropleth\": [{\"colorbar\": {\"outlinewidth\": 0, \"ticks\": \"\"}, \"type\": \"choropleth\"}], \"contour\": [{\"colorbar\": {\"outlinewidth\": 0, \"ticks\": \"\"}, \"colorscale\": [[0.0, \"#0d0887\"], [0.1111111111111111, \"#46039f\"], [0.2222222222222222, \"#7201a8\"], [0.3333333333333333, \"#9c179e\"], [0.4444444444444444, \"#bd3786\"], [0.5555555555555556, \"#d8576b\"], [0.6666666666666666, \"#ed7953\"], [0.7777777777777778, \"#fb9f3a\"], [0.8888888888888888, \"#fdca26\"], [1.0, \"#f0f921\"]], \"type\": \"contour\"}], \"contourcarpet\": [{\"colorbar\": {\"outlinewidth\": 0, \"ticks\": \"\"}, \"type\": \"contourcarpet\"}], \"heatmap\": [{\"colorbar\": {\"outlinewidth\": 0, \"ticks\": \"\"}, \"colorscale\": [[0.0, \"#0d0887\"], [0.1111111111111111, \"#46039f\"], [0.2222222222222222, \"#7201a8\"], [0.3333333333333333, \"#9c179e\"], [0.4444444444444444, \"#bd3786\"], [0.5555555555555556, \"#d8576b\"], [0.6666666666666666, \"#ed7953\"], [0.7777777777777778, \"#fb9f3a\"], [0.8888888888888888, \"#fdca26\"], [1.0, \"#f0f921\"]], \"type\": \"heatmap\"}], \"heatmapgl\": [{\"colorbar\": {\"outlinewidth\": 0, \"ticks\": \"\"}, \"colorscale\": [[0.0, \"#0d0887\"], [0.1111111111111111, \"#46039f\"], [0.2222222222222222, \"#7201a8\"], [0.3333333333333333, \"#9c179e\"], [0.4444444444444444, \"#bd3786\"], [0.5555555555555556, \"#d8576b\"], [0.6666666666666666, \"#ed7953\"], [0.7777777777777778, \"#fb9f3a\"], [0.8888888888888888, \"#fdca26\"], [1.0, \"#f0f921\"]], \"type\": \"heatmapgl\"}], \"histogram\": [{\"marker\": {\"colorbar\": {\"outlinewidth\": 0, \"ticks\": \"\"}}, \"type\": \"histogram\"}], \"histogram2d\": [{\"colorbar\": {\"outlinewidth\": 0, \"ticks\": \"\"}, \"colorscale\": [[0.0, \"#0d0887\"], [0.1111111111111111, \"#46039f\"], [0.2222222222222222, \"#7201a8\"], [0.3333333333333333, \"#9c179e\"], [0.4444444444444444, \"#bd3786\"], [0.5555555555555556, \"#d8576b\"], [0.6666666666666666, \"#ed7953\"], [0.7777777777777778, \"#fb9f3a\"], [0.8888888888888888, \"#fdca26\"], [1.0, \"#f0f921\"]], \"type\": \"histogram2d\"}], \"histogram2dcontour\": [{\"colorbar\": {\"outlinewidth\": 0, \"ticks\": \"\"}, \"colorscale\": [[0.0, \"#0d0887\"], [0.1111111111111111, \"#46039f\"], [0.2222222222222222, \"#7201a8\"], [0.3333333333333333, \"#9c179e\"], [0.4444444444444444, \"#bd3786\"], [0.5555555555555556, \"#d8576b\"], [0.6666666666666666, \"#ed7953\"], [0.7777777777777778, \"#fb9f3a\"], [0.8888888888888888, \"#fdca26\"], [1.0, \"#f0f921\"]], \"type\": \"histogram2dcontour\"}], \"mesh3d\": [{\"colorbar\": {\"outlinewidth\": 0, \"ticks\": \"\"}, \"type\": \"mesh3d\"}], \"parcoords\": [{\"line\": {\"colorbar\": {\"outlinewidth\": 0, \"ticks\": \"\"}}, \"type\": \"parcoords\"}], \"scatter\": [{\"marker\": {\"colorbar\": {\"outlinewidth\": 0, \"ticks\": \"\"}}, \"type\": \"scatter\"}], \"scatter3d\": [{\"line\": {\"colorbar\": {\"outlinewidth\": 0, \"ticks\": \"\"}}, \"marker\": {\"colorbar\": {\"outlinewidth\": 0, \"ticks\": \"\"}}, \"type\": \"scatter3d\"}], \"scattercarpet\": [{\"marker\": {\"colorbar\": {\"outlinewidth\": 0, \"ticks\": \"\"}}, \"type\": \"scattercarpet\"}], \"scattergeo\": [{\"marker\": {\"colorbar\": {\"outlinewidth\": 0, \"ticks\": \"\"}}, \"type\": \"scattergeo\"}], \"scattergl\": [{\"marker\": {\"colorbar\": {\"outlinewidth\": 0, \"ticks\": \"\"}}, \"type\": \"scattergl\"}], \"scattermapbox\": [{\"marker\": {\"colorbar\": {\"outlinewidth\": 0, \"ticks\": \"\"}}, \"type\": \"scattermapbox\"}], \"scatterpolar\": [{\"marker\": {\"colorbar\": {\"outlinewidth\": 0, \"ticks\": \"\"}}, \"type\": \"scatterpolar\"}], \"scatterpolargl\": [{\"marker\": {\"colorbar\": {\"outlinewidth\": 0, \"ticks\": \"\"}}, \"type\": \"scatterpolargl\"}], \"scatterternary\": [{\"marker\": {\"colorbar\": {\"outlinewidth\": 0, \"ticks\": \"\"}}, \"type\": \"scatterternary\"}], \"surface\": [{\"colorbar\": {\"outlinewidth\": 0, \"ticks\": \"\"}, \"colorscale\": [[0.0, \"#0d0887\"], [0.1111111111111111, \"#46039f\"], [0.2222222222222222, \"#7201a8\"], [0.3333333333333333, \"#9c179e\"], [0.4444444444444444, \"#bd3786\"], [0.5555555555555556, \"#d8576b\"], [0.6666666666666666, \"#ed7953\"], [0.7777777777777778, \"#fb9f3a\"], [0.8888888888888888, \"#fdca26\"], [1.0, \"#f0f921\"]], \"type\": \"surface\"}], \"table\": [{\"cells\": {\"fill\": {\"color\": \"#EBF0F8\"}, \"line\": {\"color\": \"white\"}}, \"header\": {\"fill\": {\"color\": \"#C8D4E3\"}, \"line\": {\"color\": \"white\"}}, \"type\": \"table\"}]}, \"layout\": {\"annotationdefaults\": {\"arrowcolor\": \"#2a3f5f\", \"arrowhead\": 0, \"arrowwidth\": 1}, \"colorscale\": {\"diverging\": [[0, \"#8e0152\"], [0.1, \"#c51b7d\"], [0.2, \"#de77ae\"], [0.3, \"#f1b6da\"], [0.4, \"#fde0ef\"], [0.5, \"#f7f7f7\"], [0.6, \"#e6f5d0\"], [0.7, \"#b8e186\"], [0.8, \"#7fbc41\"], [0.9, \"#4d9221\"], [1, \"#276419\"]], \"sequential\": [[0.0, \"#0d0887\"], [0.1111111111111111, \"#46039f\"], [0.2222222222222222, \"#7201a8\"], [0.3333333333333333, \"#9c179e\"], [0.4444444444444444, \"#bd3786\"], [0.5555555555555556, \"#d8576b\"], [0.6666666666666666, \"#ed7953\"], [0.7777777777777778, \"#fb9f3a\"], [0.8888888888888888, \"#fdca26\"], [1.0, \"#f0f921\"]], \"sequentialminus\": [[0.0, \"#0d0887\"], [0.1111111111111111, \"#46039f\"], [0.2222222222222222, \"#7201a8\"], [0.3333333333333333, \"#9c179e\"], [0.4444444444444444, \"#bd3786\"], [0.5555555555555556, \"#d8576b\"], [0.6666666666666666, \"#ed7953\"], [0.7777777777777778, \"#fb9f3a\"], [0.8888888888888888, \"#fdca26\"], [1.0, \"#f0f921\"]]}, \"colorway\": [\"#636efa\", \"#EF553B\", \"#00cc96\", \"#ab63fa\", \"#FFA15A\", \"#19d3f3\", \"#FF6692\", \"#B6E880\", \"#FF97FF\", \"#FECB52\"], \"font\": {\"color\": \"#2a3f5f\"}, \"geo\": {\"bgcolor\": \"white\", \"lakecolor\": \"white\", \"landcolor\": \"#E5ECF6\", \"showlakes\": true, \"showland\": true, \"subunitcolor\": \"white\"}, \"hoverlabel\": {\"align\": \"left\"}, \"hovermode\": \"closest\", \"mapbox\": {\"style\": \"light\"}, \"paper_bgcolor\": \"white\", \"plot_bgcolor\": \"#E5ECF6\", \"polar\": {\"angularaxis\": {\"gridcolor\": \"white\", \"linecolor\": \"white\", \"ticks\": \"\"}, \"bgcolor\": \"#E5ECF6\", \"radialaxis\": {\"gridcolor\": \"white\", \"linecolor\": \"white\", \"ticks\": \"\"}}, \"scene\": {\"xaxis\": {\"backgroundcolor\": \"#E5ECF6\", \"gridcolor\": \"white\", \"gridwidth\": 2, \"linecolor\": \"white\", \"showbackground\": true, \"ticks\": \"\", \"zerolinecolor\": \"white\"}, \"yaxis\": {\"backgroundcolor\": \"#E5ECF6\", \"gridcolor\": \"white\", \"gridwidth\": 2, \"linecolor\": \"white\", \"showbackground\": true, \"ticks\": \"\", \"zerolinecolor\": \"white\"}, \"zaxis\": {\"backgroundcolor\": \"#E5ECF6\", \"gridcolor\": \"white\", \"gridwidth\": 2, \"linecolor\": \"white\", \"showbackground\": true, \"ticks\": \"\", \"zerolinecolor\": \"white\"}}, \"shapedefaults\": {\"line\": {\"color\": \"#2a3f5f\"}}, \"ternary\": {\"aaxis\": {\"gridcolor\": \"white\", \"linecolor\": \"white\", \"ticks\": \"\"}, \"baxis\": {\"gridcolor\": \"white\", \"linecolor\": \"white\", \"ticks\": \"\"}, \"bgcolor\": \"#E5ECF6\", \"caxis\": {\"gridcolor\": \"white\", \"linecolor\": \"white\", \"ticks\": \"\"}}, \"title\": {\"x\": 0.05}, \"xaxis\": {\"automargin\": true, \"gridcolor\": \"white\", \"linecolor\": \"white\", \"ticks\": \"\", \"zerolinecolor\": \"white\", \"zerolinewidth\": 2}, \"yaxis\": {\"automargin\": true, \"gridcolor\": \"white\", \"linecolor\": \"white\", \"ticks\": \"\", \"zerolinecolor\": \"white\", \"zerolinewidth\": 2}}}, \"xaxis\": {\"linecolor\": \"rgb(204, 204, 204)\", \"linewidth\": 2, \"showgrid\": false, \"showline\": true, \"showticklabels\": true, \"tickfont\": {\"color\": \"rgb(82, 82, 82)\", \"family\": \"Arial\", \"size\": 12}, \"ticks\": \"outside\"}, \"yaxis\": {\"showgrid\": false, \"showline\": false, \"showticklabels\": false, \"zeroline\": false}},\n",
       "                        {\"responsive\": true}\n",
       "                    ).then(function(){\n",
       "                            \n",
       "var gd = document.getElementById('91cd322c-643c-448c-af8b-c68945265210');\n",
       "var x = new MutationObserver(function (mutations, observer) {{\n",
       "        var display = window.getComputedStyle(gd).display;\n",
       "        if (!display || display === 'none') {{\n",
       "            console.log([gd, 'removed!']);\n",
       "            Plotly.purge(gd);\n",
       "            observer.disconnect();\n",
       "        }}\n",
       "}});\n",
       "\n",
       "// Listen for the removal of the full notebook cells\n",
       "var notebookContainer = gd.closest('#notebook-container');\n",
       "if (notebookContainer) {{\n",
       "    x.observe(notebookContainer, {childList: true});\n",
       "}}\n",
       "\n",
       "// Listen for the clearing of the current output cell\n",
       "var outputEl = gd.closest('.output');\n",
       "if (outputEl) {{\n",
       "    x.observe(outputEl, {childList: true});\n",
       "}}\n",
       "\n",
       "                        })\n",
       "                };\n",
       "                });\n",
       "            </script>\n",
       "        </div>"
      ]
     },
     "metadata": {},
     "output_type": "display_data"
    }
   ],
   "source": [
    "from collegeData import *\n",
    "import plotly.graph_objects as go\n",
    "from googleTrendsUpgrade import *\n",
    "from IPython.display import Image\n",
    "import os\n",
    "\n",
    "if not os.path.exists(\"images\"):\n",
    "    os.mkdir(\"images\")\n",
    "\n",
    "def graphRankings(data, colors, title):\n",
    "    \n",
    "    labels = data.columns\n",
    "    mode_size = [8] * len(data.columns)\n",
    "    line_size = [2] * len(data.columns)\n",
    "\n",
    "\n",
    "    x_data = np.vstack((np.arange(data.index.tolist()[0], data.index.tolist()[-1]+1),)*len(data.columns))\n",
    "\n",
    "    y_data = data.values.T\n",
    "\n",
    "    fig = go.Figure()\n",
    "\n",
    "    for i in range(0, len(data.columns)):\n",
    "        fig.add_trace(go.Scatter(x=x_data[i], y=y_data[i], mode='lines',\n",
    "            name=labels[i],\n",
    "            line=dict(color=colors[i], width=line_size[i]),\n",
    "            connectgaps=True,\n",
    "        ))\n",
    "\n",
    "        # endpoints\n",
    "        fig.add_trace(go.Scatter(\n",
    "            x=[x_data[i][0], x_data[i][-1]],\n",
    "            y=[y_data[i][0], y_data[i][-1]],\n",
    "            mode='markers',\n",
    "            marker=dict(color=colors[i], size=mode_size[i]),\n",
    "            showlegend=False\n",
    "        ))\n",
    "\n",
    "    fig.update_layout(\n",
    "        xaxis=dict(\n",
    "            showline=True,\n",
    "            showgrid=False,\n",
    "            showticklabels=True,\n",
    "            linecolor='rgb(204, 204, 204)',\n",
    "            linewidth=2,\n",
    "            ticks='outside',\n",
    "            tickfont=dict(\n",
    "                family='Arial',\n",
    "                size=12,\n",
    "                color='rgb(82, 82, 82)',\n",
    "            ),\n",
    "        ),\n",
    "        yaxis=dict(\n",
    "            showgrid=False,\n",
    "            zeroline=False,\n",
    "            showline=False,\n",
    "            showticklabels=False,\n",
    "        ),\n",
    "        autosize=False,\n",
    "        margin=dict(\n",
    "            autoexpand=False,\n",
    "            l=100,\n",
    "            r=200,\n",
    "            t=110,\n",
    "        ),\n",
    "        showlegend=True,\n",
    "        plot_bgcolor='white'\n",
    "        \n",
    "    )\n",
    "\n",
    "    annotations = []\n",
    "\n",
    "    # Adding labels\n",
    "\n",
    "    for y_trace, label, color in zip(y_data, labels, colors):\n",
    "    #     # labeling the left_side of the plot\n",
    "    #     annotations.append(dict(xref='paper', x=0.05, y=y_trace[0],\n",
    "    #                                   xanchor='right', yanchor='middle',\n",
    "    #                                   text=label,\n",
    "    #                                   font=dict(family='Arial',\n",
    "    #                                             size=12),\n",
    "    #                                   showarrow=False))\n",
    "        # labeling the RIGHT side of the plot\n",
    "        annotations.append(dict(xref='paper', x=1.025, y=y_trace[-1],\n",
    "                                      xanchor='right', yanchor='middle',\n",
    "                                      text='{0:.2f}'.format(y_trace[-1]),\n",
    "                                      font=dict(family='Arial',\n",
    "                                                size=12),\n",
    "                                      showarrow=False))\n",
    "    # Title\n",
    "    annotations.append(dict(xref='paper', yref='paper', x=0.0, y=1.05,\n",
    "                                  xanchor='left', yanchor='bottom',\n",
    "                                  text=title, \n",
    "                                  font=dict(family='Arial',\n",
    "                                            size=20,\n",
    "                                            color='rgb(37,37,37)'),\n",
    "                                  showarrow=False))\n",
    "    # Source\n",
    "    annotations.append(dict(xref='paper', yref='paper', x=0.5, y=-0.1,\n",
    "                                  xanchor='center', yanchor='top',\n",
    "                                  text='Source: Harvard Open Data Project',\n",
    "                                  font=dict(family='Arial',\n",
    "                                            size=12,\n",
    "                                            color='rgb(150,150,150)'),\n",
    "                                  showarrow=False))\n",
    "\n",
    "\n",
    "    fig.update_layout(annotations=annotations)\n",
    "    \n",
    "\n",
    "    fig.write_image(f\"images/{title}-2.png\", scale=4)\n",
    "\n",
    "    fig.show()\n",
    "    \n",
    "\n",
    " ## GLOBAL HYPSM and IVY LEAGUE RANKINGS \n",
    "title2 = 'US HYPSM College Search Trends'\n",
    "colors = ['#d2c295', '#A51C30', '#0f4d92', '#8A8B8C', '#ff8f00']\n",
    "trends2 = getTrendsData(colleges_HYPSM, 'US', '2014-10-30 2019-10-30', True)\n",
    "annual_averages2 = getAnnualAverages(trends2, 5, 2015)\n",
    "graphRankings(annual_averages2, getColors(annual_averages2.columns), title2)\n",
    "\n",
    "title3 = 'US Ivy League College Search Trends'\n",
    "trends3 = getTrendsData(colleges_ivyLeague, 'US', '2014-10-30 2019-10-30', True)\n",
    "annual_averages3 = getAnnualAverages(trends3, 5, 2015)\n",
    "\n",
    "graphRankings(annual_averages3, getColors(annual_averages3.columns), title3)\n",
    "\n",
    "title4 = 'US US News College Search Trends'\n",
    "trends4 = getTrendsData(colleges_USNews[:15], 'US', '2014-10-30 2019-10-30', True)\n",
    "annual_averages4 = getAnnualAverages(trends4, 5, 2015)\n",
    "\n",
    "graphRankings(annual_averages4, getColors(annual_averages4.columns), title4)\n",
    "\n",
    "\n"
   ]
  },
  {
   "cell_type": "code",
   "execution_count": null,
   "metadata": {},
   "outputs": [],
   "source": []
  },
  {
   "cell_type": "code",
   "execution_count": null,
   "metadata": {},
   "outputs": [],
   "source": []
  }
 ],
 "metadata": {
  "kernelspec": {
   "display_name": "Python 3",
   "language": "python",
   "name": "python3"
  },
  "language_info": {
   "codemirror_mode": {
    "name": "ipython",
    "version": 3
   },
   "file_extension": ".py",
   "mimetype": "text/x-python",
   "name": "python",
   "nbconvert_exporter": "python",
   "pygments_lexer": "ipython3",
   "version": "3.7.3"
  }
 },
 "nbformat": 4,
 "nbformat_minor": 2
}
